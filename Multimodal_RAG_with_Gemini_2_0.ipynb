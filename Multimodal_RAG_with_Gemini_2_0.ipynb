{
  "nbformat": 4,
  "nbformat_minor": 0,
  "metadata": {
    "colab": {
      "provenance": [],
      "gpuType": "T4"
    },
    "kernelspec": {
      "name": "python3",
      "display_name": "Python 3"
    },
    "language_info": {
      "name": "python"
    },
    "accelerator": "GPU",
    "widgets": {
      "application/vnd.jupyter.widget-state+json": {
        "f4d065b58da144789ffa7f469a91596e": {
          "model_module": "@jupyter-widgets/controls",
          "model_name": "HBoxModel",
          "model_module_version": "1.5.0",
          "state": {
            "_dom_classes": [],
            "_model_module": "@jupyter-widgets/controls",
            "_model_module_version": "1.5.0",
            "_model_name": "HBoxModel",
            "_view_count": null,
            "_view_module": "@jupyter-widgets/controls",
            "_view_module_version": "1.5.0",
            "_view_name": "HBoxView",
            "box_style": "",
            "children": [
              "IPY_MODEL_0ec60ec3a3594fd8a025c22b4782e875",
              "IPY_MODEL_47682f8926734a32b7ef53cace58b4b6",
              "IPY_MODEL_c4eda348da87425a96b611bfd00c3670"
            ],
            "layout": "IPY_MODEL_432372d257cb47198bf3fc6eff68efdb"
          }
        },
        "0ec60ec3a3594fd8a025c22b4782e875": {
          "model_module": "@jupyter-widgets/controls",
          "model_name": "HTMLModel",
          "model_module_version": "1.5.0",
          "state": {
            "_dom_classes": [],
            "_model_module": "@jupyter-widgets/controls",
            "_model_module_version": "1.5.0",
            "_model_name": "HTMLModel",
            "_view_count": null,
            "_view_module": "@jupyter-widgets/controls",
            "_view_module_version": "1.5.0",
            "_view_name": "HTMLView",
            "description": "",
            "description_tooltip": null,
            "layout": "IPY_MODEL_3a0229448ae54b8d9a3a92f0a9f131b1",
            "placeholder": "​",
            "style": "IPY_MODEL_22c59e04ebc34bb5ba2e9d320e1d062a",
            "value": "yolox_l0.05.onnx: 100%"
          }
        },
        "47682f8926734a32b7ef53cace58b4b6": {
          "model_module": "@jupyter-widgets/controls",
          "model_name": "FloatProgressModel",
          "model_module_version": "1.5.0",
          "state": {
            "_dom_classes": [],
            "_model_module": "@jupyter-widgets/controls",
            "_model_module_version": "1.5.0",
            "_model_name": "FloatProgressModel",
            "_view_count": null,
            "_view_module": "@jupyter-widgets/controls",
            "_view_module_version": "1.5.0",
            "_view_name": "ProgressView",
            "bar_style": "success",
            "description": "",
            "description_tooltip": null,
            "layout": "IPY_MODEL_a1a02b8c1b05429ea6600e71ea5a2b92",
            "max": 216625723,
            "min": 0,
            "orientation": "horizontal",
            "style": "IPY_MODEL_4b006ceea54f485b80f30b5538004776",
            "value": 216625723
          }
        },
        "c4eda348da87425a96b611bfd00c3670": {
          "model_module": "@jupyter-widgets/controls",
          "model_name": "HTMLModel",
          "model_module_version": "1.5.0",
          "state": {
            "_dom_classes": [],
            "_model_module": "@jupyter-widgets/controls",
            "_model_module_version": "1.5.0",
            "_model_name": "HTMLModel",
            "_view_count": null,
            "_view_module": "@jupyter-widgets/controls",
            "_view_module_version": "1.5.0",
            "_view_name": "HTMLView",
            "description": "",
            "description_tooltip": null,
            "layout": "IPY_MODEL_bc3879b0120d47eabc0a4b01c858433e",
            "placeholder": "​",
            "style": "IPY_MODEL_7193d1d565e84620abaa22c746581312",
            "value": " 217M/217M [00:00&lt;00:00, 244MB/s]"
          }
        },
        "432372d257cb47198bf3fc6eff68efdb": {
          "model_module": "@jupyter-widgets/base",
          "model_name": "LayoutModel",
          "model_module_version": "1.2.0",
          "state": {
            "_model_module": "@jupyter-widgets/base",
            "_model_module_version": "1.2.0",
            "_model_name": "LayoutModel",
            "_view_count": null,
            "_view_module": "@jupyter-widgets/base",
            "_view_module_version": "1.2.0",
            "_view_name": "LayoutView",
            "align_content": null,
            "align_items": null,
            "align_self": null,
            "border": null,
            "bottom": null,
            "display": null,
            "flex": null,
            "flex_flow": null,
            "grid_area": null,
            "grid_auto_columns": null,
            "grid_auto_flow": null,
            "grid_auto_rows": null,
            "grid_column": null,
            "grid_gap": null,
            "grid_row": null,
            "grid_template_areas": null,
            "grid_template_columns": null,
            "grid_template_rows": null,
            "height": null,
            "justify_content": null,
            "justify_items": null,
            "left": null,
            "margin": null,
            "max_height": null,
            "max_width": null,
            "min_height": null,
            "min_width": null,
            "object_fit": null,
            "object_position": null,
            "order": null,
            "overflow": null,
            "overflow_x": null,
            "overflow_y": null,
            "padding": null,
            "right": null,
            "top": null,
            "visibility": null,
            "width": null
          }
        },
        "3a0229448ae54b8d9a3a92f0a9f131b1": {
          "model_module": "@jupyter-widgets/base",
          "model_name": "LayoutModel",
          "model_module_version": "1.2.0",
          "state": {
            "_model_module": "@jupyter-widgets/base",
            "_model_module_version": "1.2.0",
            "_model_name": "LayoutModel",
            "_view_count": null,
            "_view_module": "@jupyter-widgets/base",
            "_view_module_version": "1.2.0",
            "_view_name": "LayoutView",
            "align_content": null,
            "align_items": null,
            "align_self": null,
            "border": null,
            "bottom": null,
            "display": null,
            "flex": null,
            "flex_flow": null,
            "grid_area": null,
            "grid_auto_columns": null,
            "grid_auto_flow": null,
            "grid_auto_rows": null,
            "grid_column": null,
            "grid_gap": null,
            "grid_row": null,
            "grid_template_areas": null,
            "grid_template_columns": null,
            "grid_template_rows": null,
            "height": null,
            "justify_content": null,
            "justify_items": null,
            "left": null,
            "margin": null,
            "max_height": null,
            "max_width": null,
            "min_height": null,
            "min_width": null,
            "object_fit": null,
            "object_position": null,
            "order": null,
            "overflow": null,
            "overflow_x": null,
            "overflow_y": null,
            "padding": null,
            "right": null,
            "top": null,
            "visibility": null,
            "width": null
          }
        },
        "22c59e04ebc34bb5ba2e9d320e1d062a": {
          "model_module": "@jupyter-widgets/controls",
          "model_name": "DescriptionStyleModel",
          "model_module_version": "1.5.0",
          "state": {
            "_model_module": "@jupyter-widgets/controls",
            "_model_module_version": "1.5.0",
            "_model_name": "DescriptionStyleModel",
            "_view_count": null,
            "_view_module": "@jupyter-widgets/base",
            "_view_module_version": "1.2.0",
            "_view_name": "StyleView",
            "description_width": ""
          }
        },
        "a1a02b8c1b05429ea6600e71ea5a2b92": {
          "model_module": "@jupyter-widgets/base",
          "model_name": "LayoutModel",
          "model_module_version": "1.2.0",
          "state": {
            "_model_module": "@jupyter-widgets/base",
            "_model_module_version": "1.2.0",
            "_model_name": "LayoutModel",
            "_view_count": null,
            "_view_module": "@jupyter-widgets/base",
            "_view_module_version": "1.2.0",
            "_view_name": "LayoutView",
            "align_content": null,
            "align_items": null,
            "align_self": null,
            "border": null,
            "bottom": null,
            "display": null,
            "flex": null,
            "flex_flow": null,
            "grid_area": null,
            "grid_auto_columns": null,
            "grid_auto_flow": null,
            "grid_auto_rows": null,
            "grid_column": null,
            "grid_gap": null,
            "grid_row": null,
            "grid_template_areas": null,
            "grid_template_columns": null,
            "grid_template_rows": null,
            "height": null,
            "justify_content": null,
            "justify_items": null,
            "left": null,
            "margin": null,
            "max_height": null,
            "max_width": null,
            "min_height": null,
            "min_width": null,
            "object_fit": null,
            "object_position": null,
            "order": null,
            "overflow": null,
            "overflow_x": null,
            "overflow_y": null,
            "padding": null,
            "right": null,
            "top": null,
            "visibility": null,
            "width": null
          }
        },
        "4b006ceea54f485b80f30b5538004776": {
          "model_module": "@jupyter-widgets/controls",
          "model_name": "ProgressStyleModel",
          "model_module_version": "1.5.0",
          "state": {
            "_model_module": "@jupyter-widgets/controls",
            "_model_module_version": "1.5.0",
            "_model_name": "ProgressStyleModel",
            "_view_count": null,
            "_view_module": "@jupyter-widgets/base",
            "_view_module_version": "1.2.0",
            "_view_name": "StyleView",
            "bar_color": null,
            "description_width": ""
          }
        },
        "bc3879b0120d47eabc0a4b01c858433e": {
          "model_module": "@jupyter-widgets/base",
          "model_name": "LayoutModel",
          "model_module_version": "1.2.0",
          "state": {
            "_model_module": "@jupyter-widgets/base",
            "_model_module_version": "1.2.0",
            "_model_name": "LayoutModel",
            "_view_count": null,
            "_view_module": "@jupyter-widgets/base",
            "_view_module_version": "1.2.0",
            "_view_name": "LayoutView",
            "align_content": null,
            "align_items": null,
            "align_self": null,
            "border": null,
            "bottom": null,
            "display": null,
            "flex": null,
            "flex_flow": null,
            "grid_area": null,
            "grid_auto_columns": null,
            "grid_auto_flow": null,
            "grid_auto_rows": null,
            "grid_column": null,
            "grid_gap": null,
            "grid_row": null,
            "grid_template_areas": null,
            "grid_template_columns": null,
            "grid_template_rows": null,
            "height": null,
            "justify_content": null,
            "justify_items": null,
            "left": null,
            "margin": null,
            "max_height": null,
            "max_width": null,
            "min_height": null,
            "min_width": null,
            "object_fit": null,
            "object_position": null,
            "order": null,
            "overflow": null,
            "overflow_x": null,
            "overflow_y": null,
            "padding": null,
            "right": null,
            "top": null,
            "visibility": null,
            "width": null
          }
        },
        "7193d1d565e84620abaa22c746581312": {
          "model_module": "@jupyter-widgets/controls",
          "model_name": "DescriptionStyleModel",
          "model_module_version": "1.5.0",
          "state": {
            "_model_module": "@jupyter-widgets/controls",
            "_model_module_version": "1.5.0",
            "_model_name": "DescriptionStyleModel",
            "_view_count": null,
            "_view_module": "@jupyter-widgets/base",
            "_view_module_version": "1.2.0",
            "_view_name": "StyleView",
            "description_width": ""
          }
        },
        "f7cb78ceaaf449e9a5bc01fab7166536": {
          "model_module": "@jupyter-widgets/controls",
          "model_name": "HBoxModel",
          "model_module_version": "1.5.0",
          "state": {
            "_dom_classes": [],
            "_model_module": "@jupyter-widgets/controls",
            "_model_module_version": "1.5.0",
            "_model_name": "HBoxModel",
            "_view_count": null,
            "_view_module": "@jupyter-widgets/controls",
            "_view_module_version": "1.5.0",
            "_view_name": "HBoxView",
            "box_style": "",
            "children": [
              "IPY_MODEL_c4a02d51375f4ebf8584c79595a1cee5",
              "IPY_MODEL_46ed06e93ae5456b9b62561b1cd3a35c",
              "IPY_MODEL_620504d6f1f64ee496027bbcf4a41127"
            ],
            "layout": "IPY_MODEL_68df291b724f4f838897dd9bc3251b42"
          }
        },
        "c4a02d51375f4ebf8584c79595a1cee5": {
          "model_module": "@jupyter-widgets/controls",
          "model_name": "HTMLModel",
          "model_module_version": "1.5.0",
          "state": {
            "_dom_classes": [],
            "_model_module": "@jupyter-widgets/controls",
            "_model_module_version": "1.5.0",
            "_model_name": "HTMLModel",
            "_view_count": null,
            "_view_module": "@jupyter-widgets/controls",
            "_view_module_version": "1.5.0",
            "_view_name": "HTMLView",
            "description": "",
            "description_tooltip": null,
            "layout": "IPY_MODEL_32e3adfa1dc946f9a4bab7898f896782",
            "placeholder": "​",
            "style": "IPY_MODEL_aace77e2b4ea4d22b54e02d4dbaf53d5",
            "value": ""
          }
        },
        "46ed06e93ae5456b9b62561b1cd3a35c": {
          "model_module": "@jupyter-widgets/controls",
          "model_name": "FloatProgressModel",
          "model_module_version": "1.5.0",
          "state": {
            "_dom_classes": [],
            "_model_module": "@jupyter-widgets/controls",
            "_model_module_version": "1.5.0",
            "_model_name": "FloatProgressModel",
            "_view_count": null,
            "_view_module": "@jupyter-widgets/controls",
            "_view_module_version": "1.5.0",
            "_view_name": "ProgressView",
            "bar_style": "success",
            "description": "",
            "description_tooltip": null,
            "layout": "IPY_MODEL_682cd6112f524a9787f52045f4af2552",
            "max": 1,
            "min": 0,
            "orientation": "horizontal",
            "style": "IPY_MODEL_b3894d94bb8f49a2b5ad375ce1ae72e7",
            "value": 0
          }
        },
        "620504d6f1f64ee496027bbcf4a41127": {
          "model_module": "@jupyter-widgets/controls",
          "model_name": "HTMLModel",
          "model_module_version": "1.5.0",
          "state": {
            "_dom_classes": [],
            "_model_module": "@jupyter-widgets/controls",
            "_model_module_version": "1.5.0",
            "_model_name": "HTMLModel",
            "_view_count": null,
            "_view_module": "@jupyter-widgets/controls",
            "_view_module_version": "1.5.0",
            "_view_name": "HTMLView",
            "description": "",
            "description_tooltip": null,
            "layout": "IPY_MODEL_d1e4013f900b45f6b88d393300853a2a",
            "placeholder": "​",
            "style": "IPY_MODEL_3d25309b4ec3481187d8e9265ed7c822",
            "value": " 0/0 [00:00&lt;?, ?it/s]"
          }
        },
        "68df291b724f4f838897dd9bc3251b42": {
          "model_module": "@jupyter-widgets/base",
          "model_name": "LayoutModel",
          "model_module_version": "1.2.0",
          "state": {
            "_model_module": "@jupyter-widgets/base",
            "_model_module_version": "1.2.0",
            "_model_name": "LayoutModel",
            "_view_count": null,
            "_view_module": "@jupyter-widgets/base",
            "_view_module_version": "1.2.0",
            "_view_name": "LayoutView",
            "align_content": null,
            "align_items": null,
            "align_self": null,
            "border": null,
            "bottom": null,
            "display": null,
            "flex": null,
            "flex_flow": null,
            "grid_area": null,
            "grid_auto_columns": null,
            "grid_auto_flow": null,
            "grid_auto_rows": null,
            "grid_column": null,
            "grid_gap": null,
            "grid_row": null,
            "grid_template_areas": null,
            "grid_template_columns": null,
            "grid_template_rows": null,
            "height": null,
            "justify_content": null,
            "justify_items": null,
            "left": null,
            "margin": null,
            "max_height": null,
            "max_width": null,
            "min_height": null,
            "min_width": null,
            "object_fit": null,
            "object_position": null,
            "order": null,
            "overflow": null,
            "overflow_x": null,
            "overflow_y": null,
            "padding": null,
            "right": null,
            "top": null,
            "visibility": null,
            "width": null
          }
        },
        "32e3adfa1dc946f9a4bab7898f896782": {
          "model_module": "@jupyter-widgets/base",
          "model_name": "LayoutModel",
          "model_module_version": "1.2.0",
          "state": {
            "_model_module": "@jupyter-widgets/base",
            "_model_module_version": "1.2.0",
            "_model_name": "LayoutModel",
            "_view_count": null,
            "_view_module": "@jupyter-widgets/base",
            "_view_module_version": "1.2.0",
            "_view_name": "LayoutView",
            "align_content": null,
            "align_items": null,
            "align_self": null,
            "border": null,
            "bottom": null,
            "display": null,
            "flex": null,
            "flex_flow": null,
            "grid_area": null,
            "grid_auto_columns": null,
            "grid_auto_flow": null,
            "grid_auto_rows": null,
            "grid_column": null,
            "grid_gap": null,
            "grid_row": null,
            "grid_template_areas": null,
            "grid_template_columns": null,
            "grid_template_rows": null,
            "height": null,
            "justify_content": null,
            "justify_items": null,
            "left": null,
            "margin": null,
            "max_height": null,
            "max_width": null,
            "min_height": null,
            "min_width": null,
            "object_fit": null,
            "object_position": null,
            "order": null,
            "overflow": null,
            "overflow_x": null,
            "overflow_y": null,
            "padding": null,
            "right": null,
            "top": null,
            "visibility": null,
            "width": null
          }
        },
        "aace77e2b4ea4d22b54e02d4dbaf53d5": {
          "model_module": "@jupyter-widgets/controls",
          "model_name": "DescriptionStyleModel",
          "model_module_version": "1.5.0",
          "state": {
            "_model_module": "@jupyter-widgets/controls",
            "_model_module_version": "1.5.0",
            "_model_name": "DescriptionStyleModel",
            "_view_count": null,
            "_view_module": "@jupyter-widgets/base",
            "_view_module_version": "1.2.0",
            "_view_name": "StyleView",
            "description_width": ""
          }
        },
        "682cd6112f524a9787f52045f4af2552": {
          "model_module": "@jupyter-widgets/base",
          "model_name": "LayoutModel",
          "model_module_version": "1.2.0",
          "state": {
            "_model_module": "@jupyter-widgets/base",
            "_model_module_version": "1.2.0",
            "_model_name": "LayoutModel",
            "_view_count": null,
            "_view_module": "@jupyter-widgets/base",
            "_view_module_version": "1.2.0",
            "_view_name": "LayoutView",
            "align_content": null,
            "align_items": null,
            "align_self": null,
            "border": null,
            "bottom": null,
            "display": null,
            "flex": null,
            "flex_flow": null,
            "grid_area": null,
            "grid_auto_columns": null,
            "grid_auto_flow": null,
            "grid_auto_rows": null,
            "grid_column": null,
            "grid_gap": null,
            "grid_row": null,
            "grid_template_areas": null,
            "grid_template_columns": null,
            "grid_template_rows": null,
            "height": null,
            "justify_content": null,
            "justify_items": null,
            "left": null,
            "margin": null,
            "max_height": null,
            "max_width": null,
            "min_height": null,
            "min_width": null,
            "object_fit": null,
            "object_position": null,
            "order": null,
            "overflow": null,
            "overflow_x": null,
            "overflow_y": null,
            "padding": null,
            "right": null,
            "top": null,
            "visibility": null,
            "width": "20px"
          }
        },
        "b3894d94bb8f49a2b5ad375ce1ae72e7": {
          "model_module": "@jupyter-widgets/controls",
          "model_name": "ProgressStyleModel",
          "model_module_version": "1.5.0",
          "state": {
            "_model_module": "@jupyter-widgets/controls",
            "_model_module_version": "1.5.0",
            "_model_name": "ProgressStyleModel",
            "_view_count": null,
            "_view_module": "@jupyter-widgets/base",
            "_view_module_version": "1.2.0",
            "_view_name": "StyleView",
            "bar_color": null,
            "description_width": ""
          }
        },
        "d1e4013f900b45f6b88d393300853a2a": {
          "model_module": "@jupyter-widgets/base",
          "model_name": "LayoutModel",
          "model_module_version": "1.2.0",
          "state": {
            "_model_module": "@jupyter-widgets/base",
            "_model_module_version": "1.2.0",
            "_model_name": "LayoutModel",
            "_view_count": null,
            "_view_module": "@jupyter-widgets/base",
            "_view_module_version": "1.2.0",
            "_view_name": "LayoutView",
            "align_content": null,
            "align_items": null,
            "align_self": null,
            "border": null,
            "bottom": null,
            "display": null,
            "flex": null,
            "flex_flow": null,
            "grid_area": null,
            "grid_auto_columns": null,
            "grid_auto_flow": null,
            "grid_auto_rows": null,
            "grid_column": null,
            "grid_gap": null,
            "grid_row": null,
            "grid_template_areas": null,
            "grid_template_columns": null,
            "grid_template_rows": null,
            "height": null,
            "justify_content": null,
            "justify_items": null,
            "left": null,
            "margin": null,
            "max_height": null,
            "max_width": null,
            "min_height": null,
            "min_width": null,
            "object_fit": null,
            "object_position": null,
            "order": null,
            "overflow": null,
            "overflow_x": null,
            "overflow_y": null,
            "padding": null,
            "right": null,
            "top": null,
            "visibility": null,
            "width": null
          }
        },
        "3d25309b4ec3481187d8e9265ed7c822": {
          "model_module": "@jupyter-widgets/controls",
          "model_name": "DescriptionStyleModel",
          "model_module_version": "1.5.0",
          "state": {
            "_model_module": "@jupyter-widgets/controls",
            "_model_module_version": "1.5.0",
            "_model_name": "DescriptionStyleModel",
            "_view_count": null,
            "_view_module": "@jupyter-widgets/base",
            "_view_module_version": "1.2.0",
            "_view_name": "StyleView",
            "description_width": ""
          }
        },
        "0998f4895ed04d5a8ec8469c2f820f23": {
          "model_module": "@jupyter-widgets/controls",
          "model_name": "HBoxModel",
          "model_module_version": "1.5.0",
          "state": {
            "_dom_classes": [],
            "_model_module": "@jupyter-widgets/controls",
            "_model_module_version": "1.5.0",
            "_model_name": "HBoxModel",
            "_view_count": null,
            "_view_module": "@jupyter-widgets/controls",
            "_view_module_version": "1.5.0",
            "_view_name": "HBoxView",
            "box_style": "",
            "children": [
              "IPY_MODEL_705ee256b396413eb53e4f487b78ba17",
              "IPY_MODEL_54bd873380f94b05aacc65d563645cfd",
              "IPY_MODEL_6884db9a383f44a6b260dd898d626a62"
            ],
            "layout": "IPY_MODEL_966a856acf974d1c847b182be5f1ae9b"
          }
        },
        "705ee256b396413eb53e4f487b78ba17": {
          "model_module": "@jupyter-widgets/controls",
          "model_name": "HTMLModel",
          "model_module_version": "1.5.0",
          "state": {
            "_dom_classes": [],
            "_model_module": "@jupyter-widgets/controls",
            "_model_module_version": "1.5.0",
            "_model_name": "HTMLModel",
            "_view_count": null,
            "_view_module": "@jupyter-widgets/controls",
            "_view_module_version": "1.5.0",
            "_view_name": "HTMLView",
            "description": "",
            "description_tooltip": null,
            "layout": "IPY_MODEL_7c38c50415e24456bdc9648e6a59fc98",
            "placeholder": "​",
            "style": "IPY_MODEL_f09d926c80b645e0a12dfeaca183dfbb",
            "value": "config.json: 100%"
          }
        },
        "54bd873380f94b05aacc65d563645cfd": {
          "model_module": "@jupyter-widgets/controls",
          "model_name": "FloatProgressModel",
          "model_module_version": "1.5.0",
          "state": {
            "_dom_classes": [],
            "_model_module": "@jupyter-widgets/controls",
            "_model_module_version": "1.5.0",
            "_model_name": "FloatProgressModel",
            "_view_count": null,
            "_view_module": "@jupyter-widgets/controls",
            "_view_module_version": "1.5.0",
            "_view_name": "ProgressView",
            "bar_style": "success",
            "description": "",
            "description_tooltip": null,
            "layout": "IPY_MODEL_10a94b415b0e460cb657ce38e4e2b0ec",
            "max": 1469,
            "min": 0,
            "orientation": "horizontal",
            "style": "IPY_MODEL_cd1e61830f1742169749d44e7a9a1a32",
            "value": 1469
          }
        },
        "6884db9a383f44a6b260dd898d626a62": {
          "model_module": "@jupyter-widgets/controls",
          "model_name": "HTMLModel",
          "model_module_version": "1.5.0",
          "state": {
            "_dom_classes": [],
            "_model_module": "@jupyter-widgets/controls",
            "_model_module_version": "1.5.0",
            "_model_name": "HTMLModel",
            "_view_count": null,
            "_view_module": "@jupyter-widgets/controls",
            "_view_module_version": "1.5.0",
            "_view_name": "HTMLView",
            "description": "",
            "description_tooltip": null,
            "layout": "IPY_MODEL_6b513c9eab67471593eabd68e67bb5c2",
            "placeholder": "​",
            "style": "IPY_MODEL_52931429525a4d54a6e3fa95dc5b8536",
            "value": " 1.47k/1.47k [00:00&lt;00:00, 88.1kB/s]"
          }
        },
        "966a856acf974d1c847b182be5f1ae9b": {
          "model_module": "@jupyter-widgets/base",
          "model_name": "LayoutModel",
          "model_module_version": "1.2.0",
          "state": {
            "_model_module": "@jupyter-widgets/base",
            "_model_module_version": "1.2.0",
            "_model_name": "LayoutModel",
            "_view_count": null,
            "_view_module": "@jupyter-widgets/base",
            "_view_module_version": "1.2.0",
            "_view_name": "LayoutView",
            "align_content": null,
            "align_items": null,
            "align_self": null,
            "border": null,
            "bottom": null,
            "display": null,
            "flex": null,
            "flex_flow": null,
            "grid_area": null,
            "grid_auto_columns": null,
            "grid_auto_flow": null,
            "grid_auto_rows": null,
            "grid_column": null,
            "grid_gap": null,
            "grid_row": null,
            "grid_template_areas": null,
            "grid_template_columns": null,
            "grid_template_rows": null,
            "height": null,
            "justify_content": null,
            "justify_items": null,
            "left": null,
            "margin": null,
            "max_height": null,
            "max_width": null,
            "min_height": null,
            "min_width": null,
            "object_fit": null,
            "object_position": null,
            "order": null,
            "overflow": null,
            "overflow_x": null,
            "overflow_y": null,
            "padding": null,
            "right": null,
            "top": null,
            "visibility": null,
            "width": null
          }
        },
        "7c38c50415e24456bdc9648e6a59fc98": {
          "model_module": "@jupyter-widgets/base",
          "model_name": "LayoutModel",
          "model_module_version": "1.2.0",
          "state": {
            "_model_module": "@jupyter-widgets/base",
            "_model_module_version": "1.2.0",
            "_model_name": "LayoutModel",
            "_view_count": null,
            "_view_module": "@jupyter-widgets/base",
            "_view_module_version": "1.2.0",
            "_view_name": "LayoutView",
            "align_content": null,
            "align_items": null,
            "align_self": null,
            "border": null,
            "bottom": null,
            "display": null,
            "flex": null,
            "flex_flow": null,
            "grid_area": null,
            "grid_auto_columns": null,
            "grid_auto_flow": null,
            "grid_auto_rows": null,
            "grid_column": null,
            "grid_gap": null,
            "grid_row": null,
            "grid_template_areas": null,
            "grid_template_columns": null,
            "grid_template_rows": null,
            "height": null,
            "justify_content": null,
            "justify_items": null,
            "left": null,
            "margin": null,
            "max_height": null,
            "max_width": null,
            "min_height": null,
            "min_width": null,
            "object_fit": null,
            "object_position": null,
            "order": null,
            "overflow": null,
            "overflow_x": null,
            "overflow_y": null,
            "padding": null,
            "right": null,
            "top": null,
            "visibility": null,
            "width": null
          }
        },
        "f09d926c80b645e0a12dfeaca183dfbb": {
          "model_module": "@jupyter-widgets/controls",
          "model_name": "DescriptionStyleModel",
          "model_module_version": "1.5.0",
          "state": {
            "_model_module": "@jupyter-widgets/controls",
            "_model_module_version": "1.5.0",
            "_model_name": "DescriptionStyleModel",
            "_view_count": null,
            "_view_module": "@jupyter-widgets/base",
            "_view_module_version": "1.2.0",
            "_view_name": "StyleView",
            "description_width": ""
          }
        },
        "10a94b415b0e460cb657ce38e4e2b0ec": {
          "model_module": "@jupyter-widgets/base",
          "model_name": "LayoutModel",
          "model_module_version": "1.2.0",
          "state": {
            "_model_module": "@jupyter-widgets/base",
            "_model_module_version": "1.2.0",
            "_model_name": "LayoutModel",
            "_view_count": null,
            "_view_module": "@jupyter-widgets/base",
            "_view_module_version": "1.2.0",
            "_view_name": "LayoutView",
            "align_content": null,
            "align_items": null,
            "align_self": null,
            "border": null,
            "bottom": null,
            "display": null,
            "flex": null,
            "flex_flow": null,
            "grid_area": null,
            "grid_auto_columns": null,
            "grid_auto_flow": null,
            "grid_auto_rows": null,
            "grid_column": null,
            "grid_gap": null,
            "grid_row": null,
            "grid_template_areas": null,
            "grid_template_columns": null,
            "grid_template_rows": null,
            "height": null,
            "justify_content": null,
            "justify_items": null,
            "left": null,
            "margin": null,
            "max_height": null,
            "max_width": null,
            "min_height": null,
            "min_width": null,
            "object_fit": null,
            "object_position": null,
            "order": null,
            "overflow": null,
            "overflow_x": null,
            "overflow_y": null,
            "padding": null,
            "right": null,
            "top": null,
            "visibility": null,
            "width": null
          }
        },
        "cd1e61830f1742169749d44e7a9a1a32": {
          "model_module": "@jupyter-widgets/controls",
          "model_name": "ProgressStyleModel",
          "model_module_version": "1.5.0",
          "state": {
            "_model_module": "@jupyter-widgets/controls",
            "_model_module_version": "1.5.0",
            "_model_name": "ProgressStyleModel",
            "_view_count": null,
            "_view_module": "@jupyter-widgets/base",
            "_view_module_version": "1.2.0",
            "_view_name": "StyleView",
            "bar_color": null,
            "description_width": ""
          }
        },
        "6b513c9eab67471593eabd68e67bb5c2": {
          "model_module": "@jupyter-widgets/base",
          "model_name": "LayoutModel",
          "model_module_version": "1.2.0",
          "state": {
            "_model_module": "@jupyter-widgets/base",
            "_model_module_version": "1.2.0",
            "_model_name": "LayoutModel",
            "_view_count": null,
            "_view_module": "@jupyter-widgets/base",
            "_view_module_version": "1.2.0",
            "_view_name": "LayoutView",
            "align_content": null,
            "align_items": null,
            "align_self": null,
            "border": null,
            "bottom": null,
            "display": null,
            "flex": null,
            "flex_flow": null,
            "grid_area": null,
            "grid_auto_columns": null,
            "grid_auto_flow": null,
            "grid_auto_rows": null,
            "grid_column": null,
            "grid_gap": null,
            "grid_row": null,
            "grid_template_areas": null,
            "grid_template_columns": null,
            "grid_template_rows": null,
            "height": null,
            "justify_content": null,
            "justify_items": null,
            "left": null,
            "margin": null,
            "max_height": null,
            "max_width": null,
            "min_height": null,
            "min_width": null,
            "object_fit": null,
            "object_position": null,
            "order": null,
            "overflow": null,
            "overflow_x": null,
            "overflow_y": null,
            "padding": null,
            "right": null,
            "top": null,
            "visibility": null,
            "width": null
          }
        },
        "52931429525a4d54a6e3fa95dc5b8536": {
          "model_module": "@jupyter-widgets/controls",
          "model_name": "DescriptionStyleModel",
          "model_module_version": "1.5.0",
          "state": {
            "_model_module": "@jupyter-widgets/controls",
            "_model_module_version": "1.5.0",
            "_model_name": "DescriptionStyleModel",
            "_view_count": null,
            "_view_module": "@jupyter-widgets/base",
            "_view_module_version": "1.2.0",
            "_view_name": "StyleView",
            "description_width": ""
          }
        },
        "256f86d9ee884ef0a679ce357fb4b42c": {
          "model_module": "@jupyter-widgets/controls",
          "model_name": "HBoxModel",
          "model_module_version": "1.5.0",
          "state": {
            "_dom_classes": [],
            "_model_module": "@jupyter-widgets/controls",
            "_model_module_version": "1.5.0",
            "_model_name": "HBoxModel",
            "_view_count": null,
            "_view_module": "@jupyter-widgets/controls",
            "_view_module_version": "1.5.0",
            "_view_name": "HBoxView",
            "box_style": "",
            "children": [
              "IPY_MODEL_64e274643ef54de5861634a608d57f44",
              "IPY_MODEL_9dfcc558fad84eb9b1870e4dccbaefe8",
              "IPY_MODEL_66bc35ed647a422399ebfd628a97813a"
            ],
            "layout": "IPY_MODEL_29552f14bd7a4ad3b59ee9a6271324ef"
          }
        },
        "64e274643ef54de5861634a608d57f44": {
          "model_module": "@jupyter-widgets/controls",
          "model_name": "HTMLModel",
          "model_module_version": "1.5.0",
          "state": {
            "_dom_classes": [],
            "_model_module": "@jupyter-widgets/controls",
            "_model_module_version": "1.5.0",
            "_model_name": "HTMLModel",
            "_view_count": null,
            "_view_module": "@jupyter-widgets/controls",
            "_view_module_version": "1.5.0",
            "_view_name": "HTMLView",
            "description": "",
            "description_tooltip": null,
            "layout": "IPY_MODEL_f9288883ab174fb0a3d075f0400c82ec",
            "placeholder": "​",
            "style": "IPY_MODEL_7ff6b6a2681d42c38b9b835bda8343c8",
            "value": "model.safetensors: 100%"
          }
        },
        "9dfcc558fad84eb9b1870e4dccbaefe8": {
          "model_module": "@jupyter-widgets/controls",
          "model_name": "FloatProgressModel",
          "model_module_version": "1.5.0",
          "state": {
            "_dom_classes": [],
            "_model_module": "@jupyter-widgets/controls",
            "_model_module_version": "1.5.0",
            "_model_name": "FloatProgressModel",
            "_view_count": null,
            "_view_module": "@jupyter-widgets/controls",
            "_view_module_version": "1.5.0",
            "_view_name": "ProgressView",
            "bar_style": "success",
            "description": "",
            "description_tooltip": null,
            "layout": "IPY_MODEL_b23b9ddb1ed94fab9ac760c240726cea",
            "max": 115434268,
            "min": 0,
            "orientation": "horizontal",
            "style": "IPY_MODEL_96086d881ad4418d8c4e079c6a7fcd28",
            "value": 115434268
          }
        },
        "66bc35ed647a422399ebfd628a97813a": {
          "model_module": "@jupyter-widgets/controls",
          "model_name": "HTMLModel",
          "model_module_version": "1.5.0",
          "state": {
            "_dom_classes": [],
            "_model_module": "@jupyter-widgets/controls",
            "_model_module_version": "1.5.0",
            "_model_name": "HTMLModel",
            "_view_count": null,
            "_view_module": "@jupyter-widgets/controls",
            "_view_module_version": "1.5.0",
            "_view_name": "HTMLView",
            "description": "",
            "description_tooltip": null,
            "layout": "IPY_MODEL_76a6a5c3a6234a14a20ba11d1bc10eeb",
            "placeholder": "​",
            "style": "IPY_MODEL_942ea0a3676b4e4a92e968805840f9df",
            "value": " 115M/115M [00:00&lt;00:00, 221MB/s]"
          }
        },
        "29552f14bd7a4ad3b59ee9a6271324ef": {
          "model_module": "@jupyter-widgets/base",
          "model_name": "LayoutModel",
          "model_module_version": "1.2.0",
          "state": {
            "_model_module": "@jupyter-widgets/base",
            "_model_module_version": "1.2.0",
            "_model_name": "LayoutModel",
            "_view_count": null,
            "_view_module": "@jupyter-widgets/base",
            "_view_module_version": "1.2.0",
            "_view_name": "LayoutView",
            "align_content": null,
            "align_items": null,
            "align_self": null,
            "border": null,
            "bottom": null,
            "display": null,
            "flex": null,
            "flex_flow": null,
            "grid_area": null,
            "grid_auto_columns": null,
            "grid_auto_flow": null,
            "grid_auto_rows": null,
            "grid_column": null,
            "grid_gap": null,
            "grid_row": null,
            "grid_template_areas": null,
            "grid_template_columns": null,
            "grid_template_rows": null,
            "height": null,
            "justify_content": null,
            "justify_items": null,
            "left": null,
            "margin": null,
            "max_height": null,
            "max_width": null,
            "min_height": null,
            "min_width": null,
            "object_fit": null,
            "object_position": null,
            "order": null,
            "overflow": null,
            "overflow_x": null,
            "overflow_y": null,
            "padding": null,
            "right": null,
            "top": null,
            "visibility": null,
            "width": null
          }
        },
        "f9288883ab174fb0a3d075f0400c82ec": {
          "model_module": "@jupyter-widgets/base",
          "model_name": "LayoutModel",
          "model_module_version": "1.2.0",
          "state": {
            "_model_module": "@jupyter-widgets/base",
            "_model_module_version": "1.2.0",
            "_model_name": "LayoutModel",
            "_view_count": null,
            "_view_module": "@jupyter-widgets/base",
            "_view_module_version": "1.2.0",
            "_view_name": "LayoutView",
            "align_content": null,
            "align_items": null,
            "align_self": null,
            "border": null,
            "bottom": null,
            "display": null,
            "flex": null,
            "flex_flow": null,
            "grid_area": null,
            "grid_auto_columns": null,
            "grid_auto_flow": null,
            "grid_auto_rows": null,
            "grid_column": null,
            "grid_gap": null,
            "grid_row": null,
            "grid_template_areas": null,
            "grid_template_columns": null,
            "grid_template_rows": null,
            "height": null,
            "justify_content": null,
            "justify_items": null,
            "left": null,
            "margin": null,
            "max_height": null,
            "max_width": null,
            "min_height": null,
            "min_width": null,
            "object_fit": null,
            "object_position": null,
            "order": null,
            "overflow": null,
            "overflow_x": null,
            "overflow_y": null,
            "padding": null,
            "right": null,
            "top": null,
            "visibility": null,
            "width": null
          }
        },
        "7ff6b6a2681d42c38b9b835bda8343c8": {
          "model_module": "@jupyter-widgets/controls",
          "model_name": "DescriptionStyleModel",
          "model_module_version": "1.5.0",
          "state": {
            "_model_module": "@jupyter-widgets/controls",
            "_model_module_version": "1.5.0",
            "_model_name": "DescriptionStyleModel",
            "_view_count": null,
            "_view_module": "@jupyter-widgets/base",
            "_view_module_version": "1.2.0",
            "_view_name": "StyleView",
            "description_width": ""
          }
        },
        "b23b9ddb1ed94fab9ac760c240726cea": {
          "model_module": "@jupyter-widgets/base",
          "model_name": "LayoutModel",
          "model_module_version": "1.2.0",
          "state": {
            "_model_module": "@jupyter-widgets/base",
            "_model_module_version": "1.2.0",
            "_model_name": "LayoutModel",
            "_view_count": null,
            "_view_module": "@jupyter-widgets/base",
            "_view_module_version": "1.2.0",
            "_view_name": "LayoutView",
            "align_content": null,
            "align_items": null,
            "align_self": null,
            "border": null,
            "bottom": null,
            "display": null,
            "flex": null,
            "flex_flow": null,
            "grid_area": null,
            "grid_auto_columns": null,
            "grid_auto_flow": null,
            "grid_auto_rows": null,
            "grid_column": null,
            "grid_gap": null,
            "grid_row": null,
            "grid_template_areas": null,
            "grid_template_columns": null,
            "grid_template_rows": null,
            "height": null,
            "justify_content": null,
            "justify_items": null,
            "left": null,
            "margin": null,
            "max_height": null,
            "max_width": null,
            "min_height": null,
            "min_width": null,
            "object_fit": null,
            "object_position": null,
            "order": null,
            "overflow": null,
            "overflow_x": null,
            "overflow_y": null,
            "padding": null,
            "right": null,
            "top": null,
            "visibility": null,
            "width": null
          }
        },
        "96086d881ad4418d8c4e079c6a7fcd28": {
          "model_module": "@jupyter-widgets/controls",
          "model_name": "ProgressStyleModel",
          "model_module_version": "1.5.0",
          "state": {
            "_model_module": "@jupyter-widgets/controls",
            "_model_module_version": "1.5.0",
            "_model_name": "ProgressStyleModel",
            "_view_count": null,
            "_view_module": "@jupyter-widgets/base",
            "_view_module_version": "1.2.0",
            "_view_name": "StyleView",
            "bar_color": null,
            "description_width": ""
          }
        },
        "76a6a5c3a6234a14a20ba11d1bc10eeb": {
          "model_module": "@jupyter-widgets/base",
          "model_name": "LayoutModel",
          "model_module_version": "1.2.0",
          "state": {
            "_model_module": "@jupyter-widgets/base",
            "_model_module_version": "1.2.0",
            "_model_name": "LayoutModel",
            "_view_count": null,
            "_view_module": "@jupyter-widgets/base",
            "_view_module_version": "1.2.0",
            "_view_name": "LayoutView",
            "align_content": null,
            "align_items": null,
            "align_self": null,
            "border": null,
            "bottom": null,
            "display": null,
            "flex": null,
            "flex_flow": null,
            "grid_area": null,
            "grid_auto_columns": null,
            "grid_auto_flow": null,
            "grid_auto_rows": null,
            "grid_column": null,
            "grid_gap": null,
            "grid_row": null,
            "grid_template_areas": null,
            "grid_template_columns": null,
            "grid_template_rows": null,
            "height": null,
            "justify_content": null,
            "justify_items": null,
            "left": null,
            "margin": null,
            "max_height": null,
            "max_width": null,
            "min_height": null,
            "min_width": null,
            "object_fit": null,
            "object_position": null,
            "order": null,
            "overflow": null,
            "overflow_x": null,
            "overflow_y": null,
            "padding": null,
            "right": null,
            "top": null,
            "visibility": null,
            "width": null
          }
        },
        "942ea0a3676b4e4a92e968805840f9df": {
          "model_module": "@jupyter-widgets/controls",
          "model_name": "DescriptionStyleModel",
          "model_module_version": "1.5.0",
          "state": {
            "_model_module": "@jupyter-widgets/controls",
            "_model_module_version": "1.5.0",
            "_model_name": "DescriptionStyleModel",
            "_view_count": null,
            "_view_module": "@jupyter-widgets/base",
            "_view_module_version": "1.2.0",
            "_view_name": "StyleView",
            "description_width": ""
          }
        },
        "5eef738b3109472db9e239f776e1efa1": {
          "model_module": "@jupyter-widgets/controls",
          "model_name": "HBoxModel",
          "model_module_version": "1.5.0",
          "state": {
            "_dom_classes": [],
            "_model_module": "@jupyter-widgets/controls",
            "_model_module_version": "1.5.0",
            "_model_name": "HBoxModel",
            "_view_count": null,
            "_view_module": "@jupyter-widgets/controls",
            "_view_module_version": "1.5.0",
            "_view_name": "HBoxView",
            "box_style": "",
            "children": [
              "IPY_MODEL_da07a90316464c86a2f31dc4bc6df19e",
              "IPY_MODEL_59c78324ff2a4e56becec3ba61cf588f",
              "IPY_MODEL_4866492349fa4cbf9c87bec64d3303a9"
            ],
            "layout": "IPY_MODEL_7f34663059d34a6f828fe7209c4c13a1"
          }
        },
        "da07a90316464c86a2f31dc4bc6df19e": {
          "model_module": "@jupyter-widgets/controls",
          "model_name": "HTMLModel",
          "model_module_version": "1.5.0",
          "state": {
            "_dom_classes": [],
            "_model_module": "@jupyter-widgets/controls",
            "_model_module_version": "1.5.0",
            "_model_name": "HTMLModel",
            "_view_count": null,
            "_view_module": "@jupyter-widgets/controls",
            "_view_module_version": "1.5.0",
            "_view_name": "HTMLView",
            "description": "",
            "description_tooltip": null,
            "layout": "IPY_MODEL_36996cf6079a4a4bafa19da2440d5b55",
            "placeholder": "​",
            "style": "IPY_MODEL_ed89b0489f0246fda2c15f42ef6d7493",
            "value": "model.safetensors: 100%"
          }
        },
        "59c78324ff2a4e56becec3ba61cf588f": {
          "model_module": "@jupyter-widgets/controls",
          "model_name": "FloatProgressModel",
          "model_module_version": "1.5.0",
          "state": {
            "_dom_classes": [],
            "_model_module": "@jupyter-widgets/controls",
            "_model_module_version": "1.5.0",
            "_model_name": "FloatProgressModel",
            "_view_count": null,
            "_view_module": "@jupyter-widgets/controls",
            "_view_module_version": "1.5.0",
            "_view_name": "ProgressView",
            "bar_style": "success",
            "description": "",
            "description_tooltip": null,
            "layout": "IPY_MODEL_af3892d2f93e4f2fbbfe00ee44ba4359",
            "max": 46807446,
            "min": 0,
            "orientation": "horizontal",
            "style": "IPY_MODEL_c8f0c9f13c5548ec93921ce65ccea8a4",
            "value": 46807446
          }
        },
        "4866492349fa4cbf9c87bec64d3303a9": {
          "model_module": "@jupyter-widgets/controls",
          "model_name": "HTMLModel",
          "model_module_version": "1.5.0",
          "state": {
            "_dom_classes": [],
            "_model_module": "@jupyter-widgets/controls",
            "_model_module_version": "1.5.0",
            "_model_name": "HTMLModel",
            "_view_count": null,
            "_view_module": "@jupyter-widgets/controls",
            "_view_module_version": "1.5.0",
            "_view_name": "HTMLView",
            "description": "",
            "description_tooltip": null,
            "layout": "IPY_MODEL_2ede011daefd438f927af0ec3f5952a2",
            "placeholder": "​",
            "style": "IPY_MODEL_046b16b1266d4d0f822de42a875193ef",
            "value": " 46.8M/46.8M [00:00&lt;00:00, 245MB/s]"
          }
        },
        "7f34663059d34a6f828fe7209c4c13a1": {
          "model_module": "@jupyter-widgets/base",
          "model_name": "LayoutModel",
          "model_module_version": "1.2.0",
          "state": {
            "_model_module": "@jupyter-widgets/base",
            "_model_module_version": "1.2.0",
            "_model_name": "LayoutModel",
            "_view_count": null,
            "_view_module": "@jupyter-widgets/base",
            "_view_module_version": "1.2.0",
            "_view_name": "LayoutView",
            "align_content": null,
            "align_items": null,
            "align_self": null,
            "border": null,
            "bottom": null,
            "display": null,
            "flex": null,
            "flex_flow": null,
            "grid_area": null,
            "grid_auto_columns": null,
            "grid_auto_flow": null,
            "grid_auto_rows": null,
            "grid_column": null,
            "grid_gap": null,
            "grid_row": null,
            "grid_template_areas": null,
            "grid_template_columns": null,
            "grid_template_rows": null,
            "height": null,
            "justify_content": null,
            "justify_items": null,
            "left": null,
            "margin": null,
            "max_height": null,
            "max_width": null,
            "min_height": null,
            "min_width": null,
            "object_fit": null,
            "object_position": null,
            "order": null,
            "overflow": null,
            "overflow_x": null,
            "overflow_y": null,
            "padding": null,
            "right": null,
            "top": null,
            "visibility": null,
            "width": null
          }
        },
        "36996cf6079a4a4bafa19da2440d5b55": {
          "model_module": "@jupyter-widgets/base",
          "model_name": "LayoutModel",
          "model_module_version": "1.2.0",
          "state": {
            "_model_module": "@jupyter-widgets/base",
            "_model_module_version": "1.2.0",
            "_model_name": "LayoutModel",
            "_view_count": null,
            "_view_module": "@jupyter-widgets/base",
            "_view_module_version": "1.2.0",
            "_view_name": "LayoutView",
            "align_content": null,
            "align_items": null,
            "align_self": null,
            "border": null,
            "bottom": null,
            "display": null,
            "flex": null,
            "flex_flow": null,
            "grid_area": null,
            "grid_auto_columns": null,
            "grid_auto_flow": null,
            "grid_auto_rows": null,
            "grid_column": null,
            "grid_gap": null,
            "grid_row": null,
            "grid_template_areas": null,
            "grid_template_columns": null,
            "grid_template_rows": null,
            "height": null,
            "justify_content": null,
            "justify_items": null,
            "left": null,
            "margin": null,
            "max_height": null,
            "max_width": null,
            "min_height": null,
            "min_width": null,
            "object_fit": null,
            "object_position": null,
            "order": null,
            "overflow": null,
            "overflow_x": null,
            "overflow_y": null,
            "padding": null,
            "right": null,
            "top": null,
            "visibility": null,
            "width": null
          }
        },
        "ed89b0489f0246fda2c15f42ef6d7493": {
          "model_module": "@jupyter-widgets/controls",
          "model_name": "DescriptionStyleModel",
          "model_module_version": "1.5.0",
          "state": {
            "_model_module": "@jupyter-widgets/controls",
            "_model_module_version": "1.5.0",
            "_model_name": "DescriptionStyleModel",
            "_view_count": null,
            "_view_module": "@jupyter-widgets/base",
            "_view_module_version": "1.2.0",
            "_view_name": "StyleView",
            "description_width": ""
          }
        },
        "af3892d2f93e4f2fbbfe00ee44ba4359": {
          "model_module": "@jupyter-widgets/base",
          "model_name": "LayoutModel",
          "model_module_version": "1.2.0",
          "state": {
            "_model_module": "@jupyter-widgets/base",
            "_model_module_version": "1.2.0",
            "_model_name": "LayoutModel",
            "_view_count": null,
            "_view_module": "@jupyter-widgets/base",
            "_view_module_version": "1.2.0",
            "_view_name": "LayoutView",
            "align_content": null,
            "align_items": null,
            "align_self": null,
            "border": null,
            "bottom": null,
            "display": null,
            "flex": null,
            "flex_flow": null,
            "grid_area": null,
            "grid_auto_columns": null,
            "grid_auto_flow": null,
            "grid_auto_rows": null,
            "grid_column": null,
            "grid_gap": null,
            "grid_row": null,
            "grid_template_areas": null,
            "grid_template_columns": null,
            "grid_template_rows": null,
            "height": null,
            "justify_content": null,
            "justify_items": null,
            "left": null,
            "margin": null,
            "max_height": null,
            "max_width": null,
            "min_height": null,
            "min_width": null,
            "object_fit": null,
            "object_position": null,
            "order": null,
            "overflow": null,
            "overflow_x": null,
            "overflow_y": null,
            "padding": null,
            "right": null,
            "top": null,
            "visibility": null,
            "width": null
          }
        },
        "c8f0c9f13c5548ec93921ce65ccea8a4": {
          "model_module": "@jupyter-widgets/controls",
          "model_name": "ProgressStyleModel",
          "model_module_version": "1.5.0",
          "state": {
            "_model_module": "@jupyter-widgets/controls",
            "_model_module_version": "1.5.0",
            "_model_name": "ProgressStyleModel",
            "_view_count": null,
            "_view_module": "@jupyter-widgets/base",
            "_view_module_version": "1.2.0",
            "_view_name": "StyleView",
            "bar_color": null,
            "description_width": ""
          }
        },
        "2ede011daefd438f927af0ec3f5952a2": {
          "model_module": "@jupyter-widgets/base",
          "model_name": "LayoutModel",
          "model_module_version": "1.2.0",
          "state": {
            "_model_module": "@jupyter-widgets/base",
            "_model_module_version": "1.2.0",
            "_model_name": "LayoutModel",
            "_view_count": null,
            "_view_module": "@jupyter-widgets/base",
            "_view_module_version": "1.2.0",
            "_view_name": "LayoutView",
            "align_content": null,
            "align_items": null,
            "align_self": null,
            "border": null,
            "bottom": null,
            "display": null,
            "flex": null,
            "flex_flow": null,
            "grid_area": null,
            "grid_auto_columns": null,
            "grid_auto_flow": null,
            "grid_auto_rows": null,
            "grid_column": null,
            "grid_gap": null,
            "grid_row": null,
            "grid_template_areas": null,
            "grid_template_columns": null,
            "grid_template_rows": null,
            "height": null,
            "justify_content": null,
            "justify_items": null,
            "left": null,
            "margin": null,
            "max_height": null,
            "max_width": null,
            "min_height": null,
            "min_width": null,
            "object_fit": null,
            "object_position": null,
            "order": null,
            "overflow": null,
            "overflow_x": null,
            "overflow_y": null,
            "padding": null,
            "right": null,
            "top": null,
            "visibility": null,
            "width": null
          }
        },
        "046b16b1266d4d0f822de42a875193ef": {
          "model_module": "@jupyter-widgets/controls",
          "model_name": "DescriptionStyleModel",
          "model_module_version": "1.5.0",
          "state": {
            "_model_module": "@jupyter-widgets/controls",
            "_model_module_version": "1.5.0",
            "_model_name": "DescriptionStyleModel",
            "_view_count": null,
            "_view_module": "@jupyter-widgets/base",
            "_view_module_version": "1.2.0",
            "_view_name": "StyleView",
            "description_width": ""
          }
        }
      }
    }
  },
  "cells": [
    {
      "cell_type": "markdown",
      "source": [
        "# Gemini API: Multimodal Retrieval Augmented Generation (RAG)\n",
        "\n",
        "In this notebook, you will learn how to perform RAG with multimodal embeddings. Here are the key objectives of this notebook:\n",
        "\n",
        "1. Extract text, images, and tables from a PDF document.\n",
        "2. Generate embeddings for these different types of data.\n",
        "3. Compare the embeddigs to each other to answer questions.\n",
        "\n",
        "## What is retrieval augmented generation (RAG)?\n",
        "\n",
        "Retrieval augmented generation (RAG), is a way to use external data or information to improve the accuracy of large language models (LLMs).\n",
        "\n",
        "## What is the difference between text-based embeddings and multimodal embeddings?\n",
        "\n",
        "Text-based embeddings involves producing embeddings just for text. Multimodal embeddings comprise embedding different types of data, including images, audio, and video. The advantages of multimodal embeddings include:\n",
        "\n",
        "1. **Enhanced knowledge access**: Multimodal embeddings capture information about textual and visual information, which provides a comprehensive knowledge base for an LLM.\n",
        "2. **Improved reasoning capabilities**: By including visual information, multimodal RAG allows you to make better inferences across different types of data modalities.  \n",
        "\n",
        "## What is Gemini?\n",
        "\n",
        "Gemini is a family of generative AI models developed by Google DeepMind that is designed for multimodal use cases. Please visit this [link](https://ai.google.dev/gemini-api/docs/models/gemini) for more information on Gemini."
      ],
      "metadata": {
        "id": "TP3moYsI-G3W"
      }
    },
    {
      "cell_type": "markdown",
      "source": [
        "## Setup\n",
        "\n",
        "Install and import the Gemini API, the appropriate LangChain tools, as well as third party libraries. When installing these dependencies, the versions specified in the installations commands work with each other. For consistency, we recommend keeping these version numbers for your own adaptations. You can find more information on the `unstructured` library installation [here](https://docs.unstructured.io/open-source/installation/full-installation)."
      ],
      "metadata": {
        "id": "5kbmxynMpT5K"
      }
    },
    {
      "cell_type": "code",
      "execution_count": null,
      "metadata": {
        "id": "h7tfhgvdpMOH"
      },
      "outputs": [],
      "source": [
        "!pip install -U -q google-genai # Install the Gemini API Python SDK\n",
        "!pip install -U -q \"unstructured[all-docs]\" # Unstructured library for parsing PDF upload\n",
        "!pip install -U -q pypdf Pillow pydantic lxml pillow matplotlib opencv-python tiktoken # Install third party libraries\n",
        "\n",
        "# Dependencies required by Unstructured PDF loader\n",
        "!pip install --upgrade huggingface_hub # To extract images in hi-res\n",
        "!sudo apt -y -qq install tesseract-ocr libtesseract-dev\n",
        "!sudo apt-get -y -qq install poppler-utils\n",
        "!pip install --user --quiet pytesseract==0.3.10 pdfminer.six==20221105\n",
        "!pip install --upgrade onnxruntime==1.15.1"
      ]
    },
    {
      "cell_type": "markdown",
      "source": [
        "## Restart runtime\n",
        "\n",
        "To use the newly installed packages in this Jupyter runtime, you must restart the runtime. You can do this by running the cell below, which will restart the current kernel."
      ],
      "metadata": {
        "id": "71Nop3MrplYE"
      }
    },
    {
      "cell_type": "code",
      "source": [
        "# Restart kernel after installs so that your environment can access the new packages\n",
        "import IPython\n",
        "\n",
        "app = IPython.Application.instance()\n",
        "app.kernel.do_shutdown(True)"
      ],
      "metadata": {
        "colab": {
          "base_uri": "https://localhost:8080/"
        },
        "id": "Oo5pQpF9pluG",
        "outputId": "662cf597-7643-4145-91a4-4f07f78ef495"
      },
      "execution_count": 2,
      "outputs": [
        {
          "output_type": "execute_result",
          "data": {
            "text/plain": [
              "{'status': 'ok', 'restart': True}"
            ]
          },
          "metadata": {},
          "execution_count": 2
        }
      ]
    },
    {
      "cell_type": "markdown",
      "source": [
        "## Import the libraries"
      ],
      "metadata": {
        "id": "TjbOVSEKppew"
      }
    },
    {
      "cell_type": "code",
      "source": [
        "from google import genai\n",
        "from google.genai import types\n",
        "\n",
        "import os\n",
        "import PIL\n",
        "import textwrap\n",
        "import numpy as np\n",
        "import pandas as pd\n",
        "from tqdm import tqdm\n",
        "from pprint import pprint\n",
        "from unstructured.partition.pdf import partition_pdf\n",
        "from IPython.display import display, Image, Markdown"
      ],
      "metadata": {
        "id": "T1lnKL91pqyT"
      },
      "execution_count": 1,
      "outputs": []
    },
    {
      "cell_type": "markdown",
      "source": [
        "## Download the data"
      ],
      "metadata": {
        "id": "zspqpWTvr_aN"
      }
    },
    {
      "cell_type": "code",
      "source": [
        "# Download documents and images used in this notebook\n",
        "!gsutil cp gs://generativeai-downloads/data/med_gemini.pdf .\n",
        "print(\"Download completed.\")"
      ],
      "metadata": {
        "colab": {
          "base_uri": "https://localhost:8080/"
        },
        "id": "edi84CzwsA1D",
        "outputId": "63bb4b49-f201-4c5d-d6cc-2d4bc309fe5b"
      },
      "execution_count": 2,
      "outputs": [
        {
          "output_type": "stream",
          "name": "stdout",
          "text": [
            "Copying gs://generativeai-downloads/data/med_gemini.pdf...\n",
            "/ [1 files][  6.5 MiB/  6.5 MiB]                                                \n",
            "Operation completed over 1 objects/6.5 MiB.                                      \n",
            "Download completed.\n"
          ]
        }
      ]
    },
    {
      "cell_type": "markdown",
      "source": [
        "## Preprocessing\n",
        "\n",
        "### Extract data from PDF\n",
        "\n",
        "You will use the `unstructured` library to extract images, tables, and chunk text from our sample PDF file. Although it's a shorter document, the sample document still contains text along with images such as tables, charts, and graphs.\n",
        "\n",
        "Please note that the images will be deposited in a separate directory called `figures/`. Specifically, the path in this notebook will be `/content/figures/`. You will be able to find all the images extracted in there. Please also note that capturing those images will cause the runtime of the cell below to be longer, and you must set `extract_images_in_pdf` to `True` and the `strategy` parameter must be `hi_res` in order to extract the images. For more information on extracting images from PDFs using the `unstructured` library, please check the [`partition_pdf` documentation](https://docs.unstructured.io/open-source/core-functionality/partitioning#partition-pdf)."
      ],
      "metadata": {
        "id": "IAHuQSWRsFw6"
      }
    },
    {
      "cell_type": "code",
      "source": [
        "pdf_file_path = '/content/med_gemini.pdf'\n",
        "\n",
        "# Extract images, tables, and chunk text from the PDF file provided.\n",
        "try:\n",
        "  raw_pdf_elements = partition_pdf(\n",
        "      filename=pdf_file_path,\n",
        "      extract_images_in_pdf=True,\n",
        "      infer_table_structure=True,\n",
        "      chunking_strategy=\"by_title\",\n",
        "      max_characters=1000,\n",
        "      combine_text_under_n_chars=250,\n",
        "      strategy=\"hi_res\",\n",
        "  )\n",
        "except PIL.UnidentifiedImageError:\n",
        "  print(\"Could not identify image file.\")"
      ],
      "metadata": {
        "colab": {
          "base_uri": "https://localhost:8080/",
          "height": 214,
          "referenced_widgets": [
            "f4d065b58da144789ffa7f469a91596e",
            "0ec60ec3a3594fd8a025c22b4782e875",
            "47682f8926734a32b7ef53cace58b4b6",
            "c4eda348da87425a96b611bfd00c3670",
            "432372d257cb47198bf3fc6eff68efdb",
            "3a0229448ae54b8d9a3a92f0a9f131b1",
            "22c59e04ebc34bb5ba2e9d320e1d062a",
            "a1a02b8c1b05429ea6600e71ea5a2b92",
            "4b006ceea54f485b80f30b5538004776",
            "bc3879b0120d47eabc0a4b01c858433e",
            "7193d1d565e84620abaa22c746581312",
            "f7cb78ceaaf449e9a5bc01fab7166536",
            "c4a02d51375f4ebf8584c79595a1cee5",
            "46ed06e93ae5456b9b62561b1cd3a35c",
            "620504d6f1f64ee496027bbcf4a41127",
            "68df291b724f4f838897dd9bc3251b42",
            "32e3adfa1dc946f9a4bab7898f896782",
            "aace77e2b4ea4d22b54e02d4dbaf53d5",
            "682cd6112f524a9787f52045f4af2552",
            "b3894d94bb8f49a2b5ad375ce1ae72e7",
            "d1e4013f900b45f6b88d393300853a2a",
            "3d25309b4ec3481187d8e9265ed7c822",
            "0998f4895ed04d5a8ec8469c2f820f23",
            "705ee256b396413eb53e4f487b78ba17",
            "54bd873380f94b05aacc65d563645cfd",
            "6884db9a383f44a6b260dd898d626a62",
            "966a856acf974d1c847b182be5f1ae9b",
            "7c38c50415e24456bdc9648e6a59fc98",
            "f09d926c80b645e0a12dfeaca183dfbb",
            "10a94b415b0e460cb657ce38e4e2b0ec",
            "cd1e61830f1742169749d44e7a9a1a32",
            "6b513c9eab67471593eabd68e67bb5c2",
            "52931429525a4d54a6e3fa95dc5b8536",
            "256f86d9ee884ef0a679ce357fb4b42c",
            "64e274643ef54de5861634a608d57f44",
            "9dfcc558fad84eb9b1870e4dccbaefe8",
            "66bc35ed647a422399ebfd628a97813a",
            "29552f14bd7a4ad3b59ee9a6271324ef",
            "f9288883ab174fb0a3d075f0400c82ec",
            "7ff6b6a2681d42c38b9b835bda8343c8",
            "b23b9ddb1ed94fab9ac760c240726cea",
            "96086d881ad4418d8c4e079c6a7fcd28",
            "76a6a5c3a6234a14a20ba11d1bc10eeb",
            "942ea0a3676b4e4a92e968805840f9df",
            "5eef738b3109472db9e239f776e1efa1",
            "da07a90316464c86a2f31dc4bc6df19e",
            "59c78324ff2a4e56becec3ba61cf588f",
            "4866492349fa4cbf9c87bec64d3303a9",
            "7f34663059d34a6f828fe7209c4c13a1",
            "36996cf6079a4a4bafa19da2440d5b55",
            "ed89b0489f0246fda2c15f42ef6d7493",
            "af3892d2f93e4f2fbbfe00ee44ba4359",
            "c8f0c9f13c5548ec93921ce65ccea8a4",
            "2ede011daefd438f927af0ec3f5952a2",
            "046b16b1266d4d0f822de42a875193ef"
          ]
        },
        "id": "APUA0giNsQDg",
        "outputId": "247750c7-2977-42fe-e9ed-4b44df5cf6fd"
      },
      "execution_count": 3,
      "outputs": [
        {
          "output_type": "display_data",
          "data": {
            "text/plain": [
              "yolox_l0.05.onnx:   0%|          | 0.00/217M [00:00<?, ?B/s]"
            ],
            "application/vnd.jupyter.widget-view+json": {
              "version_major": 2,
              "version_minor": 0,
              "model_id": "f4d065b58da144789ffa7f469a91596e"
            }
          },
          "metadata": {}
        },
        {
          "output_type": "stream",
          "name": "stderr",
          "text": [
            "The cache for model files in Transformers v4.22.0 has been updated. Migrating your old cache. This is a one-time only operation. You can interrupt this and resume the migration later on by calling `transformers.utils.move_cache()`.\n"
          ]
        },
        {
          "output_type": "display_data",
          "data": {
            "text/plain": [
              "0it [00:00, ?it/s]"
            ],
            "application/vnd.jupyter.widget-view+json": {
              "version_major": 2,
              "version_minor": 0,
              "model_id": "f7cb78ceaaf449e9a5bc01fab7166536"
            }
          },
          "metadata": {}
        },
        {
          "output_type": "display_data",
          "data": {
            "text/plain": [
              "config.json:   0%|          | 0.00/1.47k [00:00<?, ?B/s]"
            ],
            "application/vnd.jupyter.widget-view+json": {
              "version_major": 2,
              "version_minor": 0,
              "model_id": "0998f4895ed04d5a8ec8469c2f820f23"
            }
          },
          "metadata": {}
        },
        {
          "output_type": "display_data",
          "data": {
            "text/plain": [
              "model.safetensors:   0%|          | 0.00/115M [00:00<?, ?B/s]"
            ],
            "application/vnd.jupyter.widget-view+json": {
              "version_major": 2,
              "version_minor": 0,
              "model_id": "256f86d9ee884ef0a679ce357fb4b42c"
            }
          },
          "metadata": {}
        },
        {
          "output_type": "display_data",
          "data": {
            "text/plain": [
              "model.safetensors:   0%|          | 0.00/46.8M [00:00<?, ?B/s]"
            ],
            "application/vnd.jupyter.widget-view+json": {
              "version_major": 2,
              "version_minor": 0,
              "model_id": "5eef738b3109472db9e239f776e1efa1"
            }
          },
          "metadata": {}
        }
      ]
    },
    {
      "cell_type": "code",
      "source": [
        "len(raw_pdf_elements)"
      ],
      "metadata": {
        "id": "YlHGZa99thbd",
        "colab": {
          "base_uri": "https://localhost:8080/"
        },
        "outputId": "b6b75437-b926-4abf-ecbd-5cffccbded0b"
      },
      "execution_count": 4,
      "outputs": [
        {
          "output_type": "execute_result",
          "data": {
            "text/plain": [
              "316"
            ]
          },
          "metadata": {},
          "execution_count": 4
        }
      ]
    },
    {
      "cell_type": "code",
      "source": [
        "raw_pdf_elements[51].text # Display sample text extracted"
      ],
      "metadata": {
        "id": "QaEfhKz5thyt",
        "colab": {
          "base_uri": "https://localhost:8080/",
          "height": 122
        },
        "outputId": "8a8cd7c3-a0a9-4343-fd6e-165f2784ac38"
      },
      "execution_count": 5,
      "outputs": [
        {
          "output_type": "execute_result",
          "data": {
            "text/plain": [
              "'Uncertainty-guided search at inference We design a novel, uncertainty-guided and iterative search process to improve Med-Gemini-L 1.0’s generations at inference time. As displayed in the right panel of Figure 2, each iteration consists of four steps: multiple reasoning path generation, uncertainty-based search invocation, uncertainty-guided search query generation, and finally search retrieval for prompt augmentation. Note that while uncertainty-guided search at inference could potentially benefit multimodal settings, we only apply this approach to text-only benchmarks and leave multimodal exploration for future work.\\n\\n1. Multiple reasoning path generation: Given an input context prompt with a medical question, we generate multiple reasoning paths from Med-Gemini-L 1.0. For the first iteration, the prompt only consists of the instruction and question. For subsequent iterations, the prompt also includes search results from step (4) below.'"
            ],
            "application/vnd.google.colaboratory.intrinsic+json": {
              "type": "string"
            }
          },
          "metadata": {},
          "execution_count": 5
        }
      ]
    },
    {
      "cell_type": "code",
      "source": [
        "tables, texts = [], []\n",
        "for element in raw_pdf_elements:\n",
        "    if \"unstructured.documents.elements.Table\" in str(type(element)):\n",
        "        tables.append(str(element))\n",
        "    elif \"unstructured.documents.elements.CompositeElement\" in str(type(element)):\n",
        "        texts.append(str(element))"
      ],
      "metadata": {
        "id": "_fH-4qPn1Blf"
      },
      "execution_count": 6,
      "outputs": []
    },
    {
      "cell_type": "code",
      "source": [
        "tables[0] # Display a sample of the table extracted"
      ],
      "metadata": {
        "id": "5GkeFqRV1DIk",
        "colab": {
          "base_uri": "https://localhost:8080/",
          "height": 105
        },
        "outputId": "7509b87b-a992-4abe-9c1e-248f7f599ed4"
      },
      "execution_count": 7,
      "outputs": [
        {
          "output_type": "execute_result",
          "data": {
            "text/plain": [
              "'Task Dataset OOD Metric Med-Gemini-L 1.0 SoTA SoTA method Reference Close-ended QA Open-ended QA MedQa Accuracy 91.1 90.2 GPT-4 with MedPrompt —_Nori et al. (2023) NEJMCPC = ¥_Top-1 accuracy 30.7 29.2 AMIE McDuff et al. (2023) Top-10 accuracy 72.3 59.1 AMIE McDuff et al. (2023) Gene name extraction GeneTuring 7 ‘Accuracy 86.0 85.0 GPT4 Hou and Ji (2023) Gene alias GeneTuring VV Accuracy 72.7 66.0 GPr4 Hou and Ji (2023) Gene name conversion GeneTuring VV Accuracy 100.0 85.0 GPr4 Hou and Ji (2023) Gene location GeneTuring VV Accuracy 83.0 61.0 GPr4 Hou and Ji (2023) SNP location GeneTuring VV Accuracy 0.0 5.00 ChatGPT Hou and Ji (2023) Gene SNP association GeneTuring VV Accuracy 0.0 0.0 GPr4 Hou and Ji (2023) Protein-coding genes GeneTuring VV Accuracy 100.0 97.0 GPr4 Hou and Ji (2023) Gene disease association GeneTuring VV Accuracy 82.1 84.0 GPr4 Hou and Ji (2023) Gene ontology GeneTuring VV Accuracy 52.3 42.0 GPr4 Hou and Ji (2023)'"
            ],
            "application/vnd.google.colaboratory.intrinsic+json": {
              "type": "string"
            }
          },
          "metadata": {},
          "execution_count": 7
        }
      ]
    },
    {
      "cell_type": "markdown",
      "source": [
        "## Configure your API key\n",
        "\n",
        "To run the following cell, your API key must be stored it in a Colab Secret named `GOOGLE_API_KEY`. If you don't already have an API key, or you're not sure how to create a Colab Secret, see  [Authentication](https://github.com/google-gemini/cookbook/blob/main/quickstarts/Authentication.ipynb) for an example."
      ],
      "metadata": {
        "id": "9iZ3xfXR2eBc"
      }
    },
    {
      "cell_type": "code",
      "source": [
        "from google.colab import userdata\n",
        "\n",
        "GOOGLE_API_KEY=userdata.get('GOOGLE_API_KEY')"
      ],
      "metadata": {
        "id": "eVILggGR0jxi"
      },
      "execution_count": 8,
      "outputs": []
    },
    {
      "cell_type": "markdown",
      "source": [
        "## Generate text and table summaries\n",
        "\n",
        "You will use Gemini 2.0 (`gemini-2.0-flash-exp`) to generate summaries of text for the tabular and text data. Use the prompt below to generate the summaries of the inputs."
      ],
      "metadata": {
        "id": "mzBas1z13Jy8"
      }
    },
    {
      "cell_type": "code",
      "source": [
        "MODEL_NAME = \"gemini-2.0-flash-exp\" # Set the model to Gemini 2.0 Flash\n",
        "client = genai.Client(api_key=GOOGLE_API_KEY)"
      ],
      "metadata": {
        "id": "5cGvzSKJ8dzt"
      },
      "execution_count": 9,
      "outputs": []
    },
    {
      "cell_type": "code",
      "source": [
        "def make_prompt(element):\n",
        "  return f\"\"\"You are an agent tasked with summarizing research tables and texts from research papers for retrieval. \\\n",
        "             These summaries will be embedded and used to retrieve the raw text or table elements. \\\n",
        "             Give a concise summary of the tables or text that is well optimized for retrieval. Table or text: {element} \"\"\"\n",
        "\n",
        "def generate_text_summary(data):\n",
        "  if len(data) >= 0:\n",
        "    prompt = make_prompt(data)\n",
        "    response = client.models.generate_content(\n",
        "        model=MODEL_NAME,\n",
        "        contents=prompt\n",
        "    )\n",
        "    return response.text"
      ],
      "metadata": {
        "id": "rl4sp4xQ3JMA"
      },
      "execution_count": 10,
      "outputs": []
    },
    {
      "cell_type": "code",
      "source": [
        "# Generate summaries for text elements\n",
        "text_summaries = []\n",
        "for text in tqdm(texts):\n",
        "  text_summaries.append(generate_text_summary(text))\n",
        "\n",
        "# Generate summaries for table elements\n",
        "table_summaries = []\n",
        "for table in tqdm(tables):\n",
        "  table_summaries.append(generate_text_summary(table))"
      ],
      "metadata": {
        "id": "PucDsMGz6ARt",
        "colab": {
          "base_uri": "https://localhost:8080/"
        },
        "outputId": "012f5fc9-a777-43c7-923f-2175c08fdf89"
      },
      "execution_count": 13,
      "outputs": [
        {
          "output_type": "stream",
          "name": "stderr",
          "text": [
            "100%|██████████| 310/310 [05:39<00:00,  1.09s/it]\n",
            "100%|██████████| 6/6 [00:08<00:00,  1.42s/it]\n"
          ]
        }
      ]
    },
    {
      "cell_type": "markdown",
      "source": [
        "Take a look at the original text compared to the summarized text:"
      ],
      "metadata": {
        "id": "zibLshue8WfN"
      }
    },
    {
      "cell_type": "code",
      "source": [
        "pprint(f\"Original text: {texts[51]}\")\n",
        "pprint(\"-\"*100)\n",
        "pprint(f\"Summarized text: {text_summaries[51]}\")"
      ],
      "metadata": {
        "id": "vDi-anku6Fgl",
        "colab": {
          "base_uri": "https://localhost:8080/"
        },
        "outputId": "69df341b-89fb-4c75-baff-9ba8becc9209"
      },
      "execution_count": 14,
      "outputs": [
        {
          "output_type": "stream",
          "name": "stdout",
          "text": [
            "('Original text: Uncertainty-guided search at inference We design a novel, '\n",
            " 'uncertainty-guided and iterative search process to improve Med-Gemini-L '\n",
            " '1.0’s generations at inference time. As displayed in the right panel of '\n",
            " 'Figure 2, each iteration consists of four steps: multiple reasoning path '\n",
            " 'generation, uncertainty-based search invocation, uncertainty-guided search '\n",
            " 'query generation, and finally search retrieval for prompt augmentation. Note '\n",
            " 'that while uncertainty-guided search at inference could potentially benefit '\n",
            " 'multimodal settings, we only apply this approach to text-only benchmarks and '\n",
            " 'leave multimodal exploration for future work.\\n'\n",
            " '\\n'\n",
            " '1. Multiple reasoning path generation: Given an input context prompt with a '\n",
            " 'medical question, we generate multiple reasoning paths from Med-Gemini-L '\n",
            " '1.0. For the first iteration, the prompt only consists of the instruction '\n",
            " 'and question. For subsequent iterations, the prompt also includes search '\n",
            " 'results from step (4) below.')\n",
            "'----------------------------------------------------------------------------------------------------'\n",
            "('Summarized text: The text describes an uncertainty-guided iterative search '\n",
            " \"process to improve Med-Gemini-L 1.0's text generation at inference time. It \"\n",
            " 'involves generating multiple reasoning paths, using uncertainty to guide '\n",
            " 'search queries, retrieving information, and augmenting the prompt in '\n",
            " 'subsequent iterations. This process is applied to text-only benchmarks.\\n')\n"
          ]
        }
      ]
    },
    {
      "cell_type": "markdown",
      "source": [
        "Take a look at the original table compared to the summarized table:"
      ],
      "metadata": {
        "id": "wl36MrMI8bT1"
      }
    },
    {
      "cell_type": "code",
      "source": [
        "pprint(f\"Original table: {tables[3]}\")\n",
        "pprint(\"-\"*100)\n",
        "pprint(f\"Summarized table: {table_summaries[3]}\")"
      ],
      "metadata": {
        "id": "U-Mny6Tx8VTM",
        "colab": {
          "base_uri": "https://localhost:8080/"
        },
        "outputId": "846a0554-60d4-4adf-ad73-ce4b04714c8c"
      },
      "execution_count": 15,
      "outputs": [
        {
          "output_type": "stream",
          "name": "stdout",
          "text": [
            "('Original table: BMC Cell Biology Brain dystrophin-glycoprotein complex: '\n",
            " 'persistent expression of B-dystroglycan, impaired oligomerization of Dp71 '\n",
            " 'and up-regulation of utrophins in animal models of muscular dystrophy '\n",
            " 'Culligan, K., Glover, L., Dowling, P., & Ohlendieck, K. International '\n",
            " 'Journal of Biological Sciences Complex relationship between obesity and the '\n",
            " 'fat mass and obesity locus. Yang, Q., Xiao, T., Guo, J., & Su, Z. Frontiers '\n",
            " 'in Endocrinology Critical enzymatic functions of FTO in obesity and cancer '\n",
            " 'Deng, X., Su, R., Stanford, S., & Chen, J. Current Diabetes Reports The '\n",
            " 'American Journal of Clinical Nutrition New England Journal of Medicine FTO '\n",
            " 'and obesity: mechanisms of association. FTO genotype impacts food intake and '\n",
            " 'corticolimbic activation FTO obesity variant circuitry and adipocyte '\n",
            " 'browning in humans. New England Journal of Medicine')\n",
            "'----------------------------------------------------------------------------------------------------'\n",
            "('Summarized table: This collection of research articles focuses on the role '\n",
            " 'of proteins and genetic factors in muscular dystrophy and obesity. '\n",
            " 'Specifically, the articles cover: 1) the brain dystrophin-glycoprotein '\n",
            " 'complex in muscular dystrophy, noting persistent expression of '\n",
            " 'B-dystroglycan, impaired Dp71 oligomerization, and increased utrophins; 2) '\n",
            " 'the complex relationship between obesity and the fat mass and obesity locus '\n",
            " '(FTO); 3) the critical enzymatic functions of FTO in obesity and cancer; 4) '\n",
            " 'the mechanisms linking FTO and obesity; 5) the impact of FTO genotype on '\n",
            " 'food intake and brain activity; and 6) the connection between FTO obesity '\n",
            " 'variant circuitry and adipocyte browning.\\n')\n"
          ]
        }
      ]
    },
    {
      "cell_type": "markdown",
      "source": [
        "### Generate image summaries\n",
        "\n",
        "In the code cell below, you will use a prompt to input an image and generate a text summary of that image. The `gemini-1.5-flash` model will be used to accomplish this as well.\n",
        "\n",
        "Encoding an image is important to protect the image data while storing and retrieving it."
      ],
      "metadata": {
        "id": "kGKY5nC19cGg"
      }
    },
    {
      "cell_type": "code",
      "source": [
        "def generate_image_summaries(image_paths):\n",
        "  image_summaries = [] # Store image summaries\n",
        "\n",
        "  prompt = \"\"\"You are an assistant tasked with summarizing images for retrieval. \\\n",
        "    These summaries will be embedded and used to retrieve the raw image. \\\n",
        "    Give a concise summary of the image that is well optimized for retrieval.\n",
        "    If it's a table, extract all elements of the table.\n",
        "    If it's a graph, explain the findings in the graph.\n",
        "    Include details about color, proportion, and shape if necessary to describe the image. \\\n",
        "    Do not include any numbers that are not mentioned in the image.\n",
        "    \"\"\"\n",
        "\n",
        "  for image_path in tqdm(image_paths):\n",
        "    img = PIL.Image.open(image_path.path)\n",
        "    response = client.models.generate_content(\n",
        "        model=MODEL_NAME,\n",
        "        contents=[prompt, img]\n",
        "        )\n",
        "    image_summaries.append(response.text)\n",
        "\n",
        "  return image_summaries"
      ],
      "metadata": {
        "id": "1yo4CmWw9MRv"
      },
      "execution_count": 16,
      "outputs": []
    },
    {
      "cell_type": "code",
      "source": [
        "# Take look at one of the images\n",
        "img = PIL.Image.open(f\"/content/figures/{os.listdir('/content/figures/')[0]}\")\n",
        "display(img)"
      ],
      "metadata": {
        "id": "ClUzmaC1Bz8X",
        "colab": {
          "base_uri": "https://localhost:8080/",
          "height": 497
        },
        "outputId": "e7fbde39-7368-48ba-e4de-ee20035733b6"
      },
      "execution_count": 18,
      "outputs": [
        {
          "output_type": "display_data",
          "data": {
            "text/plain": [
              "<PIL.JpegImagePlugin.JpegImageFile image mode=RGB size=616x480>"
            ],
            "image/png": "[encoded data removed]",
            "image/jpeg": "[encoded data removed]"
          },
          "metadata": {}
        }
      ]
    },
    {
      "cell_type": "code",
      "source": [
        "image_summaries = generate_image_summaries(os.scandir('/content/figures/'))"
      ],
      "metadata": {
        "id": "RGjujdWHBphU",
        "colab": {
          "base_uri": "https://localhost:8080/"
        },
        "outputId": "14b22b9e-fa31-4505-e847-e393ad317341"
      },
      "execution_count": 19,
      "outputs": [
        {
          "output_type": "stream",
          "name": "stderr",
          "text": [
            "76it [01:52,  1.48s/it]\n"
          ]
        }
      ]
    },
    {
      "cell_type": "code",
      "source": [
        "image_summaries[0]"
      ],
      "metadata": {
        "id": "9c1iqwHoCA7m",
        "colab": {
          "base_uri": "https://localhost:8080/",
          "height": 87
        },
        "outputId": "4382416a-ffae-4388-af52-a8030fb161e2"
      },
      "execution_count": 20,
      "outputs": [
        {
          "output_type": "execute_result",
          "data": {
            "text/plain": [
              "'The image is a bar graph showing the performance of a MedQA system under different conditions. The x-axis represents four conditions: \"Before\", \"Without missing info\", \"Without label errors\", and \"Without ambiguous\". There are two y-axes, the left one represents \"MedQA Accuracy\" and the right one \"Fraction of questions\". Blue bars represent \"Questions\" and red bars represent \"Accuracy\". The bars show that the accuracy of the system increases when the system operates \"Without missing info\" compared to \"Before\". The fraction of questions reduces in the remaining conditions \"Without label errors\" and \"Without ambiguous\". The largest fraction of questions is when the system operates \"Before\" at 100.'"
            ],
            "application/vnd.google.colaboratory.intrinsic+json": {
              "type": "string"
            }
          },
          "metadata": {},
          "execution_count": 20
        }
      ]
    },
    {
      "cell_type": "markdown",
      "source": [
        "## Embedding generation\n",
        "\n",
        "Generate embeddings for the texts, tables, and images now. Store them in the Pandas dataframe for now.\n",
        "\n",
        "### API changes to Embeddings with model embedding-001\n",
        "\n",
        "For the new embeddings model, `embedding-001`, there is a new `task type` parameter and the optional title (only valid with task_type=`RETRIEVAL_DOCUMENT`).\n",
        "\n",
        "These new parameters apply only to the newest embeddings models.The task types are:\n",
        "\n",
        "Task Type | Description\n",
        "---       | ---\n",
        "RETRIEVAL_QUERY\t| Specifies the given text is a query in a search/retrieval setting.\n",
        "RETRIEVAL_DOCUMENT | Specifies the given text is a document in a search/retrieval setting.\n",
        "SEMANTIC_SIMILARITY\t| Specifies the given text will be used for Semantic Textual Similarity (STS).\n",
        "CLASSIFICATION\t| Specifies that the embeddings will be used for classification.\n",
        "CLUSTERING\t| Specifies that the embeddings will be used for clustering."
      ],
      "metadata": {
        "id": "e5oZsKNhGLJW"
      }
    },
    {
      "cell_type": "code",
      "source": [
        "TEXT_EMBEDDING_MODEL_ID = \"text-embedding-004\""
      ],
      "metadata": {
        "id": "DDpNS5nyTh-T"
      },
      "execution_count": 26,
      "outputs": []
    },
    {
      "cell_type": "code",
      "source": [
        "!pip install ratelimit"
      ],
      "metadata": {
        "colab": {
          "base_uri": "https://localhost:8080/"
        },
        "id": "UZUAhzD_V-jM",
        "outputId": "035f0d91-59f1-40af-8484-732072cb54eb"
      },
      "execution_count": 43,
      "outputs": [
        {
          "output_type": "stream",
          "name": "stdout",
          "text": [
            "Collecting ratelimit\n",
            "  Downloading ratelimit-2.2.1.tar.gz (5.3 kB)\n",
            "  Preparing metadata (setup.py) ... \u001b[?25l\u001b[?25hdone\n",
            "Building wheels for collected packages: ratelimit\n",
            "  Building wheel for ratelimit (setup.py) ... \u001b[?25l\u001b[?25hdone\n",
            "  Created wheel for ratelimit: filename=ratelimit-2.2.1-py3-none-any.whl size=5895 sha256=723f7733f5e4a406bc7e73d87bdede3d40cd3a62a069d64f73583744cfe49e5e\n",
            "  Stored in directory: /root/.cache/pip/wheels/27/5f/ba/e972a56dcbf5de9f2b7d2b2a710113970bd173c4dcd3d2c902\n",
            "Successfully built ratelimit\n",
            "Installing collected packages: ratelimit\n",
            "Successfully installed ratelimit-2.2.1\n"
          ]
        }
      ]
    },
    {
      "cell_type": "code",
      "source": [
        "import time\n",
        "from ratelimit import limits, sleep_and_retry\n",
        "\n",
        "# Define a rate limit decorator with 60 requests per minute\n",
        "@sleep_and_retry\n",
        "@limits(calls=60, period=60)\n",
        "def create_embeddings(data):\n",
        "  time.sleep(1)\n",
        "  return client.models.embed_content(model=TEXT_EMBEDDING_MODEL_ID,\n",
        "                                     contents=data,\n",
        "                                     config=types.EmbedContentConfig(\n",
        "                                         task_type=\"RETRIEVAL_DOCUMENT\"\n",
        "                                      )\n",
        "  )"
      ],
      "metadata": {
        "id": "NwW21EtWJwQz"
      },
      "execution_count": 44,
      "outputs": []
    },
    {
      "cell_type": "code",
      "source": [
        "# Generate embeddings for text summaries, and add to the dataframe.\n",
        "data_df = pd.DataFrame(columns=['Original Text or Image', 'Summary', 'Embeddings']) # Create new Pandas dataframe\n",
        "data_df['Original Text or Image'] = texts + tables + [img.path for img in os.scandir('/content/figures/')]\n",
        "data_df['Summary'] = text_summaries + table_summaries + image_summaries\n",
        "data_df = data_df[data_df['Original Text or Image'] != ''] # Drop empty entries\n",
        "data_df"
      ],
      "metadata": {
        "colab": {
          "base_uri": "https://localhost:8080/",
          "height": 424
        },
        "id": "1tGirGsoUsHS",
        "outputId": "b01d173f-41af-4e3b-811b-a00bb8e7d935"
      },
      "execution_count": 33,
      "outputs": [
        {
          "output_type": "execute_result",
          "data": {
            "text/plain": [
              "                                Original Text or Image  \\\n",
              "0    4\\n\\n2024\\n\\n2\\n\\n0\\n\\n2 y a M 1 ] I A . s c [...   \n",
              "1    Khaled Saab◦,1, Tao Tu◦,‡,1, Wei-Hung Weng◦,1,...   \n",
              "2    Joelle Barral2, Greg Corrado1, Christopher Sem...   \n",
              "3    ◦Co-first, *Core, ‡Technical Lead, †Senior Lea...   \n",
              "4    Excellence in a wide variety of medical applic...   \n",
              "..                                                 ...   \n",
              "387                  /content/figures/figure-26-26.jpg   \n",
              "388                    /content/figures/figure-2-7.jpg   \n",
              "389                    /content/figures/figure-2-6.jpg   \n",
              "390                  /content/figures/figure-27-40.jpg   \n",
              "391                  /content/figures/figure-28-70.jpg   \n",
              "\n",
              "                                               Summary Embeddings  \n",
              "0    This is a header section indicating the origin...        NaN  \n",
              "1    This is a list of authors and their affiliatio...        NaN  \n",
              "2    This text lists the authors of a research pape...        NaN  \n",
              "3    This text lists author affiliations and roles....        NaN  \n",
              "4    Med-Gemini models, specialized in medicine, ou...        NaN  \n",
              "..                                                 ...        ...  \n",
              "387  A black outline of a person icon. The person i...        NaN  \n",
              "388  A digital illustration of a tablet screen, sho...        NaN  \n",
              "389  This image shows a light-blue mobile phone scr...        NaN  \n",
              "390  The image shows a simple, black-line drawing o...        NaN  \n",
              "391  The image is a solid black square. In the bott...        NaN  \n",
              "\n",
              "[392 rows x 3 columns]"
            ],
            "text/html": [
              "\n",
              "  <div id=\"df-7b197092-34b7-4a6d-ad6b-c62befdd38ab\" class=\"colab-df-container\">\n",
              "    <div>\n",
              "<style scoped>\n",
              "    .dataframe tbody tr th:only-of-type {\n",
              "        vertical-align: middle;\n",
              "    }\n",
              "\n",
              "    .dataframe tbody tr th {\n",
              "        vertical-align: top;\n",
              "    }\n",
              "\n",
              "    .dataframe thead th {\n",
              "        text-align: right;\n",
              "    }\n",
              "</style>\n",
              "<table border=\"1\" class=\"dataframe\">\n",
              "  <thead>\n",
              "    <tr style=\"text-align: right;\">\n",
              "      <th></th>\n",
              "      <th>Original Text or Image</th>\n",
              "      <th>Summary</th>\n",
              "      <th>Embeddings</th>\n",
              "    </tr>\n",
              "  </thead>\n",
              "  <tbody>\n",
              "    <tr>\n",
              "      <th>0</th>\n",
              "      <td>4\\n\\n2024\\n\\n2\\n\\n0\\n\\n2 y a M 1 ] I A . s c [...</td>\n",
              "      <td>This is a header section indicating the origin...</td>\n",
              "      <td>NaN</td>\n",
              "    </tr>\n",
              "    <tr>\n",
              "      <th>1</th>\n",
              "      <td>Khaled Saab◦,1, Tao Tu◦,‡,1, Wei-Hung Weng◦,1,...</td>\n",
              "      <td>This is a list of authors and their affiliatio...</td>\n",
              "      <td>NaN</td>\n",
              "    </tr>\n",
              "    <tr>\n",
              "      <th>2</th>\n",
              "      <td>Joelle Barral2, Greg Corrado1, Christopher Sem...</td>\n",
              "      <td>This text lists the authors of a research pape...</td>\n",
              "      <td>NaN</td>\n",
              "    </tr>\n",
              "    <tr>\n",
              "      <th>3</th>\n",
              "      <td>◦Co-first, *Core, ‡Technical Lead, †Senior Lea...</td>\n",
              "      <td>This text lists author affiliations and roles....</td>\n",
              "      <td>NaN</td>\n",
              "    </tr>\n",
              "    <tr>\n",
              "      <th>4</th>\n",
              "      <td>Excellence in a wide variety of medical applic...</td>\n",
              "      <td>Med-Gemini models, specialized in medicine, ou...</td>\n",
              "      <td>NaN</td>\n",
              "    </tr>\n",
              "    <tr>\n",
              "      <th>...</th>\n",
              "      <td>...</td>\n",
              "      <td>...</td>\n",
              "      <td>...</td>\n",
              "    </tr>\n",
              "    <tr>\n",
              "      <th>387</th>\n",
              "      <td>/content/figures/figure-26-26.jpg</td>\n",
              "      <td>A black outline of a person icon. The person i...</td>\n",
              "      <td>NaN</td>\n",
              "    </tr>\n",
              "    <tr>\n",
              "      <th>388</th>\n",
              "      <td>/content/figures/figure-2-7.jpg</td>\n",
              "      <td>A digital illustration of a tablet screen, sho...</td>\n",
              "      <td>NaN</td>\n",
              "    </tr>\n",
              "    <tr>\n",
              "      <th>389</th>\n",
              "      <td>/content/figures/figure-2-6.jpg</td>\n",
              "      <td>This image shows a light-blue mobile phone scr...</td>\n",
              "      <td>NaN</td>\n",
              "    </tr>\n",
              "    <tr>\n",
              "      <th>390</th>\n",
              "      <td>/content/figures/figure-27-40.jpg</td>\n",
              "      <td>The image shows a simple, black-line drawing o...</td>\n",
              "      <td>NaN</td>\n",
              "    </tr>\n",
              "    <tr>\n",
              "      <th>391</th>\n",
              "      <td>/content/figures/figure-28-70.jpg</td>\n",
              "      <td>The image is a solid black square. In the bott...</td>\n",
              "      <td>NaN</td>\n",
              "    </tr>\n",
              "  </tbody>\n",
              "</table>\n",
              "<p>392 rows × 3 columns</p>\n",
              "</div>\n",
              "    <div class=\"colab-df-buttons\">\n",
              "\n",
              "  <div class=\"colab-df-container\">\n",
              "    <button class=\"colab-df-convert\" onclick=\"convertToInteractive('df-7b197092-34b7-4a6d-ad6b-c62befdd38ab')\"\n",
              "            title=\"Convert this dataframe to an interactive table.\"\n",
              "            style=\"display:none;\">\n",
              "\n",
              "  <svg xmlns=\"http://www.w3.org/2000/svg\" height=\"24px\" viewBox=\"0 -960 960 960\">\n",
              "    <path d=\"M120-120v-720h720v720H120Zm60-500h600v-160H180v160Zm220 220h160v-160H400v160Zm0 220h160v-160H400v160ZM180-400h160v-160H180v160Zm440 0h160v-160H620v160ZM180-180h160v-160H180v160Zm440 0h160v-160H620v160Z\"/>\n",
              "  </svg>\n",
              "    </button>\n",
              "\n",
              "  <style>\n",
              "    .colab-df-container {\n",
              "      display:flex;\n",
              "      gap: 12px;\n",
              "    }\n",
              "\n",
              "    .colab-df-convert {\n",
              "      background-color: #E8F0FE;\n",
              "      border: none;\n",
              "      border-radius: 50%;\n",
              "      cursor: pointer;\n",
              "      display: none;\n",
              "      fill: #1967D2;\n",
              "      height: 32px;\n",
              "      padding: 0 0 0 0;\n",
              "      width: 32px;\n",
              "    }\n",
              "\n",
              "    .colab-df-convert:hover {\n",
              "      background-color: #E2EBFA;\n",
              "      box-shadow: 0px 1px 2px rgba(60, 64, 67, 0.3), 0px 1px 3px 1px rgba(60, 64, 67, 0.15);\n",
              "      fill: #174EA6;\n",
              "    }\n",
              "\n",
              "    .colab-df-buttons div {\n",
              "      margin-bottom: 4px;\n",
              "    }\n",
              "\n",
              "    [theme=dark] .colab-df-convert {\n",
              "      background-color: #3B4455;\n",
              "      fill: #D2E3FC;\n",
              "    }\n",
              "\n",
              "    [theme=dark] .colab-df-convert:hover {\n",
              "      background-color: #434B5C;\n",
              "      box-shadow: 0px 1px 3px 1px rgba(0, 0, 0, 0.15);\n",
              "      filter: drop-shadow(0px 1px 2px rgba(0, 0, 0, 0.3));\n",
              "      fill: #FFFFFF;\n",
              "    }\n",
              "  </style>\n",
              "\n",
              "    <script>\n",
              "      const buttonEl =\n",
              "        document.querySelector('#df-7b197092-34b7-4a6d-ad6b-c62befdd38ab button.colab-df-convert');\n",
              "      buttonEl.style.display =\n",
              "        google.colab.kernel.accessAllowed ? 'block' : 'none';\n",
              "\n",
              "      async function convertToInteractive(key) {\n",
              "        const element = document.querySelector('#df-7b197092-34b7-4a6d-ad6b-c62befdd38ab');\n",
              "        const dataTable =\n",
              "          await google.colab.kernel.invokeFunction('convertToInteractive',\n",
              "                                                    [key], {});\n",
              "        if (!dataTable) return;\n",
              "\n",
              "        const docLinkHtml = 'Like what you see? Visit the ' +\n",
              "          '<a target=\"_blank\" href=https://colab.research.google.com/notebooks/data_table.ipynb>data table notebook</a>'\n",
              "          + ' to learn more about interactive tables.';\n",
              "        element.innerHTML = '';\n",
              "        dataTable['output_type'] = 'display_data';\n",
              "        await google.colab.output.renderOutput(dataTable, element);\n",
              "        const docLink = document.createElement('div');\n",
              "        docLink.innerHTML = docLinkHtml;\n",
              "        element.appendChild(docLink);\n",
              "      }\n",
              "    </script>\n",
              "  </div>\n",
              "\n",
              "\n",
              "<div id=\"df-9714365d-7634-4184-97c6-a3e4c1363ea0\">\n",
              "  <button class=\"colab-df-quickchart\" onclick=\"quickchart('df-9714365d-7634-4184-97c6-a3e4c1363ea0')\"\n",
              "            title=\"Suggest charts\"\n",
              "            style=\"display:none;\">\n",
              "\n",
              "<svg xmlns=\"http://www.w3.org/2000/svg\" height=\"24px\"viewBox=\"0 0 24 24\"\n",
              "     width=\"24px\">\n",
              "    <g>\n",
              "        <path d=\"M19 3H5c-1.1 0-2 .9-2 2v14c0 1.1.9 2 2 2h14c1.1 0 2-.9 2-2V5c0-1.1-.9-2-2-2zM9 17H7v-7h2v7zm4 0h-2V7h2v10zm4 0h-2v-4h2v4z\"/>\n",
              "    </g>\n",
              "</svg>\n",
              "  </button>\n",
              "\n",
              "<style>\n",
              "  .colab-df-quickchart {\n",
              "      --bg-color: #E8F0FE;\n",
              "      --fill-color: #1967D2;\n",
              "      --hover-bg-color: #E2EBFA;\n",
              "      --hover-fill-color: #174EA6;\n",
              "      --disabled-fill-color: #AAA;\n",
              "      --disabled-bg-color: #DDD;\n",
              "  }\n",
              "\n",
              "  [theme=dark] .colab-df-quickchart {\n",
              "      --bg-color: #3B4455;\n",
              "      --fill-color: #D2E3FC;\n",
              "      --hover-bg-color: #434B5C;\n",
              "      --hover-fill-color: #FFFFFF;\n",
              "      --disabled-bg-color: #3B4455;\n",
              "      --disabled-fill-color: #666;\n",
              "  }\n",
              "\n",
              "  .colab-df-quickchart {\n",
              "    background-color: var(--bg-color);\n",
              "    border: none;\n",
              "    border-radius: 50%;\n",
              "    cursor: pointer;\n",
              "    display: none;\n",
              "    fill: var(--fill-color);\n",
              "    height: 32px;\n",
              "    padding: 0;\n",
              "    width: 32px;\n",
              "  }\n",
              "\n",
              "  .colab-df-quickchart:hover {\n",
              "    background-color: var(--hover-bg-color);\n",
              "    box-shadow: 0 1px 2px rgba(60, 64, 67, 0.3), 0 1px 3px 1px rgba(60, 64, 67, 0.15);\n",
              "    fill: var(--button-hover-fill-color);\n",
              "  }\n",
              "\n",
              "  .colab-df-quickchart-complete:disabled,\n",
              "  .colab-df-quickchart-complete:disabled:hover {\n",
              "    background-color: var(--disabled-bg-color);\n",
              "    fill: var(--disabled-fill-color);\n",
              "    box-shadow: none;\n",
              "  }\n",
              "\n",
              "  .colab-df-spinner {\n",
              "    border: 2px solid var(--fill-color);\n",
              "    border-color: transparent;\n",
              "    border-bottom-color: var(--fill-color);\n",
              "    animation:\n",
              "      spin 1s steps(1) infinite;\n",
              "  }\n",
              "\n",
              "  @keyframes spin {\n",
              "    0% {\n",
              "      border-color: transparent;\n",
              "      border-bottom-color: var(--fill-color);\n",
              "      border-left-color: var(--fill-color);\n",
              "    }\n",
              "    20% {\n",
              "      border-color: transparent;\n",
              "      border-left-color: var(--fill-color);\n",
              "      border-top-color: var(--fill-color);\n",
              "    }\n",
              "    30% {\n",
              "      border-color: transparent;\n",
              "      border-left-color: var(--fill-color);\n",
              "      border-top-color: var(--fill-color);\n",
              "      border-right-color: var(--fill-color);\n",
              "    }\n",
              "    40% {\n",
              "      border-color: transparent;\n",
              "      border-right-color: var(--fill-color);\n",
              "      border-top-color: var(--fill-color);\n",
              "    }\n",
              "    60% {\n",
              "      border-color: transparent;\n",
              "      border-right-color: var(--fill-color);\n",
              "    }\n",
              "    80% {\n",
              "      border-color: transparent;\n",
              "      border-right-color: var(--fill-color);\n",
              "      border-bottom-color: var(--fill-color);\n",
              "    }\n",
              "    90% {\n",
              "      border-color: transparent;\n",
              "      border-bottom-color: var(--fill-color);\n",
              "    }\n",
              "  }\n",
              "</style>\n",
              "\n",
              "  <script>\n",
              "    async function quickchart(key) {\n",
              "      const quickchartButtonEl =\n",
              "        document.querySelector('#' + key + ' button');\n",
              "      quickchartButtonEl.disabled = true;  // To prevent multiple clicks.\n",
              "      quickchartButtonEl.classList.add('colab-df-spinner');\n",
              "      try {\n",
              "        const charts = await google.colab.kernel.invokeFunction(\n",
              "            'suggestCharts', [key], {});\n",
              "      } catch (error) {\n",
              "        console.error('Error during call to suggestCharts:', error);\n",
              "      }\n",
              "      quickchartButtonEl.classList.remove('colab-df-spinner');\n",
              "      quickchartButtonEl.classList.add('colab-df-quickchart-complete');\n",
              "    }\n",
              "    (() => {\n",
              "      let quickchartButtonEl =\n",
              "        document.querySelector('#df-9714365d-7634-4184-97c6-a3e4c1363ea0 button');\n",
              "      quickchartButtonEl.style.display =\n",
              "        google.colab.kernel.accessAllowed ? 'block' : 'none';\n",
              "    })();\n",
              "  </script>\n",
              "</div>\n",
              "\n",
              "  <div id=\"id_f6cf2c9c-f10f-4a64-8854-021fb7336024\">\n",
              "    <style>\n",
              "      .colab-df-generate {\n",
              "        background-color: #E8F0FE;\n",
              "        border: none;\n",
              "        border-radius: 50%;\n",
              "        cursor: pointer;\n",
              "        display: none;\n",
              "        fill: #1967D2;\n",
              "        height: 32px;\n",
              "        padding: 0 0 0 0;\n",
              "        width: 32px;\n",
              "      }\n",
              "\n",
              "      .colab-df-generate:hover {\n",
              "        background-color: #E2EBFA;\n",
              "        box-shadow: 0px 1px 2px rgba(60, 64, 67, 0.3), 0px 1px 3px 1px rgba(60, 64, 67, 0.15);\n",
              "        fill: #174EA6;\n",
              "      }\n",
              "\n",
              "      [theme=dark] .colab-df-generate {\n",
              "        background-color: #3B4455;\n",
              "        fill: #D2E3FC;\n",
              "      }\n",
              "\n",
              "      [theme=dark] .colab-df-generate:hover {\n",
              "        background-color: #434B5C;\n",
              "        box-shadow: 0px 1px 3px 1px rgba(0, 0, 0, 0.15);\n",
              "        filter: drop-shadow(0px 1px 2px rgba(0, 0, 0, 0.3));\n",
              "        fill: #FFFFFF;\n",
              "      }\n",
              "    </style>\n",
              "    <button class=\"colab-df-generate\" onclick=\"generateWithVariable('data_df')\"\n",
              "            title=\"Generate code using this dataframe.\"\n",
              "            style=\"display:none;\">\n",
              "\n",
              "  <svg xmlns=\"http://www.w3.org/2000/svg\" height=\"24px\"viewBox=\"0 0 24 24\"\n",
              "       width=\"24px\">\n",
              "    <path d=\"M7,19H8.4L18.45,9,17,7.55,7,17.6ZM5,21V16.75L18.45,3.32a2,2,0,0,1,2.83,0l1.4,1.43a1.91,1.91,0,0,1,.58,1.4,1.91,1.91,0,0,1-.58,1.4L9.25,21ZM18.45,9,17,7.55Zm-12,3A5.31,5.31,0,0,0,4.9,8.1,5.31,5.31,0,0,0,1,6.5,5.31,5.31,0,0,0,4.9,4.9,5.31,5.31,0,0,0,6.5,1,5.31,5.31,0,0,0,8.1,4.9,5.31,5.31,0,0,0,12,6.5,5.46,5.46,0,0,0,6.5,12Z\"/>\n",
              "  </svg>\n",
              "    </button>\n",
              "    <script>\n",
              "      (() => {\n",
              "      const buttonEl =\n",
              "        document.querySelector('#id_f6cf2c9c-f10f-4a64-8854-021fb7336024 button.colab-df-generate');\n",
              "      buttonEl.style.display =\n",
              "        google.colab.kernel.accessAllowed ? 'block' : 'none';\n",
              "\n",
              "      buttonEl.onclick = () => {\n",
              "        google.colab.notebook.generateWithVariable('data_df');\n",
              "      }\n",
              "      })();\n",
              "    </script>\n",
              "  </div>\n",
              "\n",
              "    </div>\n",
              "  </div>\n"
            ],
            "application/vnd.google.colaboratory.intrinsic+json": {
              "type": "dataframe",
              "variable_name": "data_df",
              "repr_error": "Out of range float values are not JSON compliant: nan"
            }
          },
          "metadata": {},
          "execution_count": 33
        }
      ]
    },
    {
      "cell_type": "code",
      "source": [
        "# Generate embeddings one at a time for each row of dataframe\n",
        "embeddings = []\n",
        "try:\n",
        "  for text in tqdm(data_df['Summary']):\n",
        "    embeddings.append(create_embeddings(text))\n",
        "except:\n",
        "  time.sleep(10)\n"
      ],
      "metadata": {
        "id": "HujYQsmnKgWk",
        "colab": {
          "base_uri": "https://localhost:8080/"
        },
        "outputId": "55269aea-ba97-496d-bccb-49753c83e56f"
      },
      "execution_count": 48,
      "outputs": [
        {
          "output_type": "stream",
          "name": "stderr",
          "text": [
            "100%|██████████| 392/392 [09:00<00:00,  1.38s/it]\n"
          ]
        }
      ]
    },
    {
      "cell_type": "code",
      "source": [
        "_embeddings = []\n",
        "for embedding in embeddings:\n",
        "  _embeddings.append(embedding.embeddings[0].values)\n",
        "\n",
        "\n",
        "data_df['Embeddings'] = _embeddings"
      ],
      "metadata": {
        "id": "I70AfamBW7KJ"
      },
      "execution_count": 70,
      "outputs": []
    },
    {
      "cell_type": "code",
      "source": [
        "data_df.head()"
      ],
      "metadata": {
        "colab": {
          "base_uri": "https://localhost:8080/",
          "height": 206
        },
        "id": "husqhoCTYlbg",
        "outputId": "93c3fa23-8c5c-4c84-a271-ab82a12ff5df"
      },
      "execution_count": 71,
      "outputs": [
        {
          "output_type": "execute_result",
          "data": {
            "text/plain": [
              "                              Original Text or Image  \\\n",
              "0  4\\n\\n2024\\n\\n2\\n\\n0\\n\\n2 y a M 1 ] I A . s c [...   \n",
              "1  Khaled Saab◦,1, Tao Tu◦,‡,1, Wei-Hung Weng◦,1,...   \n",
              "2  Joelle Barral2, Greg Corrado1, Christopher Sem...   \n",
              "3  ◦Co-first, *Core, ‡Technical Lead, †Senior Lea...   \n",
              "4  Excellence in a wide variety of medical applic...   \n",
              "\n",
              "                                             Summary  \\\n",
              "0  This is a header section indicating the origin...   \n",
              "1  This is a list of authors and their affiliatio...   \n",
              "2  This text lists the authors of a research pape...   \n",
              "3  This text lists author affiliations and roles....   \n",
              "4  Med-Gemini models, specialized in medicine, ou...   \n",
              "\n",
              "                                          Embeddings  \n",
              "0  [0.055964004, 0.03846679, -0.049835, 0.0494487...  \n",
              "1  [-0.0016375299, 0.027570048, -0.07061442, 0.05...  \n",
              "2  [-0.009014637, 0.00067063654, -0.032143217, 0....  \n",
              "3  [0.041981556, 0.026378741, -0.059118178, 0.016...  \n",
              "4  [0.04048051, 0.01800591, -0.050974954, -0.0095...  "
            ],
            "text/html": [
              "\n",
              "  <div id=\"df-331790bf-e02b-4bbb-92ef-c4872ac7cdfe\" class=\"colab-df-container\">\n",
              "    <div>\n",
              "<style scoped>\n",
              "    .dataframe tbody tr th:only-of-type {\n",
              "        vertical-align: middle;\n",
              "    }\n",
              "\n",
              "    .dataframe tbody tr th {\n",
              "        vertical-align: top;\n",
              "    }\n",
              "\n",
              "    .dataframe thead th {\n",
              "        text-align: right;\n",
              "    }\n",
              "</style>\n",
              "<table border=\"1\" class=\"dataframe\">\n",
              "  <thead>\n",
              "    <tr style=\"text-align: right;\">\n",
              "      <th></th>\n",
              "      <th>Original Text or Image</th>\n",
              "      <th>Summary</th>\n",
              "      <th>Embeddings</th>\n",
              "    </tr>\n",
              "  </thead>\n",
              "  <tbody>\n",
              "    <tr>\n",
              "      <th>0</th>\n",
              "      <td>4\\n\\n2024\\n\\n2\\n\\n0\\n\\n2 y a M 1 ] I A . s c [...</td>\n",
              "      <td>This is a header section indicating the origin...</td>\n",
              "      <td>[0.055964004, 0.03846679, -0.049835, 0.0494487...</td>\n",
              "    </tr>\n",
              "    <tr>\n",
              "      <th>1</th>\n",
              "      <td>Khaled Saab◦,1, Tao Tu◦,‡,1, Wei-Hung Weng◦,1,...</td>\n",
              "      <td>This is a list of authors and their affiliatio...</td>\n",
              "      <td>[-0.0016375299, 0.027570048, -0.07061442, 0.05...</td>\n",
              "    </tr>\n",
              "    <tr>\n",
              "      <th>2</th>\n",
              "      <td>Joelle Barral2, Greg Corrado1, Christopher Sem...</td>\n",
              "      <td>This text lists the authors of a research pape...</td>\n",
              "      <td>[-0.009014637, 0.00067063654, -0.032143217, 0....</td>\n",
              "    </tr>\n",
              "    <tr>\n",
              "      <th>3</th>\n",
              "      <td>◦Co-first, *Core, ‡Technical Lead, †Senior Lea...</td>\n",
              "      <td>This text lists author affiliations and roles....</td>\n",
              "      <td>[0.041981556, 0.026378741, -0.059118178, 0.016...</td>\n",
              "    </tr>\n",
              "    <tr>\n",
              "      <th>4</th>\n",
              "      <td>Excellence in a wide variety of medical applic...</td>\n",
              "      <td>Med-Gemini models, specialized in medicine, ou...</td>\n",
              "      <td>[0.04048051, 0.01800591, -0.050974954, -0.0095...</td>\n",
              "    </tr>\n",
              "  </tbody>\n",
              "</table>\n",
              "</div>\n",
              "    <div class=\"colab-df-buttons\">\n",
              "\n",
              "  <div class=\"colab-df-container\">\n",
              "    <button class=\"colab-df-convert\" onclick=\"convertToInteractive('df-331790bf-e02b-4bbb-92ef-c4872ac7cdfe')\"\n",
              "            title=\"Convert this dataframe to an interactive table.\"\n",
              "            style=\"display:none;\">\n",
              "\n",
              "  <svg xmlns=\"http://www.w3.org/2000/svg\" height=\"24px\" viewBox=\"0 -960 960 960\">\n",
              "    <path d=\"M120-120v-720h720v720H120Zm60-500h600v-160H180v160Zm220 220h160v-160H400v160Zm0 220h160v-160H400v160ZM180-400h160v-160H180v160Zm440 0h160v-160H620v160ZM180-180h160v-160H180v160Zm440 0h160v-160H620v160Z\"/>\n",
              "  </svg>\n",
              "    </button>\n",
              "\n",
              "  <style>\n",
              "    .colab-df-container {\n",
              "      display:flex;\n",
              "      gap: 12px;\n",
              "    }\n",
              "\n",
              "    .colab-df-convert {\n",
              "      background-color: #E8F0FE;\n",
              "      border: none;\n",
              "      border-radius: 50%;\n",
              "      cursor: pointer;\n",
              "      display: none;\n",
              "      fill: #1967D2;\n",
              "      height: 32px;\n",
              "      padding: 0 0 0 0;\n",
              "      width: 32px;\n",
              "    }\n",
              "\n",
              "    .colab-df-convert:hover {\n",
              "      background-color: #E2EBFA;\n",
              "      box-shadow: 0px 1px 2px rgba(60, 64, 67, 0.3), 0px 1px 3px 1px rgba(60, 64, 67, 0.15);\n",
              "      fill: #174EA6;\n",
              "    }\n",
              "\n",
              "    .colab-df-buttons div {\n",
              "      margin-bottom: 4px;\n",
              "    }\n",
              "\n",
              "    [theme=dark] .colab-df-convert {\n",
              "      background-color: #3B4455;\n",
              "      fill: #D2E3FC;\n",
              "    }\n",
              "\n",
              "    [theme=dark] .colab-df-convert:hover {\n",
              "      background-color: #434B5C;\n",
              "      box-shadow: 0px 1px 3px 1px rgba(0, 0, 0, 0.15);\n",
              "      filter: drop-shadow(0px 1px 2px rgba(0, 0, 0, 0.3));\n",
              "      fill: #FFFFFF;\n",
              "    }\n",
              "  </style>\n",
              "\n",
              "    <script>\n",
              "      const buttonEl =\n",
              "        document.querySelector('#df-331790bf-e02b-4bbb-92ef-c4872ac7cdfe button.colab-df-convert');\n",
              "      buttonEl.style.display =\n",
              "        google.colab.kernel.accessAllowed ? 'block' : 'none';\n",
              "\n",
              "      async function convertToInteractive(key) {\n",
              "        const element = document.querySelector('#df-331790bf-e02b-4bbb-92ef-c4872ac7cdfe');\n",
              "        const dataTable =\n",
              "          await google.colab.kernel.invokeFunction('convertToInteractive',\n",
              "                                                    [key], {});\n",
              "        if (!dataTable) return;\n",
              "\n",
              "        const docLinkHtml = 'Like what you see? Visit the ' +\n",
              "          '<a target=\"_blank\" href=https://colab.research.google.com/notebooks/data_table.ipynb>data table notebook</a>'\n",
              "          + ' to learn more about interactive tables.';\n",
              "        element.innerHTML = '';\n",
              "        dataTable['output_type'] = 'display_data';\n",
              "        await google.colab.output.renderOutput(dataTable, element);\n",
              "        const docLink = document.createElement('div');\n",
              "        docLink.innerHTML = docLinkHtml;\n",
              "        element.appendChild(docLink);\n",
              "      }\n",
              "    </script>\n",
              "  </div>\n",
              "\n",
              "\n",
              "<div id=\"df-68de77e8-a7b0-4fe0-a6ee-3ca2ed03e05a\">\n",
              "  <button class=\"colab-df-quickchart\" onclick=\"quickchart('df-68de77e8-a7b0-4fe0-a6ee-3ca2ed03e05a')\"\n",
              "            title=\"Suggest charts\"\n",
              "            style=\"display:none;\">\n",
              "\n",
              "<svg xmlns=\"http://www.w3.org/2000/svg\" height=\"24px\"viewBox=\"0 0 24 24\"\n",
              "     width=\"24px\">\n",
              "    <g>\n",
              "        <path d=\"M19 3H5c-1.1 0-2 .9-2 2v14c0 1.1.9 2 2 2h14c1.1 0 2-.9 2-2V5c0-1.1-.9-2-2-2zM9 17H7v-7h2v7zm4 0h-2V7h2v10zm4 0h-2v-4h2v4z\"/>\n",
              "    </g>\n",
              "</svg>\n",
              "  </button>\n",
              "\n",
              "<style>\n",
              "  .colab-df-quickchart {\n",
              "      --bg-color: #E8F0FE;\n",
              "      --fill-color: #1967D2;\n",
              "      --hover-bg-color: #E2EBFA;\n",
              "      --hover-fill-color: #174EA6;\n",
              "      --disabled-fill-color: #AAA;\n",
              "      --disabled-bg-color: #DDD;\n",
              "  }\n",
              "\n",
              "  [theme=dark] .colab-df-quickchart {\n",
              "      --bg-color: #3B4455;\n",
              "      --fill-color: #D2E3FC;\n",
              "      --hover-bg-color: #434B5C;\n",
              "      --hover-fill-color: #FFFFFF;\n",
              "      --disabled-bg-color: #3B4455;\n",
              "      --disabled-fill-color: #666;\n",
              "  }\n",
              "\n",
              "  .colab-df-quickchart {\n",
              "    background-color: var(--bg-color);\n",
              "    border: none;\n",
              "    border-radius: 50%;\n",
              "    cursor: pointer;\n",
              "    display: none;\n",
              "    fill: var(--fill-color);\n",
              "    height: 32px;\n",
              "    padding: 0;\n",
              "    width: 32px;\n",
              "  }\n",
              "\n",
              "  .colab-df-quickchart:hover {\n",
              "    background-color: var(--hover-bg-color);\n",
              "    box-shadow: 0 1px 2px rgba(60, 64, 67, 0.3), 0 1px 3px 1px rgba(60, 64, 67, 0.15);\n",
              "    fill: var(--button-hover-fill-color);\n",
              "  }\n",
              "\n",
              "  .colab-df-quickchart-complete:disabled,\n",
              "  .colab-df-quickchart-complete:disabled:hover {\n",
              "    background-color: var(--disabled-bg-color);\n",
              "    fill: var(--disabled-fill-color);\n",
              "    box-shadow: none;\n",
              "  }\n",
              "\n",
              "  .colab-df-spinner {\n",
              "    border: 2px solid var(--fill-color);\n",
              "    border-color: transparent;\n",
              "    border-bottom-color: var(--fill-color);\n",
              "    animation:\n",
              "      spin 1s steps(1) infinite;\n",
              "  }\n",
              "\n",
              "  @keyframes spin {\n",
              "    0% {\n",
              "      border-color: transparent;\n",
              "      border-bottom-color: var(--fill-color);\n",
              "      border-left-color: var(--fill-color);\n",
              "    }\n",
              "    20% {\n",
              "      border-color: transparent;\n",
              "      border-left-color: var(--fill-color);\n",
              "      border-top-color: var(--fill-color);\n",
              "    }\n",
              "    30% {\n",
              "      border-color: transparent;\n",
              "      border-left-color: var(--fill-color);\n",
              "      border-top-color: var(--fill-color);\n",
              "      border-right-color: var(--fill-color);\n",
              "    }\n",
              "    40% {\n",
              "      border-color: transparent;\n",
              "      border-right-color: var(--fill-color);\n",
              "      border-top-color: var(--fill-color);\n",
              "    }\n",
              "    60% {\n",
              "      border-color: transparent;\n",
              "      border-right-color: var(--fill-color);\n",
              "    }\n",
              "    80% {\n",
              "      border-color: transparent;\n",
              "      border-right-color: var(--fill-color);\n",
              "      border-bottom-color: var(--fill-color);\n",
              "    }\n",
              "    90% {\n",
              "      border-color: transparent;\n",
              "      border-bottom-color: var(--fill-color);\n",
              "    }\n",
              "  }\n",
              "</style>\n",
              "\n",
              "  <script>\n",
              "    async function quickchart(key) {\n",
              "      const quickchartButtonEl =\n",
              "        document.querySelector('#' + key + ' button');\n",
              "      quickchartButtonEl.disabled = true;  // To prevent multiple clicks.\n",
              "      quickchartButtonEl.classList.add('colab-df-spinner');\n",
              "      try {\n",
              "        const charts = await google.colab.kernel.invokeFunction(\n",
              "            'suggestCharts', [key], {});\n",
              "      } catch (error) {\n",
              "        console.error('Error during call to suggestCharts:', error);\n",
              "      }\n",
              "      quickchartButtonEl.classList.remove('colab-df-spinner');\n",
              "      quickchartButtonEl.classList.add('colab-df-quickchart-complete');\n",
              "    }\n",
              "    (() => {\n",
              "      let quickchartButtonEl =\n",
              "        document.querySelector('#df-68de77e8-a7b0-4fe0-a6ee-3ca2ed03e05a button');\n",
              "      quickchartButtonEl.style.display =\n",
              "        google.colab.kernel.accessAllowed ? 'block' : 'none';\n",
              "    })();\n",
              "  </script>\n",
              "</div>\n",
              "\n",
              "    </div>\n",
              "  </div>\n"
            ],
            "application/vnd.google.colaboratory.intrinsic+json": {
              "type": "dataframe",
              "variable_name": "data_df",
              "summary": "{\n  \"name\": \"data_df\",\n  \"rows\": 392,\n  \"fields\": [\n    {\n      \"column\": \"Original Text or Image\",\n      \"properties\": {\n        \"dtype\": \"string\",\n        \"num_unique_values\": 392,\n        \"samples\": [\n          \"The goal of MVAL is to identify specific video segments based on natural language descriptions (queries) given a video input. For MVAL, we benchmark the test set of MedVidQA for two video span prediction tasks, one using both the video input and subtitle text and the other one with only the video inputs. We follow Gupta et al. (2023); Li et al. (2022) using Intersection over Union (IoU) at the threshold of 0.3, 0.5, 0.7, and mean IoU (mIoU) as the evaluation metrics for the video span prediction tasks. IoU and mIoU are used to measure how much of the ground truth span overlaps with the predicted span.\",\n          \"D. Additional details on multimodal understanding tasks\\n\\nD.1. Multimodal fine-tuning datasets\\n\\nFor Med-Gemini-M 1.5\\u2019s multimodal fine-tuning, we use four image-text datasets from MultiMed- Bench (Tanno et al., 2024; Tu et al., 2024a) including Slake-VQA (Liu et al., 2021), Path-VQA (He et al., 2020), MIMIC-CXR (Johnson et al., 2019a,b), PAD-UFES-20 (Pacheco et al., 2020), in addition to the Radiology Objects in COntext (ROCO) dataset (Pelka et al., 2018). We further use a subset of ECG-QA (Oh et al., 2023) to develop the health signal encoder for encoding sensor input in Med-Gemini-S 1.0. We describe the datasets in details below:\",\n          \"C.2. MedQA (USMLE) Relabeling\\n\\nThe main objectives of this rater study are to identify (a) unanswerable questions due to missing information, (b) potential label errors, and (c) potentially ambiguous questions (Stutz et al., 2023). To this end, we carefully design a two-step study as follows:\\n\\n\\u2022 Step 1: Given the MedQA (USMLE) question and all four answer options:\\n\\n\\u2013 (Q1) We ask \\u201cAre any of the options appropriate to answer this question?\\u201d\\n\\n\\u2013 (Q2) If yes, \\u201cSelect one or more options to answer the question.\\u201d (Multi-select)\\n\\n\\u2013 (Q3) We ask \\u201cIs there any additional information (such as figures, plots, lab results, or similar) referenced in the question that is missing?\\u201d\\n\\n\\u2013 (Q4) If yes, we ask \\u201cDo you think having access to the missing information would change your answer?\\u201d\\n\\n45\\n\\nCapabilities of Gemini Models in Medicine\\n\\n\\u2022 Step 2: After the rater completes step 1, they are presented with the ground truth answer from MedQA:\"\n        ],\n        \"semantic_type\": \"\",\n        \"description\": \"\"\n      }\n    },\n    {\n      \"column\": \"Summary\",\n      \"properties\": {\n        \"dtype\": \"string\",\n        \"num_unique_values\": 387,\n        \"samples\": [\n          \"This text lists several research papers on the genetics of obesity, specifically focusing on the FTO gene. Key themes include gene-environment interactions, the FTO variant rs1421085, the use of mouse models to study FTO, and the biological mechanisms of FTO and obesity. The list also covers the broader genetics of obesity and the translation of findings from discovery to biological understanding.\\n\",\n          \"Patient experienced coagulopathy, thrombocytopenia, anemia requiring transfusion, and possible disseminated intravascular coagulation (DIC). No bacteria grew in initial blood cultures; later wound cultures grew MSSA. Patient improved with treatment, weaned off oxygen, kidney function recovered and coagulopathy resolved. Discharged on antibiotics.\\n\",\n          \"Med-Gemini-M 1.0 generates long-form medical text for after-visit summaries, referral letters, and medical simplification. Clinician raters preferred or tied Med-Gemini-M 1.0's responses to expert responses in over half of comparisons, particularly for referral letters.\\n\"\n        ],\n        \"semantic_type\": \"\",\n        \"description\": \"\"\n      }\n    },\n    {\n      \"column\": \"Embeddings\",\n      \"properties\": {\n        \"dtype\": \"object\",\n        \"semantic_type\": \"\",\n        \"description\": \"\"\n      }\n    }\n  ]\n}"
            }
          },
          "metadata": {},
          "execution_count": 71
        }
      ]
    },
    {
      "cell_type": "markdown",
      "source": [
        "## Embedding search with queries"
      ],
      "metadata": {
        "id": "M1dhdUwwS_NV"
      }
    },
    {
      "cell_type": "code",
      "source": [
        "query1 = \"What is Med-Gemini?\"\n",
        "query2 = \"What are some areas of improvement for LLM performance mentioned in this paper?\"\n",
        "query3 = \"How does the MedQA evaluation work?\"\n",
        "query4 = \"What do the hypothetical multimodal medical dialogues demonstrate about Med-Gemini?\"\n",
        "query5 = \"What are some challenges and opportunities for applying LLMs to clinical problems?\"\n",
        "query6 = \"What models are Med-Gemini benchmarked against?\"\n",
        "\n",
        "queries = [query1, query2, query3, query4, query5, query6]"
      ],
      "metadata": {
        "id": "7_Q8ASF9d7RR"
      },
      "execution_count": 72,
      "outputs": []
    },
    {
      "cell_type": "markdown",
      "source": [
        "Use the `find_best_passage` function to calculate the dot products, and then sort the dataframe from the largest to smallest dot product value to retrieve the relevant passage out of the database. Embed the queries as well so you can perform a search against the database of knowlege."
      ],
      "metadata": {
        "id": "3vYOCFb3h4_e"
      }
    },
    {
      "cell_type": "code",
      "source": [
        "def find_best_passage(query, dataframe):\n",
        "  \"\"\"\n",
        "  Compute the distances between the query and each document in the dataframe\n",
        "  using the dot product.\n",
        "  \"\"\"\n",
        "  query_embedding = client.models.embed_content(model=TEXT_EMBEDDING_MODEL_ID,\n",
        "                                        contents=query,\n",
        "                                        config=types.EmbedContentConfig(task_type=\"RETRIEVAL_QUERY\")\n",
        "                                        )\n",
        "  dot_products = np.dot(np.stack(dataframe['Embeddings']), query_embedding.embeddings[0].values)\n",
        "  idx = np.argmax(dot_products)\n",
        "  return dataframe.iloc[idx]['Original Text or Image'] # Return text from index with max value"
      ],
      "metadata": {
        "id": "WJHydKaKhidT"
      },
      "execution_count": 79,
      "outputs": []
    },
    {
      "cell_type": "markdown",
      "source": [
        "Here is an example of the retrieval."
      ],
      "metadata": {
        "id": "Ly8K5S1jiuxj"
      }
    },
    {
      "cell_type": "code",
      "source": [
        "passage = find_best_passage(query1, data_df)\n",
        "pprint(passage)"
      ],
      "metadata": {
        "id": "Kg3EKs03iub6",
        "colab": {
          "base_uri": "https://localhost:8080/"
        },
        "outputId": "352334c0-8604-43df-ec7e-8b02b8117354"
      },
      "execution_count": 80,
      "outputs": [
        {
          "output_type": "stream",
          "name": "stdout",
          "text": [
            "('potential for multimodal medical dialogue, medical research and education. '\n",
            " 'Taken together, our results offer compelling evidence for the promise of '\n",
            " 'Med-Gemini in many areas of medicine, although further rigorous evaluation '\n",
            " 'will be crucial before real-world deployment in this safety-critical domain.')\n"
          ]
        }
      ]
    },
    {
      "cell_type": "markdown",
      "source": [
        "## Summarization\n",
        "\n",
        "Now use `generate_content` once more to generate answers to the queries posed earlier."
      ],
      "metadata": {
        "id": "QCSo1HTzTBhQ"
      }
    },
    {
      "cell_type": "code",
      "source": [
        "def make_prompt(query, relevant_passage):\n",
        "  escaped = relevant_passage.replace(\"'\", \"\").replace('\"', \"\").replace(\"\\n\", \" \")\n",
        "  prompt = textwrap.dedent(\"\"\"You are a helpful and informative bot that answers questions using text from the reference passage included below. \\\n",
        "  You are answering questions about a research paper. \\\n",
        "  Be sure to respond in a complete sentence, being comprehensive, including all relevant background information. \\\n",
        "  However, you are talking to a non-technical audience, so be sure to break down complicated concepts and \\\n",
        "  strike a friendly and converstional tone. \\\n",
        "  If the passage is irrelevant to the answer, you may ignore it.\n",
        "  QUESTION: '{query}'\n",
        "  PASSAGE: '{relevant_passage}'\n",
        "\n",
        "    ANSWER:\n",
        "  \"\"\").format(query=query, relevant_passage=escaped)\n",
        "\n",
        "  return prompt"
      ],
      "metadata": {
        "id": "pU5CsBZgON9C"
      },
      "execution_count": 81,
      "outputs": []
    },
    {
      "cell_type": "code",
      "source": [
        "prompt = make_prompt(query1, passage)\n",
        "pprint(prompt)"
      ],
      "metadata": {
        "id": "eBXahLsUmaUk",
        "colab": {
          "base_uri": "https://localhost:8080/"
        },
        "outputId": "c98257e8-0433-459f-f1df-b5b7af161c71"
      },
      "execution_count": 82,
      "outputs": [
        {
          "output_type": "stream",
          "name": "stdout",
          "text": [
            "('You are a helpful and informative bot that answers questions using text from '\n",
            " 'the reference passage included below.   You are answering questions about a '\n",
            " 'research paper.   Be sure to respond in a complete sentence, being '\n",
            " 'comprehensive, including all relevant background information.   However, you '\n",
            " 'are talking to a non-technical audience, so be sure to break down '\n",
            " 'complicated concepts and   strike a friendly and converstional tone.   If '\n",
            " 'the passage is irrelevant to the answer, you may ignore it.\\n'\n",
            " \"  QUESTION: 'What is Med-Gemini?'\\n\"\n",
            " \"  PASSAGE: 'potential for multimodal medical dialogue, medical research and \"\n",
            " 'education. Taken together, our results offer compelling evidence for the '\n",
            " 'promise of Med-Gemini in many areas of medicine, although further rigorous '\n",
            " 'evaluation will be crucial before real-world deployment in this '\n",
            " \"safety-critical domain.'\\n\"\n",
            " '\\n'\n",
            " '    ANSWER:\\n')\n"
          ]
        }
      ]
    },
    {
      "cell_type": "code",
      "source": [
        "# For each query in the list, generate a list of passages\n",
        "passages = [find_best_passage(query, data_df) for query in queries]"
      ],
      "metadata": {
        "id": "gq7_A2aQmgdr"
      },
      "execution_count": 83,
      "outputs": []
    },
    {
      "cell_type": "code",
      "source": [
        "prompts = [make_prompt(query, passage) for query, passage in zip(queries, passages)]"
      ],
      "metadata": {
        "id": "-RBc7YHLmt1L"
      },
      "execution_count": 84,
      "outputs": []
    },
    {
      "cell_type": "code",
      "source": [
        "# Generate Markdown of the response.text from `generate_content` when passing in the information\n",
        "responses = [client.models.generate_content(model=MODEL_NAME,\n",
        "                                            contents=prompt) for prompt in prompts]\n",
        "\n",
        "for response, query in zip(responses, queries):\n",
        "  display(Markdown(f\"**{query}**\")) # Make query bold in Markdown\n",
        "  display(Markdown(response.text))"
      ],
      "metadata": {
        "id": "dhjQEVLemykl",
        "colab": {
          "base_uri": "https://localhost:8080/",
          "height": 633
        },
        "outputId": "14229284-64d5-4938-bf9e-4aeaba905516"
      },
      "execution_count": 85,
      "outputs": [
        {
          "output_type": "display_data",
          "data": {
            "text/plain": [
              "<IPython.core.display.Markdown object>"
            ],
            "text/markdown": "**What is Med-Gemini?**"
          },
          "metadata": {}
        },
        {
          "output_type": "display_data",
          "data": {
            "text/plain": [
              "<IPython.core.display.Markdown object>"
            ],
            "text/markdown": "Based on the passage provided, Med-Gemini is a tool with potential in various areas of medicine, such as multimodal medical dialogue, medical research, and education; however, the passage indicates that further evaluation is necessary before it can be used in real-world situations.\n"
          },
          "metadata": {}
        },
        {
          "output_type": "display_data",
          "data": {
            "text/plain": [
              "<IPython.core.display.Markdown object>"
            ],
            "text/markdown": "**What are some areas of improvement for LLM performance mentioned in this paper?**"
          },
          "metadata": {}
        },
        {
          "output_type": "display_data",
          "data": {
            "text/plain": [
              "<IPython.core.display.Markdown object>"
            ],
            "text/markdown": "Okay, so it looks like this research paper is discussing ways to make large language models (LLMs) better, especially when it comes to medical applications. The authors mention a few areas where LLMs could really improve. First, they point out that LLMs sometimes struggle with \"clinical reasoning under uncertainty,\" which means they aren't always great at making decisions when things aren't clear-cut. They also mention that LLMs can sometimes \"confabulate\" or make things up, and they can show bias in their responses. Another area for improvement is using tools and up-to-date medical information, which is key in the medical field. They also need to get better at collaborating with doctors and other clinicians. Finally, LLMs could get much better at handling different types of medical data, such as images, videos, and patient records over time. So, to summarize, the paper suggests that LLMs need improvement in clinical reasoning under uncertainty, avoiding confabulation and bias, using tools and up-to-date information, collaborating with clinicians, and handling multimodal data.\n"
          },
          "metadata": {}
        },
        {
          "output_type": "display_data",
          "data": {
            "text/plain": [
              "<IPython.core.display.Markdown object>"
            ],
            "text/markdown": "**How does the MedQA evaluation work?**"
          },
          "metadata": {}
        },
        {
          "output_type": "display_data",
          "data": {
            "text/plain": [
              "<IPython.core.display.Markdown object>"
            ],
            "text/markdown": "Okay, so the MedQA evaluation is a bit like a detailed quiz review, where experts look at each question and answer option very carefully to see if they make sense. It's done in two steps. First, for each question, the experts are asked if there are any appropriate answers given the options. If yes, they pick the answer they think is correct. They also check if there's any missing information, like a graph or lab result, and if having that information would change their answer. After the experts have gone through these questions, in the second step, they're shown the original correct answer to see if they agree. This helps the researchers identify if the questions are clear, if the answer is right, and if any additional info is needed.\n"
          },
          "metadata": {}
        },
        {
          "output_type": "display_data",
          "data": {
            "text/plain": [
              "<IPython.core.display.Markdown object>"
            ],
            "text/markdown": "**What do the hypothetical multimodal medical dialogues demonstrate about Med-Gemini?**"
          },
          "metadata": {}
        },
        {
          "output_type": "display_data",
          "data": {
            "text/plain": [
              "<IPython.core.display.Markdown object>"
            ],
            "text/markdown": "Based on the provided passage, the hypothetical multimodal medical dialogues demonstrate the potential of Med-Gemini in areas like medical research and education, suggesting that it could be a helpful tool for these purposes.\n"
          },
          "metadata": {}
        },
        {
          "output_type": "display_data",
          "data": {
            "text/plain": [
              "<IPython.core.display.Markdown object>"
            ],
            "text/markdown": "**What are some challenges and opportunities for applying LLMs to clinical problems?**"
          },
          "metadata": {}
        },
        {
          "output_type": "display_data",
          "data": {
            "text/plain": [
              "<IPython.core.display.Markdown object>"
            ],
            "text/markdown": "Okay, so when we think about using powerful language models, also known as LLMs, in healthcare, there are some really exciting possibilities, but also some hurdles to overcome. The research paper highlights that while LLMs show promise in clinical applications, they sometimes struggle with complex medical decision-making, especially when things are uncertain. They can also make things up or show biases, which is obviously a big concern in medicine.  Another challenge is making sure LLMs can use up-to-date medical information and work well with doctors. Finally, LLMs currently have difficulty handling different kinds of medical information together, like images, videos, and patient records. However, it's not all challenges because working to solve these problems could improve language models in general, not just in healthcare!\n"
          },
          "metadata": {}
        },
        {
          "output_type": "display_data",
          "data": {
            "text/plain": [
              "<IPython.core.display.Markdown object>"
            ],
            "text/markdown": "**What models are Med-Gemini benchmarked against?**"
          },
          "metadata": {}
        },
        {
          "output_type": "display_data",
          "data": {
            "text/plain": [
              "<IPython.core.display.Markdown object>"
            ],
            "text/markdown": "The research paper mentions that the study considered 14 different benchmarks, but it doesn't specify which specific models were used for comparison against Med-Gemini. It does note that there are over 350 medical benchmarks available for the community to use. So, while the paper is talking about benchmarks, it doesn't actually specify what models they are benchmarking Med-Gemini against.\n"
          },
          "metadata": {}
        }
      ]
    }
  ]
}