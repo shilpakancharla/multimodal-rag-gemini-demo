{
  "nbformat": 4,
  "nbformat_minor": 0,
  "metadata": {
    "colab": {
      "provenance": []
    },
    "kernelspec": {
      "name": "python3",
      "display_name": "Python 3"
    },
    "language_info": {
      "name": "python"
    },
    "widgets": {
      "application/vnd.jupyter.widget-state+json": {
        "43c72ef3fe144c20ac45e137b8bc6061": {
          "model_module": "@jupyter-widgets/controls",
          "model_name": "HBoxModel",
          "model_module_version": "1.5.0",
          "state": {
            "_dom_classes": [],
            "_model_module": "@jupyter-widgets/controls",
            "_model_module_version": "1.5.0",
            "_model_name": "HBoxModel",
            "_view_count": null,
            "_view_module": "@jupyter-widgets/controls",
            "_view_module_version": "1.5.0",
            "_view_name": "HBoxView",
            "box_style": "",
            "children": [
              "IPY_MODEL_5e8b64ac8e814248b1a516e63cbe0d7b",
              "IPY_MODEL_5bdbf2093f8b4799992ebe0aebf3beb2",
              "IPY_MODEL_c0193ff864604afe92d79022bc2304b8"
            ],
            "layout": "IPY_MODEL_e59694de58464437b1712a67e413fefb"
          }
        },
        "5e8b64ac8e814248b1a516e63cbe0d7b": {
          "model_module": "@jupyter-widgets/controls",
          "model_name": "HTMLModel",
          "model_module_version": "1.5.0",
          "state": {
            "_dom_classes": [],
            "_model_module": "@jupyter-widgets/controls",
            "_model_module_version": "1.5.0",
            "_model_name": "HTMLModel",
            "_view_count": null,
            "_view_module": "@jupyter-widgets/controls",
            "_view_module_version": "1.5.0",
            "_view_name": "HTMLView",
            "description": "",
            "description_tooltip": null,
            "layout": "IPY_MODEL_0f31393f62bd41328757cce38da53d45",
            "placeholder": "​",
            "style": "IPY_MODEL_961355330e6b410fad0ccaa025f988a8",
            "value": "config.json: 100%"
          }
        },
        "5bdbf2093f8b4799992ebe0aebf3beb2": {
          "model_module": "@jupyter-widgets/controls",
          "model_name": "FloatProgressModel",
          "model_module_version": "1.5.0",
          "state": {
            "_dom_classes": [],
            "_model_module": "@jupyter-widgets/controls",
            "_model_module_version": "1.5.0",
            "_model_name": "FloatProgressModel",
            "_view_count": null,
            "_view_module": "@jupyter-widgets/controls",
            "_view_module_version": "1.5.0",
            "_view_name": "ProgressView",
            "bar_style": "success",
            "description": "",
            "description_tooltip": null,
            "layout": "IPY_MODEL_de124d15605d4bbd8af857d1a6d75392",
            "max": 1469,
            "min": 0,
            "orientation": "horizontal",
            "style": "IPY_MODEL_44a2b3b5515f4676904f5d648d1e0629",
            "value": 1469
          }
        },
        "c0193ff864604afe92d79022bc2304b8": {
          "model_module": "@jupyter-widgets/controls",
          "model_name": "HTMLModel",
          "model_module_version": "1.5.0",
          "state": {
            "_dom_classes": [],
            "_model_module": "@jupyter-widgets/controls",
            "_model_module_version": "1.5.0",
            "_model_name": "HTMLModel",
            "_view_count": null,
            "_view_module": "@jupyter-widgets/controls",
            "_view_module_version": "1.5.0",
            "_view_name": "HTMLView",
            "description": "",
            "description_tooltip": null,
            "layout": "IPY_MODEL_45d84c3d5d7e49108316f27a955b9aa8",
            "placeholder": "​",
            "style": "IPY_MODEL_ece57858f0e74d168efd8bf74a8239a2",
            "value": " 1.47k/1.47k [00:00&lt;00:00, 69.3kB/s]"
          }
        },
        "e59694de58464437b1712a67e413fefb": {
          "model_module": "@jupyter-widgets/base",
          "model_name": "LayoutModel",
          "model_module_version": "1.2.0",
          "state": {
            "_model_module": "@jupyter-widgets/base",
            "_model_module_version": "1.2.0",
            "_model_name": "LayoutModel",
            "_view_count": null,
            "_view_module": "@jupyter-widgets/base",
            "_view_module_version": "1.2.0",
            "_view_name": "LayoutView",
            "align_content": null,
            "align_items": null,
            "align_self": null,
            "border": null,
            "bottom": null,
            "display": null,
            "flex": null,
            "flex_flow": null,
            "grid_area": null,
            "grid_auto_columns": null,
            "grid_auto_flow": null,
            "grid_auto_rows": null,
            "grid_column": null,
            "grid_gap": null,
            "grid_row": null,
            "grid_template_areas": null,
            "grid_template_columns": null,
            "grid_template_rows": null,
            "height": null,
            "justify_content": null,
            "justify_items": null,
            "left": null,
            "margin": null,
            "max_height": null,
            "max_width": null,
            "min_height": null,
            "min_width": null,
            "object_fit": null,
            "object_position": null,
            "order": null,
            "overflow": null,
            "overflow_x": null,
            "overflow_y": null,
            "padding": null,
            "right": null,
            "top": null,
            "visibility": null,
            "width": null
          }
        },
        "0f31393f62bd41328757cce38da53d45": {
          "model_module": "@jupyter-widgets/base",
          "model_name": "LayoutModel",
          "model_module_version": "1.2.0",
          "state": {
            "_model_module": "@jupyter-widgets/base",
            "_model_module_version": "1.2.0",
            "_model_name": "LayoutModel",
            "_view_count": null,
            "_view_module": "@jupyter-widgets/base",
            "_view_module_version": "1.2.0",
            "_view_name": "LayoutView",
            "align_content": null,
            "align_items": null,
            "align_self": null,
            "border": null,
            "bottom": null,
            "display": null,
            "flex": null,
            "flex_flow": null,
            "grid_area": null,
            "grid_auto_columns": null,
            "grid_auto_flow": null,
            "grid_auto_rows": null,
            "grid_column": null,
            "grid_gap": null,
            "grid_row": null,
            "grid_template_areas": null,
            "grid_template_columns": null,
            "grid_template_rows": null,
            "height": null,
            "justify_content": null,
            "justify_items": null,
            "left": null,
            "margin": null,
            "max_height": null,
            "max_width": null,
            "min_height": null,
            "min_width": null,
            "object_fit": null,
            "object_position": null,
            "order": null,
            "overflow": null,
            "overflow_x": null,
            "overflow_y": null,
            "padding": null,
            "right": null,
            "top": null,
            "visibility": null,
            "width": null
          }
        },
        "961355330e6b410fad0ccaa025f988a8": {
          "model_module": "@jupyter-widgets/controls",
          "model_name": "DescriptionStyleModel",
          "model_module_version": "1.5.0",
          "state": {
            "_model_module": "@jupyter-widgets/controls",
            "_model_module_version": "1.5.0",
            "_model_name": "DescriptionStyleModel",
            "_view_count": null,
            "_view_module": "@jupyter-widgets/base",
            "_view_module_version": "1.2.0",
            "_view_name": "StyleView",
            "description_width": ""
          }
        },
        "de124d15605d4bbd8af857d1a6d75392": {
          "model_module": "@jupyter-widgets/base",
          "model_name": "LayoutModel",
          "model_module_version": "1.2.0",
          "state": {
            "_model_module": "@jupyter-widgets/base",
            "_model_module_version": "1.2.0",
            "_model_name": "LayoutModel",
            "_view_count": null,
            "_view_module": "@jupyter-widgets/base",
            "_view_module_version": "1.2.0",
            "_view_name": "LayoutView",
            "align_content": null,
            "align_items": null,
            "align_self": null,
            "border": null,
            "bottom": null,
            "display": null,
            "flex": null,
            "flex_flow": null,
            "grid_area": null,
            "grid_auto_columns": null,
            "grid_auto_flow": null,
            "grid_auto_rows": null,
            "grid_column": null,
            "grid_gap": null,
            "grid_row": null,
            "grid_template_areas": null,
            "grid_template_columns": null,
            "grid_template_rows": null,
            "height": null,
            "justify_content": null,
            "justify_items": null,
            "left": null,
            "margin": null,
            "max_height": null,
            "max_width": null,
            "min_height": null,
            "min_width": null,
            "object_fit": null,
            "object_position": null,
            "order": null,
            "overflow": null,
            "overflow_x": null,
            "overflow_y": null,
            "padding": null,
            "right": null,
            "top": null,
            "visibility": null,
            "width": null
          }
        },
        "44a2b3b5515f4676904f5d648d1e0629": {
          "model_module": "@jupyter-widgets/controls",
          "model_name": "ProgressStyleModel",
          "model_module_version": "1.5.0",
          "state": {
            "_model_module": "@jupyter-widgets/controls",
            "_model_module_version": "1.5.0",
            "_model_name": "ProgressStyleModel",
            "_view_count": null,
            "_view_module": "@jupyter-widgets/base",
            "_view_module_version": "1.2.0",
            "_view_name": "StyleView",
            "bar_color": null,
            "description_width": ""
          }
        },
        "45d84c3d5d7e49108316f27a955b9aa8": {
          "model_module": "@jupyter-widgets/base",
          "model_name": "LayoutModel",
          "model_module_version": "1.2.0",
          "state": {
            "_model_module": "@jupyter-widgets/base",
            "_model_module_version": "1.2.0",
            "_model_name": "LayoutModel",
            "_view_count": null,
            "_view_module": "@jupyter-widgets/base",
            "_view_module_version": "1.2.0",
            "_view_name": "LayoutView",
            "align_content": null,
            "align_items": null,
            "align_self": null,
            "border": null,
            "bottom": null,
            "display": null,
            "flex": null,
            "flex_flow": null,
            "grid_area": null,
            "grid_auto_columns": null,
            "grid_auto_flow": null,
            "grid_auto_rows": null,
            "grid_column": null,
            "grid_gap": null,
            "grid_row": null,
            "grid_template_areas": null,
            "grid_template_columns": null,
            "grid_template_rows": null,
            "height": null,
            "justify_content": null,
            "justify_items": null,
            "left": null,
            "margin": null,
            "max_height": null,
            "max_width": null,
            "min_height": null,
            "min_width": null,
            "object_fit": null,
            "object_position": null,
            "order": null,
            "overflow": null,
            "overflow_x": null,
            "overflow_y": null,
            "padding": null,
            "right": null,
            "top": null,
            "visibility": null,
            "width": null
          }
        },
        "ece57858f0e74d168efd8bf74a8239a2": {
          "model_module": "@jupyter-widgets/controls",
          "model_name": "DescriptionStyleModel",
          "model_module_version": "1.5.0",
          "state": {
            "_model_module": "@jupyter-widgets/controls",
            "_model_module_version": "1.5.0",
            "_model_name": "DescriptionStyleModel",
            "_view_count": null,
            "_view_module": "@jupyter-widgets/base",
            "_view_module_version": "1.2.0",
            "_view_name": "StyleView",
            "description_width": ""
          }
        },
        "fde6e535d59647b883aad350cc4dfe23": {
          "model_module": "@jupyter-widgets/controls",
          "model_name": "HBoxModel",
          "model_module_version": "1.5.0",
          "state": {
            "_dom_classes": [],
            "_model_module": "@jupyter-widgets/controls",
            "_model_module_version": "1.5.0",
            "_model_name": "HBoxModel",
            "_view_count": null,
            "_view_module": "@jupyter-widgets/controls",
            "_view_module_version": "1.5.0",
            "_view_name": "HBoxView",
            "box_style": "",
            "children": [
              "IPY_MODEL_a04931d8e0b44afc88687923867d4346",
              "IPY_MODEL_c6680164660b4822a849fa14ef254034",
              "IPY_MODEL_69287d2cb3c0453a9dc608b3b6c5e19f"
            ],
            "layout": "IPY_MODEL_5f508a163e254409bad155e4c1057130"
          }
        },
        "a04931d8e0b44afc88687923867d4346": {
          "model_module": "@jupyter-widgets/controls",
          "model_name": "HTMLModel",
          "model_module_version": "1.5.0",
          "state": {
            "_dom_classes": [],
            "_model_module": "@jupyter-widgets/controls",
            "_model_module_version": "1.5.0",
            "_model_name": "HTMLModel",
            "_view_count": null,
            "_view_module": "@jupyter-widgets/controls",
            "_view_module_version": "1.5.0",
            "_view_name": "HTMLView",
            "description": "",
            "description_tooltip": null,
            "layout": "IPY_MODEL_15e95f2675834e7cb80a9106b51cafd0",
            "placeholder": "​",
            "style": "IPY_MODEL_061e71e65b9944139503f9e1a88cdfdd",
            "value": "model.safetensors: 100%"
          }
        },
        "c6680164660b4822a849fa14ef254034": {
          "model_module": "@jupyter-widgets/controls",
          "model_name": "FloatProgressModel",
          "model_module_version": "1.5.0",
          "state": {
            "_dom_classes": [],
            "_model_module": "@jupyter-widgets/controls",
            "_model_module_version": "1.5.0",
            "_model_name": "FloatProgressModel",
            "_view_count": null,
            "_view_module": "@jupyter-widgets/controls",
            "_view_module_version": "1.5.0",
            "_view_name": "ProgressView",
            "bar_style": "success",
            "description": "",
            "description_tooltip": null,
            "layout": "IPY_MODEL_8bcb94003f044f7d8ee27c52a4b0188e",
            "max": 115434268,
            "min": 0,
            "orientation": "horizontal",
            "style": "IPY_MODEL_76d9d31e78bc4dec99998bd30f2eca85",
            "value": 115434268
          }
        },
        "69287d2cb3c0453a9dc608b3b6c5e19f": {
          "model_module": "@jupyter-widgets/controls",
          "model_name": "HTMLModel",
          "model_module_version": "1.5.0",
          "state": {
            "_dom_classes": [],
            "_model_module": "@jupyter-widgets/controls",
            "_model_module_version": "1.5.0",
            "_model_name": "HTMLModel",
            "_view_count": null,
            "_view_module": "@jupyter-widgets/controls",
            "_view_module_version": "1.5.0",
            "_view_name": "HTMLView",
            "description": "",
            "description_tooltip": null,
            "layout": "IPY_MODEL_3f1613c13344414b8415ddeda8d5e1d9",
            "placeholder": "​",
            "style": "IPY_MODEL_3db9c9f0531446988c5e6c9161e692f3",
            "value": " 115M/115M [00:01&lt;00:00, 113MB/s]"
          }
        },
        "5f508a163e254409bad155e4c1057130": {
          "model_module": "@jupyter-widgets/base",
          "model_name": "LayoutModel",
          "model_module_version": "1.2.0",
          "state": {
            "_model_module": "@jupyter-widgets/base",
            "_model_module_version": "1.2.0",
            "_model_name": "LayoutModel",
            "_view_count": null,
            "_view_module": "@jupyter-widgets/base",
            "_view_module_version": "1.2.0",
            "_view_name": "LayoutView",
            "align_content": null,
            "align_items": null,
            "align_self": null,
            "border": null,
            "bottom": null,
            "display": null,
            "flex": null,
            "flex_flow": null,
            "grid_area": null,
            "grid_auto_columns": null,
            "grid_auto_flow": null,
            "grid_auto_rows": null,
            "grid_column": null,
            "grid_gap": null,
            "grid_row": null,
            "grid_template_areas": null,
            "grid_template_columns": null,
            "grid_template_rows": null,
            "height": null,
            "justify_content": null,
            "justify_items": null,
            "left": null,
            "margin": null,
            "max_height": null,
            "max_width": null,
            "min_height": null,
            "min_width": null,
            "object_fit": null,
            "object_position": null,
            "order": null,
            "overflow": null,
            "overflow_x": null,
            "overflow_y": null,
            "padding": null,
            "right": null,
            "top": null,
            "visibility": null,
            "width": null
          }
        },
        "15e95f2675834e7cb80a9106b51cafd0": {
          "model_module": "@jupyter-widgets/base",
          "model_name": "LayoutModel",
          "model_module_version": "1.2.0",
          "state": {
            "_model_module": "@jupyter-widgets/base",
            "_model_module_version": "1.2.0",
            "_model_name": "LayoutModel",
            "_view_count": null,
            "_view_module": "@jupyter-widgets/base",
            "_view_module_version": "1.2.0",
            "_view_name": "LayoutView",
            "align_content": null,
            "align_items": null,
            "align_self": null,
            "border": null,
            "bottom": null,
            "display": null,
            "flex": null,
            "flex_flow": null,
            "grid_area": null,
            "grid_auto_columns": null,
            "grid_auto_flow": null,
            "grid_auto_rows": null,
            "grid_column": null,
            "grid_gap": null,
            "grid_row": null,
            "grid_template_areas": null,
            "grid_template_columns": null,
            "grid_template_rows": null,
            "height": null,
            "justify_content": null,
            "justify_items": null,
            "left": null,
            "margin": null,
            "max_height": null,
            "max_width": null,
            "min_height": null,
            "min_width": null,
            "object_fit": null,
            "object_position": null,
            "order": null,
            "overflow": null,
            "overflow_x": null,
            "overflow_y": null,
            "padding": null,
            "right": null,
            "top": null,
            "visibility": null,
            "width": null
          }
        },
        "061e71e65b9944139503f9e1a88cdfdd": {
          "model_module": "@jupyter-widgets/controls",
          "model_name": "DescriptionStyleModel",
          "model_module_version": "1.5.0",
          "state": {
            "_model_module": "@jupyter-widgets/controls",
            "_model_module_version": "1.5.0",
            "_model_name": "DescriptionStyleModel",
            "_view_count": null,
            "_view_module": "@jupyter-widgets/base",
            "_view_module_version": "1.2.0",
            "_view_name": "StyleView",
            "description_width": ""
          }
        },
        "8bcb94003f044f7d8ee27c52a4b0188e": {
          "model_module": "@jupyter-widgets/base",
          "model_name": "LayoutModel",
          "model_module_version": "1.2.0",
          "state": {
            "_model_module": "@jupyter-widgets/base",
            "_model_module_version": "1.2.0",
            "_model_name": "LayoutModel",
            "_view_count": null,
            "_view_module": "@jupyter-widgets/base",
            "_view_module_version": "1.2.0",
            "_view_name": "LayoutView",
            "align_content": null,
            "align_items": null,
            "align_self": null,
            "border": null,
            "bottom": null,
            "display": null,
            "flex": null,
            "flex_flow": null,
            "grid_area": null,
            "grid_auto_columns": null,
            "grid_auto_flow": null,
            "grid_auto_rows": null,
            "grid_column": null,
            "grid_gap": null,
            "grid_row": null,
            "grid_template_areas": null,
            "grid_template_columns": null,
            "grid_template_rows": null,
            "height": null,
            "justify_content": null,
            "justify_items": null,
            "left": null,
            "margin": null,
            "max_height": null,
            "max_width": null,
            "min_height": null,
            "min_width": null,
            "object_fit": null,
            "object_position": null,
            "order": null,
            "overflow": null,
            "overflow_x": null,
            "overflow_y": null,
            "padding": null,
            "right": null,
            "top": null,
            "visibility": null,
            "width": null
          }
        },
        "76d9d31e78bc4dec99998bd30f2eca85": {
          "model_module": "@jupyter-widgets/controls",
          "model_name": "ProgressStyleModel",
          "model_module_version": "1.5.0",
          "state": {
            "_model_module": "@jupyter-widgets/controls",
            "_model_module_version": "1.5.0",
            "_model_name": "ProgressStyleModel",
            "_view_count": null,
            "_view_module": "@jupyter-widgets/base",
            "_view_module_version": "1.2.0",
            "_view_name": "StyleView",
            "bar_color": null,
            "description_width": ""
          }
        },
        "3f1613c13344414b8415ddeda8d5e1d9": {
          "model_module": "@jupyter-widgets/base",
          "model_name": "LayoutModel",
          "model_module_version": "1.2.0",
          "state": {
            "_model_module": "@jupyter-widgets/base",
            "_model_module_version": "1.2.0",
            "_model_name": "LayoutModel",
            "_view_count": null,
            "_view_module": "@jupyter-widgets/base",
            "_view_module_version": "1.2.0",
            "_view_name": "LayoutView",
            "align_content": null,
            "align_items": null,
            "align_self": null,
            "border": null,
            "bottom": null,
            "display": null,
            "flex": null,
            "flex_flow": null,
            "grid_area": null,
            "grid_auto_columns": null,
            "grid_auto_flow": null,
            "grid_auto_rows": null,
            "grid_column": null,
            "grid_gap": null,
            "grid_row": null,
            "grid_template_areas": null,
            "grid_template_columns": null,
            "grid_template_rows": null,
            "height": null,
            "justify_content": null,
            "justify_items": null,
            "left": null,
            "margin": null,
            "max_height": null,
            "max_width": null,
            "min_height": null,
            "min_width": null,
            "object_fit": null,
            "object_position": null,
            "order": null,
            "overflow": null,
            "overflow_x": null,
            "overflow_y": null,
            "padding": null,
            "right": null,
            "top": null,
            "visibility": null,
            "width": null
          }
        },
        "3db9c9f0531446988c5e6c9161e692f3": {
          "model_module": "@jupyter-widgets/controls",
          "model_name": "DescriptionStyleModel",
          "model_module_version": "1.5.0",
          "state": {
            "_model_module": "@jupyter-widgets/controls",
            "_model_module_version": "1.5.0",
            "_model_name": "DescriptionStyleModel",
            "_view_count": null,
            "_view_module": "@jupyter-widgets/base",
            "_view_module_version": "1.2.0",
            "_view_name": "StyleView",
            "description_width": ""
          }
        },
        "8d5ce5ffd3ed4a3496e19e09a097cab5": {
          "model_module": "@jupyter-widgets/controls",
          "model_name": "HBoxModel",
          "model_module_version": "1.5.0",
          "state": {
            "_dom_classes": [],
            "_model_module": "@jupyter-widgets/controls",
            "_model_module_version": "1.5.0",
            "_model_name": "HBoxModel",
            "_view_count": null,
            "_view_module": "@jupyter-widgets/controls",
            "_view_module_version": "1.5.0",
            "_view_name": "HBoxView",
            "box_style": "",
            "children": [
              "IPY_MODEL_32c0172a33ab4b56a1b10d8339bd2a18",
              "IPY_MODEL_fff7225e947240c291c1c6dfc14cc124",
              "IPY_MODEL_34fc85abff624568a3bea5dc526f9a2a"
            ],
            "layout": "IPY_MODEL_6ce76b3a627f4d81bd3989afb7510ce1"
          }
        },
        "32c0172a33ab4b56a1b10d8339bd2a18": {
          "model_module": "@jupyter-widgets/controls",
          "model_name": "HTMLModel",
          "model_module_version": "1.5.0",
          "state": {
            "_dom_classes": [],
            "_model_module": "@jupyter-widgets/controls",
            "_model_module_version": "1.5.0",
            "_model_name": "HTMLModel",
            "_view_count": null,
            "_view_module": "@jupyter-widgets/controls",
            "_view_module_version": "1.5.0",
            "_view_name": "HTMLView",
            "description": "",
            "description_tooltip": null,
            "layout": "IPY_MODEL_0e9f675c558d4c189e7c0ad82e428a1d",
            "placeholder": "​",
            "style": "IPY_MODEL_e9048d8b0c1547a18ac53255961d0d95",
            "value": "model.safetensors: 100%"
          }
        },
        "fff7225e947240c291c1c6dfc14cc124": {
          "model_module": "@jupyter-widgets/controls",
          "model_name": "FloatProgressModel",
          "model_module_version": "1.5.0",
          "state": {
            "_dom_classes": [],
            "_model_module": "@jupyter-widgets/controls",
            "_model_module_version": "1.5.0",
            "_model_name": "FloatProgressModel",
            "_view_count": null,
            "_view_module": "@jupyter-widgets/controls",
            "_view_module_version": "1.5.0",
            "_view_name": "ProgressView",
            "bar_style": "success",
            "description": "",
            "description_tooltip": null,
            "layout": "IPY_MODEL_f4a24b291efb45c5b62029a47219bf96",
            "max": 46807446,
            "min": 0,
            "orientation": "horizontal",
            "style": "IPY_MODEL_a41fd7a3ffcc4fc19e939921d06d939c",
            "value": 46807446
          }
        },
        "34fc85abff624568a3bea5dc526f9a2a": {
          "model_module": "@jupyter-widgets/controls",
          "model_name": "HTMLModel",
          "model_module_version": "1.5.0",
          "state": {
            "_dom_classes": [],
            "_model_module": "@jupyter-widgets/controls",
            "_model_module_version": "1.5.0",
            "_model_name": "HTMLModel",
            "_view_count": null,
            "_view_module": "@jupyter-widgets/controls",
            "_view_module_version": "1.5.0",
            "_view_name": "HTMLView",
            "description": "",
            "description_tooltip": null,
            "layout": "IPY_MODEL_0d2af15e5ea74cd590a972c5528290c9",
            "placeholder": "​",
            "style": "IPY_MODEL_bf9a1831962842ad81ed1477d92dafb5",
            "value": " 46.8M/46.8M [00:00&lt;00:00, 131MB/s]"
          }
        },
        "6ce76b3a627f4d81bd3989afb7510ce1": {
          "model_module": "@jupyter-widgets/base",
          "model_name": "LayoutModel",
          "model_module_version": "1.2.0",
          "state": {
            "_model_module": "@jupyter-widgets/base",
            "_model_module_version": "1.2.0",
            "_model_name": "LayoutModel",
            "_view_count": null,
            "_view_module": "@jupyter-widgets/base",
            "_view_module_version": "1.2.0",
            "_view_name": "LayoutView",
            "align_content": null,
            "align_items": null,
            "align_self": null,
            "border": null,
            "bottom": null,
            "display": null,
            "flex": null,
            "flex_flow": null,
            "grid_area": null,
            "grid_auto_columns": null,
            "grid_auto_flow": null,
            "grid_auto_rows": null,
            "grid_column": null,
            "grid_gap": null,
            "grid_row": null,
            "grid_template_areas": null,
            "grid_template_columns": null,
            "grid_template_rows": null,
            "height": null,
            "justify_content": null,
            "justify_items": null,
            "left": null,
            "margin": null,
            "max_height": null,
            "max_width": null,
            "min_height": null,
            "min_width": null,
            "object_fit": null,
            "object_position": null,
            "order": null,
            "overflow": null,
            "overflow_x": null,
            "overflow_y": null,
            "padding": null,
            "right": null,
            "top": null,
            "visibility": null,
            "width": null
          }
        },
        "0e9f675c558d4c189e7c0ad82e428a1d": {
          "model_module": "@jupyter-widgets/base",
          "model_name": "LayoutModel",
          "model_module_version": "1.2.0",
          "state": {
            "_model_module": "@jupyter-widgets/base",
            "_model_module_version": "1.2.0",
            "_model_name": "LayoutModel",
            "_view_count": null,
            "_view_module": "@jupyter-widgets/base",
            "_view_module_version": "1.2.0",
            "_view_name": "LayoutView",
            "align_content": null,
            "align_items": null,
            "align_self": null,
            "border": null,
            "bottom": null,
            "display": null,
            "flex": null,
            "flex_flow": null,
            "grid_area": null,
            "grid_auto_columns": null,
            "grid_auto_flow": null,
            "grid_auto_rows": null,
            "grid_column": null,
            "grid_gap": null,
            "grid_row": null,
            "grid_template_areas": null,
            "grid_template_columns": null,
            "grid_template_rows": null,
            "height": null,
            "justify_content": null,
            "justify_items": null,
            "left": null,
            "margin": null,
            "max_height": null,
            "max_width": null,
            "min_height": null,
            "min_width": null,
            "object_fit": null,
            "object_position": null,
            "order": null,
            "overflow": null,
            "overflow_x": null,
            "overflow_y": null,
            "padding": null,
            "right": null,
            "top": null,
            "visibility": null,
            "width": null
          }
        },
        "e9048d8b0c1547a18ac53255961d0d95": {
          "model_module": "@jupyter-widgets/controls",
          "model_name": "DescriptionStyleModel",
          "model_module_version": "1.5.0",
          "state": {
            "_model_module": "@jupyter-widgets/controls",
            "_model_module_version": "1.5.0",
            "_model_name": "DescriptionStyleModel",
            "_view_count": null,
            "_view_module": "@jupyter-widgets/base",
            "_view_module_version": "1.2.0",
            "_view_name": "StyleView",
            "description_width": ""
          }
        },
        "f4a24b291efb45c5b62029a47219bf96": {
          "model_module": "@jupyter-widgets/base",
          "model_name": "LayoutModel",
          "model_module_version": "1.2.0",
          "state": {
            "_model_module": "@jupyter-widgets/base",
            "_model_module_version": "1.2.0",
            "_model_name": "LayoutModel",
            "_view_count": null,
            "_view_module": "@jupyter-widgets/base",
            "_view_module_version": "1.2.0",
            "_view_name": "LayoutView",
            "align_content": null,
            "align_items": null,
            "align_self": null,
            "border": null,
            "bottom": null,
            "display": null,
            "flex": null,
            "flex_flow": null,
            "grid_area": null,
            "grid_auto_columns": null,
            "grid_auto_flow": null,
            "grid_auto_rows": null,
            "grid_column": null,
            "grid_gap": null,
            "grid_row": null,
            "grid_template_areas": null,
            "grid_template_columns": null,
            "grid_template_rows": null,
            "height": null,
            "justify_content": null,
            "justify_items": null,
            "left": null,
            "margin": null,
            "max_height": null,
            "max_width": null,
            "min_height": null,
            "min_width": null,
            "object_fit": null,
            "object_position": null,
            "order": null,
            "overflow": null,
            "overflow_x": null,
            "overflow_y": null,
            "padding": null,
            "right": null,
            "top": null,
            "visibility": null,
            "width": null
          }
        },
        "a41fd7a3ffcc4fc19e939921d06d939c": {
          "model_module": "@jupyter-widgets/controls",
          "model_name": "ProgressStyleModel",
          "model_module_version": "1.5.0",
          "state": {
            "_model_module": "@jupyter-widgets/controls",
            "_model_module_version": "1.5.0",
            "_model_name": "ProgressStyleModel",
            "_view_count": null,
            "_view_module": "@jupyter-widgets/base",
            "_view_module_version": "1.2.0",
            "_view_name": "StyleView",
            "bar_color": null,
            "description_width": ""
          }
        },
        "0d2af15e5ea74cd590a972c5528290c9": {
          "model_module": "@jupyter-widgets/base",
          "model_name": "LayoutModel",
          "model_module_version": "1.2.0",
          "state": {
            "_model_module": "@jupyter-widgets/base",
            "_model_module_version": "1.2.0",
            "_model_name": "LayoutModel",
            "_view_count": null,
            "_view_module": "@jupyter-widgets/base",
            "_view_module_version": "1.2.0",
            "_view_name": "LayoutView",
            "align_content": null,
            "align_items": null,
            "align_self": null,
            "border": null,
            "bottom": null,
            "display": null,
            "flex": null,
            "flex_flow": null,
            "grid_area": null,
            "grid_auto_columns": null,
            "grid_auto_flow": null,
            "grid_auto_rows": null,
            "grid_column": null,
            "grid_gap": null,
            "grid_row": null,
            "grid_template_areas": null,
            "grid_template_columns": null,
            "grid_template_rows": null,
            "height": null,
            "justify_content": null,
            "justify_items": null,
            "left": null,
            "margin": null,
            "max_height": null,
            "max_width": null,
            "min_height": null,
            "min_width": null,
            "object_fit": null,
            "object_position": null,
            "order": null,
            "overflow": null,
            "overflow_x": null,
            "overflow_y": null,
            "padding": null,
            "right": null,
            "top": null,
            "visibility": null,
            "width": null
          }
        },
        "bf9a1831962842ad81ed1477d92dafb5": {
          "model_module": "@jupyter-widgets/controls",
          "model_name": "DescriptionStyleModel",
          "model_module_version": "1.5.0",
          "state": {
            "_model_module": "@jupyter-widgets/controls",
            "_model_module_version": "1.5.0",
            "_model_name": "DescriptionStyleModel",
            "_view_count": null,
            "_view_module": "@jupyter-widgets/base",
            "_view_module_version": "1.2.0",
            "_view_name": "StyleView",
            "description_width": ""
          }
        }
      }
    }
  },
  "cells": [
    {
      "cell_type": "markdown",
      "source": [
        "# Gemini API: Multimodal Retrieval Augmented Generation (RAG)\n",
        "\n",
        "In this notebook, you will learn how to perform RAG with multimodal embeddings. Here are the key objectives of this notebook:\n",
        "\n",
        "1. Extract text, images, and tables from a PDF document.\n",
        "2. Generate embeddings for these different types of data.\n",
        "3. Compare the embeddigs to each other to answer questions.\n",
        "\n",
        "## What is retrieval augmented generation (RAG)?\n",
        "\n",
        "Retrieval augmented generation (RAG), is a way to use external data or information to improve the accuracy of large language models (LLMs).\n",
        "\n",
        "## What is the difference between text-based embeddings and multimodal embeddings?\n",
        "\n",
        "Text-based embeddings involves producing embeddings just for text. Multimodal embeddings comprise embedding different types of data, including images, audio, and video. The advantages of multimodal embeddings include:\n",
        "\n",
        "1. **Enhanced knowledge access**: Multimodal embeddings capture information about textual and visual information, which provides a comprehensive knowledge base for an LLM.\n",
        "2. **Improved reasoning capabilities**: By including visual information, multimodal RAG allows you to make better inferences across different types of data modalities.  \n",
        "\n",
        "## What is Gemini?\n",
        "\n",
        "Gemini is a family of generative AI models developed by Google DeepMind that is designed for multimodal use cases. Please visit this [link](https://ai.google.dev/gemini-api/docs?_gl=1*1f26jp*_up*MQ..&gclid=CjwKCAjwrcKxBhBMEiwAIVF8rM_p-nRNeJhgNmEE5c63Srn1lxH7whADCXmsaWKWYymrcur4c4w7jBoCGMgQAvD_BwE) for more information on Gemini."
      ],
      "metadata": {
        "id": "TP3moYsI-G3W"
      }
    },
    {
      "cell_type": "markdown",
      "source": [
        "## Setup\n",
        "\n",
        "Install and import the Gemini API, the appropriate LangChain tools, as well as third party libraries. When installing these dependencies, the versions specified in the installations commands work with each other. For consistency, we recommend keeping these version numbers for your own adaptations."
      ],
      "metadata": {
        "id": "5kbmxynMpT5K"
      }
    },
    {
      "cell_type": "code",
      "execution_count": null,
      "metadata": {
        "id": "h7tfhgvdpMOH"
      },
      "outputs": [],
      "source": [
        "!pip install -U -q google.generativeai # Install the Gemini API Python SDK\n",
        "!pip install -U -q \"unstructured[all-docs]\"==0.12.6 # Unstructured library for parsing PDF upload\n",
        "!pip install -U -q pypdf Pillow pydantic lxml pillow matplotlib opencv-python tiktoken # Install third party libraries\n",
        "\n",
        "# Dependencies required by Unstructured PDF loader\n",
        "!pip install --upgrade huggingface_hub # To extract images in hi-res\n",
        "!sudo apt -y -qq install tesseract-ocr libtesseract-dev\n",
        "!sudo apt-get -y -qq install poppler-utils\n",
        "!pip install --user --quiet pytesseract==0.3.10 pdfminer.six==20221105"
      ]
    },
    {
      "cell_type": "markdown",
      "source": [
        "## Restart runtime\n",
        "\n",
        "To use the newly installed packages in this Jupyter runtime, you must restart the runtime. You can do this by running the cell below, which will restart the current kernel."
      ],
      "metadata": {
        "id": "71Nop3MrplYE"
      }
    },
    {
      "cell_type": "code",
      "source": [
        "# Restart kernel after installs so that your environment can access the new packages\n",
        "import IPython\n",
        "\n",
        "app = IPython.Application.instance()\n",
        "app.kernel.do_shutdown(True)"
      ],
      "metadata": {
        "colab": {
          "base_uri": "https://localhost:8080/"
        },
        "id": "Oo5pQpF9pluG",
        "outputId": "536958de-ad2f-41f7-a05f-33c0275430a3"
      },
      "execution_count": null,
      "outputs": [
        {
          "output_type": "execute_result",
          "data": {
            "text/plain": [
              "{'status': 'ok', 'restart': True}"
            ]
          },
          "metadata": {},
          "execution_count": 2
        }
      ]
    },
    {
      "cell_type": "markdown",
      "source": [
        "## Import the libraries"
      ],
      "metadata": {
        "id": "TjbOVSEKppew"
      }
    },
    {
      "cell_type": "code",
      "source": [
        "import google.generativeai as genai\n",
        "\n",
        "import os\n",
        "import PIL\n",
        "import textwrap\n",
        "import numpy as np\n",
        "import pandas as pd\n",
        "from pprint import pprint\n",
        "from unstructured.partition.pdf import partition_pdf\n",
        "from IPython.display import display, Image, Markdown"
      ],
      "metadata": {
        "id": "T1lnKL91pqyT"
      },
      "execution_count": null,
      "outputs": []
    },
    {
      "cell_type": "markdown",
      "source": [
        "## Download the data"
      ],
      "metadata": {
        "id": "zspqpWTvr_aN"
      }
    },
    {
      "cell_type": "code",
      "source": [
        "# Download documents and images used in this notebook\n",
        "!gsutil cp gs://generativeai-downloads/data/med_gemini.pdf .\n",
        "print(\"Download completed.\")"
      ],
      "metadata": {
        "colab": {
          "base_uri": "https://localhost:8080/"
        },
        "id": "edi84CzwsA1D",
        "outputId": "2a41f32e-808b-43c7-cdbe-e1d80258cafa"
      },
      "execution_count": null,
      "outputs": [
        {
          "output_type": "stream",
          "name": "stdout",
          "text": [
            "Copying gs://generativeai-downloads/data/med_gemini.pdf...\n",
            "/ [0 files][    0.0 B/  6.5 MiB]                                                \r/ [1 files][  6.5 MiB/  6.5 MiB]                                                \r\n",
            "Operation completed over 1 objects/6.5 MiB.                                      \n",
            "Download completed.\n"
          ]
        }
      ]
    },
    {
      "cell_type": "markdown",
      "source": [
        "## Preprocessing\n",
        "\n",
        "### Extract data from PDF\n",
        "\n",
        "You will use the `unstructured` library to extract images, tables, and chunk text from our sample PDF file. Although it's a shorter document, the sample document still contains text along with images such as tables, charts, and graphs.\n",
        "\n",
        "Please note that the images will be deposited in a separate directory called `figures/`. Specifically, the path in this notebook will be `/content/figures/`. You will be able to find all the images extracted in there. Please also note that capturing those images will cause the runtime of the cell below to be longer, and you must set `extract_images_in_pdf` to `True` and the `strategy` parameter must be `hi_res` in order to extract the images. For more information on extracting images from PDFs using the `unstructured` library, please check the [`partition_pdf` documentation](https://docs.unstructured.io/open-source/core-functionality/partitioning#partition-pdf)."
      ],
      "metadata": {
        "id": "IAHuQSWRsFw6"
      }
    },
    {
      "cell_type": "code",
      "source": [
        "pdf_file_path = '/content/med_gemini.pdf'\n",
        "\n",
        "# Extract images, tables, and chunk text from the PDF file provided.\n",
        "try:\n",
        "  raw_pdf_elements = partition_pdf(\n",
        "      filename=pdf_file_path,\n",
        "      extract_images_in_pdf=True,\n",
        "      infer_table_structure=True,\n",
        "      chunking_strategy=\"by_title\",\n",
        "      max_characters=1000,\n",
        "      combine_text_under_n_chars=250,\n",
        "      strategy=\"hi_res\",\n",
        "  )\n",
        "except PIL.UnidentifiedImageError:\n",
        "  print(\"Could not identify image file.\")"
      ],
      "metadata": {
        "colab": {
          "base_uri": "https://localhost:8080/",
          "height": 202,
          "referenced_widgets": [
            "43c72ef3fe144c20ac45e137b8bc6061",
            "5e8b64ac8e814248b1a516e63cbe0d7b",
            "5bdbf2093f8b4799992ebe0aebf3beb2",
            "c0193ff864604afe92d79022bc2304b8",
            "e59694de58464437b1712a67e413fefb",
            "0f31393f62bd41328757cce38da53d45",
            "961355330e6b410fad0ccaa025f988a8",
            "de124d15605d4bbd8af857d1a6d75392",
            "44a2b3b5515f4676904f5d648d1e0629",
            "45d84c3d5d7e49108316f27a955b9aa8",
            "ece57858f0e74d168efd8bf74a8239a2",
            "fde6e535d59647b883aad350cc4dfe23",
            "a04931d8e0b44afc88687923867d4346",
            "c6680164660b4822a849fa14ef254034",
            "69287d2cb3c0453a9dc608b3b6c5e19f",
            "5f508a163e254409bad155e4c1057130",
            "15e95f2675834e7cb80a9106b51cafd0",
            "061e71e65b9944139503f9e1a88cdfdd",
            "8bcb94003f044f7d8ee27c52a4b0188e",
            "76d9d31e78bc4dec99998bd30f2eca85",
            "3f1613c13344414b8415ddeda8d5e1d9",
            "3db9c9f0531446988c5e6c9161e692f3",
            "8d5ce5ffd3ed4a3496e19e09a097cab5",
            "32c0172a33ab4b56a1b10d8339bd2a18",
            "fff7225e947240c291c1c6dfc14cc124",
            "34fc85abff624568a3bea5dc526f9a2a",
            "6ce76b3a627f4d81bd3989afb7510ce1",
            "0e9f675c558d4c189e7c0ad82e428a1d",
            "e9048d8b0c1547a18ac53255961d0d95",
            "f4a24b291efb45c5b62029a47219bf96",
            "a41fd7a3ffcc4fc19e939921d06d939c",
            "0d2af15e5ea74cd590a972c5528290c9",
            "bf9a1831962842ad81ed1477d92dafb5"
          ]
        },
        "id": "APUA0giNsQDg",
        "outputId": "a05cbf85-7a4c-42f2-966e-029f6cf2c95b"
      },
      "execution_count": null,
      "outputs": [
        {
          "output_type": "stream",
          "name": "stderr",
          "text": [
            "WARNING:unstructured:This function will be deprecated in a future release and `unstructured` will simply use the DEFAULT_MODEL from `unstructured_inference.model.base` to set default model name\n"
          ]
        },
        {
          "output_type": "display_data",
          "data": {
            "text/plain": [
              "config.json:   0%|          | 0.00/1.47k [00:00<?, ?B/s]"
            ],
            "application/vnd.jupyter.widget-view+json": {
              "version_major": 2,
              "version_minor": 0,
              "model_id": "43c72ef3fe144c20ac45e137b8bc6061"
            }
          },
          "metadata": {}
        },
        {
          "output_type": "display_data",
          "data": {
            "text/plain": [
              "model.safetensors:   0%|          | 0.00/115M [00:00<?, ?B/s]"
            ],
            "application/vnd.jupyter.widget-view+json": {
              "version_major": 2,
              "version_minor": 0,
              "model_id": "fde6e535d59647b883aad350cc4dfe23"
            }
          },
          "metadata": {}
        },
        {
          "output_type": "display_data",
          "data": {
            "text/plain": [
              "model.safetensors:   0%|          | 0.00/46.8M [00:00<?, ?B/s]"
            ],
            "application/vnd.jupyter.widget-view+json": {
              "version_major": 2,
              "version_minor": 0,
              "model_id": "8d5ce5ffd3ed4a3496e19e09a097cab5"
            }
          },
          "metadata": {}
        },
        {
          "output_type": "stream",
          "name": "stderr",
          "text": [
            "Some weights of the model checkpoint at microsoft/table-transformer-structure-recognition were not used when initializing TableTransformerForObjectDetection: ['model.backbone.conv_encoder.model.layer2.0.downsample.1.num_batches_tracked', 'model.backbone.conv_encoder.model.layer3.0.downsample.1.num_batches_tracked', 'model.backbone.conv_encoder.model.layer4.0.downsample.1.num_batches_tracked']\n",
            "- This IS expected if you are initializing TableTransformerForObjectDetection from the checkpoint of a model trained on another task or with another architecture (e.g. initializing a BertForSequenceClassification model from a BertForPreTraining model).\n",
            "- This IS NOT expected if you are initializing TableTransformerForObjectDetection from the checkpoint of a model that you expect to be exactly identical (initializing a BertForSequenceClassification model from a BertForSequenceClassification model).\n"
          ]
        }
      ]
    },
    {
      "cell_type": "code",
      "source": [
        "len(raw_pdf_elements)"
      ],
      "metadata": {
        "colab": {
          "base_uri": "https://localhost:8080/"
        },
        "id": "YlHGZa99thbd",
        "outputId": "0b5d9cdc-9e70-4722-fdf3-8bf4b56cd9fc"
      },
      "execution_count": null,
      "outputs": [
        {
          "output_type": "execute_result",
          "data": {
            "text/plain": [
              "333"
            ]
          },
          "metadata": {},
          "execution_count": 7
        }
      ]
    },
    {
      "cell_type": "code",
      "source": [
        "raw_pdf_elements[51].text # Display sample text extracted"
      ],
      "metadata": {
        "colab": {
          "base_uri": "https://localhost:8080/",
          "height": 105
        },
        "id": "QaEfhKz5thyt",
        "outputId": "d70b70e1-05d6-488d-cf67-e2b521fe68f3"
      },
      "execution_count": null,
      "outputs": [
        {
          "output_type": "execute_result",
          "data": {
            "text/plain": [
              "'3. Uncertainty-guided search query generation: Given conflicting responses from step (1), we prompt Med-Gemini-L 1.0 to generate three search queries whose results would help resolve the conflict. Our motivation of conditioning on previously generated but conflicting responses is to retrieve search results that are directly targeted at resolving the model’s uncertainty to the question.\\n\\n4. Search retrieval: The generated queries are then submitted to a web search engine, and the retrieved results are incorporated into Med-Gemini-L 1.0’s input prompt for the next iteration, starting back at step (1). Augmenting the prompt with search results enables the model to refine its response by considering external relevant insights obtained from web search.'"
            ],
            "application/vnd.google.colaboratory.intrinsic+json": {
              "type": "string"
            }
          },
          "metadata": {},
          "execution_count": 8
        }
      ]
    },
    {
      "cell_type": "code",
      "source": [
        "tables, texts = [], []\n",
        "for element in raw_pdf_elements:\n",
        "    if \"unstructured.documents.elements.Table\" in str(type(element)):\n",
        "        tables.append(str(element))\n",
        "    elif \"unstructured.documents.elements.CompositeElement\" in str(type(element)):\n",
        "        texts.append(str(element))"
      ],
      "metadata": {
        "id": "_fH-4qPn1Blf"
      },
      "execution_count": null,
      "outputs": []
    },
    {
      "cell_type": "code",
      "source": [
        "tables[0] # Display a sample of the table extracted"
      ],
      "metadata": {
        "colab": {
          "base_uri": "https://localhost:8080/",
          "height": 140
        },
        "id": "5GkeFqRV1DIk",
        "outputId": "d18ace36-aeae-4aa4-8868-2687987a0c61"
      },
      "execution_count": null,
      "outputs": [
        {
          "output_type": "execute_result",
          "data": {
            "text/plain": [
              "'Task Dataset OOD Metric Med-Gemini-L 1.0 SoTA SoTA method Reference Close-ended QA Open-ended QA MedQA NEJM CPC GeneTuring GeneTuring GeneTuring GeneTuring GeneTuring GeneTuring GeneTuring GeneTuring GeneTuring GeneTuring Human genome DNA alignment GeneTuring GeneTuring Gene name extraction Gene alias Gene name conversion Gene location SNP location Gene SNP association Protein-coding genes Gene disease association Gene ontology TF regulation ✓ ✓ ✓ ✓ ✓ ✓ ✓ ✓ ✓ ✓ ✓ ✓ ✓ Accuracy Top-1 accuracy Top-10 accuracy Accuracy Accuracy Accuracy Accuracy Accuracy Accuracy Accuracy Accuracy Accuracy Accuracy Accuracy Accuracy 91.1 30.7 72.3 86.0 72.7 100.0 83.0 0.0 0.0 100.0 82.1 52.3 65.3 0.0 12.5 90.2 29.2 59.1 85.0 66.0 85.0 61.0 5.00 0.0 97.0 84.0 42.0 62.0 7.0 20.0 GPT-4 with MedPrompt AMIE AMIE GPT-4 GPT-4 GPT-4 GPT-4 ChatGPT GPT-4 GPT-4 GPT-4 GPT-4 GPT-4 BioGPT GPT-3 Nori et al. (2023) McDuff et al. (2023) McDuff et al. (2023) Hou and Ji (2023) Hou and Ji (2023) Hou and Ji (2023) Hou and Ji'"
            ],
            "application/vnd.google.colaboratory.intrinsic+json": {
              "type": "string"
            }
          },
          "metadata": {},
          "execution_count": 10
        }
      ]
    },
    {
      "cell_type": "markdown",
      "source": [
        "## Configure your API key\n",
        "\n",
        "To run the following cell, your API key must be stored it in a Colab Secret named `GOOGLE_API_KEY`. If you don't already have an API key, or you're not sure how to create a Colab Secret, see  [Authentication](https://github.com/google-gemini/cookbook/blob/main/quickstarts/Authentication.ipynb) for an example."
      ],
      "metadata": {
        "id": "9iZ3xfXR2eBc"
      }
    },
    {
      "cell_type": "code",
      "source": [
        "from google.colab import userdata\n",
        "\n",
        "GOOGLE_API_KEY=userdata.get('GOOGLE_API_KEY')\n",
        "genai.configure(api_key=GOOGLE_API_KEY)"
      ],
      "metadata": {
        "id": "eVILggGR0jxi"
      },
      "execution_count": null,
      "outputs": []
    },
    {
      "cell_type": "markdown",
      "source": [
        "## Generate text and table summaries\n",
        "\n",
        "You will use `gemini-1.5-flash` to generate summaries of text for the tabular and text data. Use the prompt below to generate the summaries of the inputs."
      ],
      "metadata": {
        "id": "mzBas1z13Jy8"
      }
    },
    {
      "cell_type": "code",
      "source": [
        "MODEL_NAME = \"models/gemini-1.5-flash\"\n",
        "model = genai.GenerativeModel(model_name=MODEL_NAME) # Set the model to Gemini 1.5 Flash\n",
        "\n",
        "def make_prompt(element):\n",
        "  return f\"\"\"You are an agent tasked with summarizing research tables and texts from research papers for retrieval. \\\n",
        "             These summaries will be embedded and used to retrieve the raw text or table elements. \\\n",
        "             Give a concise summary of the tables or text that is well optimized for retrieval. Table or text: {element} \"\"\"\n",
        "\n",
        "def generate_text_summary(data):\n",
        "  if len(data) >= 0:\n",
        "    prompt = make_prompt(data)\n",
        "    response = model.generate_content(prompt)\n",
        "    return response"
      ],
      "metadata": {
        "id": "rl4sp4xQ3JMA"
      },
      "execution_count": null,
      "outputs": []
    },
    {
      "cell_type": "code",
      "source": [
        "# Generate summaries for text elements\n",
        "text_summaries = [generate_text_summary(text) for text in texts]\n",
        "\n",
        "# Generate summaries for table elements\n",
        "table_summaries = [generate_text_summary(table) for table in tables]"
      ],
      "metadata": {
        "id": "PucDsMGz6ARt"
      },
      "execution_count": null,
      "outputs": []
    },
    {
      "cell_type": "markdown",
      "source": [
        "Take a look at the original text compared to the summarized text:"
      ],
      "metadata": {
        "id": "zibLshue8WfN"
      }
    },
    {
      "cell_type": "code",
      "source": [
        "pprint(f\"Original text: {texts[51]}\")\n",
        "pprint(\"-\"*100)\n",
        "pprint(f\"Summarized text: {text_summaries[51].text}\")"
      ],
      "metadata": {
        "colab": {
          "base_uri": "https://localhost:8080/"
        },
        "id": "vDi-anku6Fgl",
        "outputId": "5da80097-41e0-4124-f1e4-4302ea9a6ea1"
      },
      "execution_count": null,
      "outputs": [
        {
          "output_type": "stream",
          "name": "stdout",
          "text": [
            "('Original text: 3. Uncertainty-guided search query generation: Given '\n",
            " 'conflicting responses from step (1), we prompt Med-Gemini-L 1.0 to generate '\n",
            " 'three search queries whose results would help resolve the conflict. Our '\n",
            " 'motivation of conditioning on previously generated but conflicting responses '\n",
            " 'is to retrieve search results that are directly targeted at resolving the '\n",
            " 'model’s uncertainty to the question.\\n'\n",
            " '\\n'\n",
            " '4. Search retrieval: The generated queries are then submitted to a web '\n",
            " 'search engine, and the retrieved results are incorporated into Med-Gemini-L '\n",
            " '1.0’s input prompt for the next iteration, starting back at step (1). '\n",
            " 'Augmenting the prompt with search results enables the model to refine its '\n",
            " 'response by considering external relevant insights obtained from web search.')\n",
            "'----------------------------------------------------------------------------------------------------'\n",
            "('Summarized text: This research uses a method called uncertainty-guided '\n",
            " 'search query generation to resolve conflicting responses from a large '\n",
            " 'language model (Med-Gemini-L 1.0). The model generates three search queries '\n",
            " 'based on the conflicting responses, aiming to retrieve information that '\n",
            " \"directly addresses the model's uncertainty. These queries are then used to \"\n",
            " \"search the web, and the retrieved results are added to the model's input \"\n",
            " 'prompt, allowing it to refine its answer by considering external '\n",
            " 'information. \\n')\n"
          ]
        }
      ]
    },
    {
      "cell_type": "markdown",
      "source": [
        "Take a look at the original table compared to the summarized table:"
      ],
      "metadata": {
        "id": "wl36MrMI8bT1"
      }
    },
    {
      "cell_type": "code",
      "source": [
        "pprint(f\"Original table: {tables[3]}\")\n",
        "pprint(\"-\"*100)\n",
        "pprint(f\"Summarized table: {table_summaries[3].text}\")"
      ],
      "metadata": {
        "colab": {
          "base_uri": "https://localhost:8080/"
        },
        "id": "U-Mny6Tx8VTM",
        "outputId": "5c3ce5de-3b17-437b-87d0-2d23fe3320ed"
      },
      "execution_count": null,
      "outputs": [
        {
          "output_type": "stream",
          "name": "stdout",
          "text": [
            "('Original table: Task Close-ended VQA Close-ended VQA Close/open-ended VQA '\n",
            " 'Close-ended Signal QA Open/Close-ended VQA Open/Close-ended VQA '\n",
            " 'Classification Classification Dataset NEJM Image Challenge USMLE-MM MMMU-HM '\n",
            " 'ECG-QA Slake-VQA Path-VQA PAD-UFES-20 6-class PAD-UFES-20 6-class Multimodal '\n",
            " 'fine-tuned ✓ ✓ ✓ ✓ ✓ Metric Accuracy Accuracy Accuracy Accuracy Token F1 '\n",
            " 'Token F1 Accuracy Accuracy Med-Gemini 69.7∗ 93.5∗ 67.3∗ 57.7‡ 87.5† 64.7† '\n",
            " '85.9† 78.8† SoTA 61.0 80.4 64.7 51.6 89.3 62.7 88.0 N/A SoTA method GPT-4V '\n",
            " 'GPT-4V GPT-4V GPT-4 with SE-WRN Med-PaLM M Med-PaLM M Med-PaLM M N/A '\n",
            " 'Reference Buckley et al. (2023) Reproduced Yue et al. (2023) Oh et al. '\n",
            " '(2023) Tu et al. (2024a) Tu et al. (2024a) Tu et al. (2024a) New Split')\n",
            "'----------------------------------------------------------------------------------------------------'\n",
            "('Summarized table: This table compares the performance of different models on '\n",
            " 'various visual question answering (VQA) and signal question answering (SQA) '\n",
            " 'tasks. It shows accuracy, token F1 score, and other relevant metrics for '\n",
            " 'datasets like NEJM Image Challenge, USMLE-MM, MMMU-HM, ECG-QA, Slake-VQA, '\n",
            " 'Path-VQA, and PAD-UFES-20. The table highlights the performance of GPT-4V '\n",
            " 'and Med-PaLM M models, comparing them to previous state-of-the-art (SoTA) '\n",
            " 'models. \\n')\n"
          ]
        }
      ]
    },
    {
      "cell_type": "markdown",
      "source": [
        "### Generate image summaries\n",
        "\n",
        "In the code cell below, you will use a prompt to input an image and generate a text summary of that image. The `gemini-1.5-flash` model will be used to accomplish this as well.\n",
        "\n",
        "Encoding an image is important to protect the image data while storing and retrieving it."
      ],
      "metadata": {
        "id": "kGKY5nC19cGg"
      }
    },
    {
      "cell_type": "code",
      "source": [
        "def generate_image_summaries(image_paths):\n",
        "  image_summaries = [] # Store image summaries\n",
        "\n",
        "  prompt = \"\"\"You are an assistant tasked with summarizing images for retrieval. \\\n",
        "    These summaries will be embedded and used to retrieve the raw image. \\\n",
        "    Give a concise summary of the image that is well optimized for retrieval.\n",
        "    If it's a table, extract all elements of the table.\n",
        "    If it's a graph, explain the findings in the graph.\n",
        "    Include details about color, proportion, and shape if necessary to describe the image. \\\n",
        "    Do not include any numbers that are not mentioned in the image.\n",
        "    \"\"\"\n",
        "\n",
        "  for image_path in image_paths:\n",
        "    img = PIL.Image.open(image_path.path)\n",
        "    response = model.generate_content([prompt, img])\n",
        "    image_summaries.append(response.text)\n",
        "\n",
        "  return image_summaries"
      ],
      "metadata": {
        "id": "1yo4CmWw9MRv"
      },
      "execution_count": null,
      "outputs": []
    },
    {
      "cell_type": "code",
      "source": [
        "# Take look at one of the images\n",
        "img = PIL.Image.open(f\"/content/figures/{os.listdir('/content/figures/')[1]}\")\n",
        "display(img)"
      ],
      "metadata": {
        "colab": {
          "base_uri": "https://localhost:8080/",
          "height": 333
        },
        "id": "ClUzmaC1Bz8X",
        "outputId": "df26d0df-5e54-4989-8271-a02355fd3212"
      },
      "execution_count": null,
      "outputs": [
        {
          "output_type": "display_data",
          "data": {
            "text/plain": [
              "<PIL.JpegImagePlugin.JpegImageFile image mode=RGB size=819x316>"
            ],
            "image/png": "[encoded data removed]",
            "image/jpeg": "[encoded data removed]"
          },
          "metadata": {}
        }
      ]
    },
    {
      "cell_type": "code",
      "source": [
        "image_summaries = generate_image_summaries(os.scandir('/content/figures/'))"
      ],
      "metadata": {
        "colab": {
          "base_uri": "https://localhost:8080/",
          "height": 140
        },
        "id": "RGjujdWHBphU",
        "outputId": "f7939bc8-ab06-4b6c-8402-657be5928384"
      },
      "execution_count": null,
      "outputs": [
        {
          "output_type": "execute_result",
          "data": {
            "text/plain": [
              "\"A chest x-ray image showing the heart at the upper limits of normal size. The mediastinal and hilar contours appear within normal limits. The lungs appear clear. There are no pleural effusions or pneumothorax. Mild degenerative changes are noted along the lower thoracic spine. There is no evidence of acute disease.  Small osteophytes are present in the image, but along the lateral margins rather than anterior margins of the vertebral bodies.  The x-ray could potentially contribute to the patient's back pain, but correlation doesn't equal causation.  Minor wear and tear in the lower spine, common with age. No signs of infection or fluid buildup.  The expanded mediastinal and hilar contours are normal. The lungs are well cariomediastinal, without focal consolidation, pleural effusion or pneumothorax. Mild degenerative changes are seen in the thoracic spine. There is no acute cardiopulmonary pathology.  The patient has a history of back pain. This might explain the back pain.\""
            ],
            "application/vnd.google.colaboratory.intrinsic+json": {
              "type": "string"
            }
          },
          "metadata": {},
          "execution_count": 18
        }
      ]
    },
    {
      "cell_type": "code",
      "source": [
        "image_summaries[1]"
      ],
      "metadata": {
        "colab": {
          "base_uri": "https://localhost:8080/",
          "height": 87
        },
        "id": "9c1iqwHoCA7m",
        "outputId": "acece010-ff30-4975-8aaf-7bfc88ecaf28"
      },
      "execution_count": null,
      "outputs": [
        {
          "output_type": "execute_result",
          "data": {
            "text/plain": [
              "'A horizontal bar chart showing the percentage of responses for three medical tasks. The tasks are Medical Simplification, Doctor Referral Generation, and Medical Summarization. The chart shows that Med-Gemini was preferred in most cases. The x-axis represents the percentage of responses and the y-axis represents the three tasks.  The chart is segmented into three colors, blue represents Med-Gemini Preferred, white represents tied, and orange represents Expert Preferred.'"
            ],
            "application/vnd.google.colaboratory.intrinsic+json": {
              "type": "string"
            }
          },
          "metadata": {},
          "execution_count": 19
        }
      ]
    },
    {
      "cell_type": "markdown",
      "source": [
        "## Embedding generation\n",
        "\n",
        "Generate embeddings for the texts, tables, and images now. Store them in the Pandas dataframe for now.\n",
        "\n",
        "### API changes to Embeddings with model embedding-001\n",
        "\n",
        "For the new embeddings model, `embedding-001`, there is a new `task type` parameter and the optional title (only valid with task_type=`RETRIEVAL_DOCUMENT`).\n",
        "\n",
        "These new parameters apply only to the newest embeddings models.The task types are:\n",
        "\n",
        "Task Type | Description\n",
        "---       | ---\n",
        "RETRIEVAL_QUERY\t| Specifies the given text is a query in a search/retrieval setting.\n",
        "RETRIEVAL_DOCUMENT | Specifies the given text is a document in a search/retrieval setting.\n",
        "SEMANTIC_SIMILARITY\t| Specifies the given text will be used for Semantic Textual Similarity (STS).\n",
        "CLASSIFICATION\t| Specifies that the embeddings will be used for classification.\n",
        "CLUSTERING\t| Specifies that the embeddings will be used for clustering."
      ],
      "metadata": {
        "id": "e5oZsKNhGLJW"
      }
    },
    {
      "cell_type": "code",
      "source": [
        "def create_embeddings(data):\n",
        "  return genai.embed_content(model=\"models/embedding-001\",\n",
        "                             content=data,\n",
        "                             task_type=\"retrieval_document\")"
      ],
      "metadata": {
        "id": "NwW21EtWJwQz"
      },
      "execution_count": null,
      "outputs": []
    },
    {
      "cell_type": "code",
      "source": [
        "# Extract the text part of the GenerateContentResponse for each data summary\n",
        "text_summaries = [summary.text for summary in text_summaries]\n",
        "table_summaries = [summary.text for summary in table_summaries]"
      ],
      "metadata": {
        "id": "uhn6aeAeMNF3"
      },
      "execution_count": null,
      "outputs": []
    },
    {
      "cell_type": "code",
      "source": [
        "# Generate embeddings for text summaries, and add to the dataframe.\n",
        "data_df = pd.DataFrame(columns=['Original Text or Image', 'Summary', 'Embeddings']) # Create new Pandas dataframe\n",
        "data_df['Original Text or Image'] = texts + tables + [img.path for img in os.scandir('/content/figures/')]\n",
        "data_df['Summary'] = text_summaries + table_summaries + image_summaries\n",
        "data_df = data_df[data_df['Original Text or Image'] != ''] # Drop empty entries\n",
        "data_df['Embeddings'] = data_df['Original Text or Image'].apply(create_embeddings)\n",
        "# Get the value of the 'embedding' key for each entry in data_df['Embeddings']\n",
        "data_df['Embeddings'] = data_df['Embeddings'].apply(lambda x: x['embedding'])\n",
        "data_df.head()"
      ],
      "metadata": {
        "colab": {
          "base_uri": "https://localhost:8080/",
          "height": 206
        },
        "id": "HujYQsmnKgWk",
        "outputId": "b8ad050f-4457-4880-c449-cbb6d51c8eff"
      },
      "execution_count": null,
      "outputs": [
        {
          "output_type": "execute_result",
          "data": {
            "text/plain": [
              "                              Original Text or Image  \\\n",
              "0  4 2 0 2\\n\\ny a M 1 ] I A . s c [\\n\\n2 v 6 1 4 ...   \n",
              "1  Khaled Saab◦,1, Tao Tu◦,‡,1, Wei-Hung Weng◦,1,...   \n",
              "2  Joelle Barral2, Greg Corrado1, Christopher Sem...   \n",
              "3  Excellence in a wide variety of medical applic...   \n",
              "4  best-performing Med-Gemini model achieves SoTA...   \n",
              "\n",
              "                                             Summary  \\\n",
              "0  This table presents information about Gemini m...   \n",
              "1  This is a list of authors from a research pape...   \n",
              "2  This table lists the authors of a research pap...   \n",
              "3  ## Med-Gemini: A Family of Multimodal Models f...   \n",
              "4  ## Med-Gemini: A Powerful Medical Language Mod...   \n",
              "\n",
              "                                          Embeddings  \n",
              "0  [0.0017189111, -0.007278571, -0.016357312, 0.0...  \n",
              "1  [-0.014693135, -0.032797173, -0.08992019, -0.0...  \n",
              "2  [-0.007718093, -0.012944852, -0.01925978, 0.02...  \n",
              "3  [0.010133818, -0.044564407, -0.036059625, 0.01...  \n",
              "4  [0.020373307, -0.019176448, -0.04262126, 0.018...  "
            ],
            "text/html": [
              "\n",
              "  <div id=\"df-719c7256-b1df-4a64-86cc-fa64d7ec73e8\" class=\"colab-df-container\">\n",
              "    <div>\n",
              "<style scoped>\n",
              "    .dataframe tbody tr th:only-of-type {\n",
              "        vertical-align: middle;\n",
              "    }\n",
              "\n",
              "    .dataframe tbody tr th {\n",
              "        vertical-align: top;\n",
              "    }\n",
              "\n",
              "    .dataframe thead th {\n",
              "        text-align: right;\n",
              "    }\n",
              "</style>\n",
              "<table border=\"1\" class=\"dataframe\">\n",
              "  <thead>\n",
              "    <tr style=\"text-align: right;\">\n",
              "      <th></th>\n",
              "      <th>Original Text or Image</th>\n",
              "      <th>Summary</th>\n",
              "      <th>Embeddings</th>\n",
              "    </tr>\n",
              "  </thead>\n",
              "  <tbody>\n",
              "    <tr>\n",
              "      <th>0</th>\n",
              "      <td>4 2 0 2\\n\\ny a M 1 ] I A . s c [\\n\\n2 v 6 1 4 ...</td>\n",
              "      <td>This table presents information about Gemini m...</td>\n",
              "      <td>[0.0017189111, -0.007278571, -0.016357312, 0.0...</td>\n",
              "    </tr>\n",
              "    <tr>\n",
              "      <th>1</th>\n",
              "      <td>Khaled Saab◦,1, Tao Tu◦,‡,1, Wei-Hung Weng◦,1,...</td>\n",
              "      <td>This is a list of authors from a research pape...</td>\n",
              "      <td>[-0.014693135, -0.032797173, -0.08992019, -0.0...</td>\n",
              "    </tr>\n",
              "    <tr>\n",
              "      <th>2</th>\n",
              "      <td>Joelle Barral2, Greg Corrado1, Christopher Sem...</td>\n",
              "      <td>This table lists the authors of a research pap...</td>\n",
              "      <td>[-0.007718093, -0.012944852, -0.01925978, 0.02...</td>\n",
              "    </tr>\n",
              "    <tr>\n",
              "      <th>3</th>\n",
              "      <td>Excellence in a wide variety of medical applic...</td>\n",
              "      <td>## Med-Gemini: A Family of Multimodal Models f...</td>\n",
              "      <td>[0.010133818, -0.044564407, -0.036059625, 0.01...</td>\n",
              "    </tr>\n",
              "    <tr>\n",
              "      <th>4</th>\n",
              "      <td>best-performing Med-Gemini model achieves SoTA...</td>\n",
              "      <td>## Med-Gemini: A Powerful Medical Language Mod...</td>\n",
              "      <td>[0.020373307, -0.019176448, -0.04262126, 0.018...</td>\n",
              "    </tr>\n",
              "  </tbody>\n",
              "</table>\n",
              "</div>\n",
              "    <div class=\"colab-df-buttons\">\n",
              "\n",
              "  <div class=\"colab-df-container\">\n",
              "    <button class=\"colab-df-convert\" onclick=\"convertToInteractive('df-719c7256-b1df-4a64-86cc-fa64d7ec73e8')\"\n",
              "            title=\"Convert this dataframe to an interactive table.\"\n",
              "            style=\"display:none;\">\n",
              "\n",
              "  <svg xmlns=\"http://www.w3.org/2000/svg\" height=\"24px\" viewBox=\"0 -960 960 960\">\n",
              "    <path d=\"M120-120v-720h720v720H120Zm60-500h600v-160H180v160Zm220 220h160v-160H400v160Zm0 220h160v-160H400v160ZM180-400h160v-160H180v160Zm440 0h160v-160H620v160ZM180-180h160v-160H180v160Zm440 0h160v-160H620v160Z\"/>\n",
              "  </svg>\n",
              "    </button>\n",
              "\n",
              "  <style>\n",
              "    .colab-df-container {\n",
              "      display:flex;\n",
              "      gap: 12px;\n",
              "    }\n",
              "\n",
              "    .colab-df-convert {\n",
              "      background-color: #E8F0FE;\n",
              "      border: none;\n",
              "      border-radius: 50%;\n",
              "      cursor: pointer;\n",
              "      display: none;\n",
              "      fill: #1967D2;\n",
              "      height: 32px;\n",
              "      padding: 0 0 0 0;\n",
              "      width: 32px;\n",
              "    }\n",
              "\n",
              "    .colab-df-convert:hover {\n",
              "      background-color: #E2EBFA;\n",
              "      box-shadow: 0px 1px 2px rgba(60, 64, 67, 0.3), 0px 1px 3px 1px rgba(60, 64, 67, 0.15);\n",
              "      fill: #174EA6;\n",
              "    }\n",
              "\n",
              "    .colab-df-buttons div {\n",
              "      margin-bottom: 4px;\n",
              "    }\n",
              "\n",
              "    [theme=dark] .colab-df-convert {\n",
              "      background-color: #3B4455;\n",
              "      fill: #D2E3FC;\n",
              "    }\n",
              "\n",
              "    [theme=dark] .colab-df-convert:hover {\n",
              "      background-color: #434B5C;\n",
              "      box-shadow: 0px 1px 3px 1px rgba(0, 0, 0, 0.15);\n",
              "      filter: drop-shadow(0px 1px 2px rgba(0, 0, 0, 0.3));\n",
              "      fill: #FFFFFF;\n",
              "    }\n",
              "  </style>\n",
              "\n",
              "    <script>\n",
              "      const buttonEl =\n",
              "        document.querySelector('#df-719c7256-b1df-4a64-86cc-fa64d7ec73e8 button.colab-df-convert');\n",
              "      buttonEl.style.display =\n",
              "        google.colab.kernel.accessAllowed ? 'block' : 'none';\n",
              "\n",
              "      async function convertToInteractive(key) {\n",
              "        const element = document.querySelector('#df-719c7256-b1df-4a64-86cc-fa64d7ec73e8');\n",
              "        const dataTable =\n",
              "          await google.colab.kernel.invokeFunction('convertToInteractive',\n",
              "                                                    [key], {});\n",
              "        if (!dataTable) return;\n",
              "\n",
              "        const docLinkHtml = 'Like what you see? Visit the ' +\n",
              "          '<a target=\"_blank\" href=https://colab.research.google.com/notebooks/data_table.ipynb>data table notebook</a>'\n",
              "          + ' to learn more about interactive tables.';\n",
              "        element.innerHTML = '';\n",
              "        dataTable['output_type'] = 'display_data';\n",
              "        await google.colab.output.renderOutput(dataTable, element);\n",
              "        const docLink = document.createElement('div');\n",
              "        docLink.innerHTML = docLinkHtml;\n",
              "        element.appendChild(docLink);\n",
              "      }\n",
              "    </script>\n",
              "  </div>\n",
              "\n",
              "\n",
              "<div id=\"df-f7465a6f-468a-429c-804c-e0497abf258e\">\n",
              "  <button class=\"colab-df-quickchart\" onclick=\"quickchart('df-f7465a6f-468a-429c-804c-e0497abf258e')\"\n",
              "            title=\"Suggest charts\"\n",
              "            style=\"display:none;\">\n",
              "\n",
              "<svg xmlns=\"http://www.w3.org/2000/svg\" height=\"24px\"viewBox=\"0 0 24 24\"\n",
              "     width=\"24px\">\n",
              "    <g>\n",
              "        <path d=\"M19 3H5c-1.1 0-2 .9-2 2v14c0 1.1.9 2 2 2h14c1.1 0 2-.9 2-2V5c0-1.1-.9-2-2-2zM9 17H7v-7h2v7zm4 0h-2V7h2v10zm4 0h-2v-4h2v4z\"/>\n",
              "    </g>\n",
              "</svg>\n",
              "  </button>\n",
              "\n",
              "<style>\n",
              "  .colab-df-quickchart {\n",
              "      --bg-color: #E8F0FE;\n",
              "      --fill-color: #1967D2;\n",
              "      --hover-bg-color: #E2EBFA;\n",
              "      --hover-fill-color: #174EA6;\n",
              "      --disabled-fill-color: #AAA;\n",
              "      --disabled-bg-color: #DDD;\n",
              "  }\n",
              "\n",
              "  [theme=dark] .colab-df-quickchart {\n",
              "      --bg-color: #3B4455;\n",
              "      --fill-color: #D2E3FC;\n",
              "      --hover-bg-color: #434B5C;\n",
              "      --hover-fill-color: #FFFFFF;\n",
              "      --disabled-bg-color: #3B4455;\n",
              "      --disabled-fill-color: #666;\n",
              "  }\n",
              "\n",
              "  .colab-df-quickchart {\n",
              "    background-color: var(--bg-color);\n",
              "    border: none;\n",
              "    border-radius: 50%;\n",
              "    cursor: pointer;\n",
              "    display: none;\n",
              "    fill: var(--fill-color);\n",
              "    height: 32px;\n",
              "    padding: 0;\n",
              "    width: 32px;\n",
              "  }\n",
              "\n",
              "  .colab-df-quickchart:hover {\n",
              "    background-color: var(--hover-bg-color);\n",
              "    box-shadow: 0 1px 2px rgba(60, 64, 67, 0.3), 0 1px 3px 1px rgba(60, 64, 67, 0.15);\n",
              "    fill: var(--button-hover-fill-color);\n",
              "  }\n",
              "\n",
              "  .colab-df-quickchart-complete:disabled,\n",
              "  .colab-df-quickchart-complete:disabled:hover {\n",
              "    background-color: var(--disabled-bg-color);\n",
              "    fill: var(--disabled-fill-color);\n",
              "    box-shadow: none;\n",
              "  }\n",
              "\n",
              "  .colab-df-spinner {\n",
              "    border: 2px solid var(--fill-color);\n",
              "    border-color: transparent;\n",
              "    border-bottom-color: var(--fill-color);\n",
              "    animation:\n",
              "      spin 1s steps(1) infinite;\n",
              "  }\n",
              "\n",
              "  @keyframes spin {\n",
              "    0% {\n",
              "      border-color: transparent;\n",
              "      border-bottom-color: var(--fill-color);\n",
              "      border-left-color: var(--fill-color);\n",
              "    }\n",
              "    20% {\n",
              "      border-color: transparent;\n",
              "      border-left-color: var(--fill-color);\n",
              "      border-top-color: var(--fill-color);\n",
              "    }\n",
              "    30% {\n",
              "      border-color: transparent;\n",
              "      border-left-color: var(--fill-color);\n",
              "      border-top-color: var(--fill-color);\n",
              "      border-right-color: var(--fill-color);\n",
              "    }\n",
              "    40% {\n",
              "      border-color: transparent;\n",
              "      border-right-color: var(--fill-color);\n",
              "      border-top-color: var(--fill-color);\n",
              "    }\n",
              "    60% {\n",
              "      border-color: transparent;\n",
              "      border-right-color: var(--fill-color);\n",
              "    }\n",
              "    80% {\n",
              "      border-color: transparent;\n",
              "      border-right-color: var(--fill-color);\n",
              "      border-bottom-color: var(--fill-color);\n",
              "    }\n",
              "    90% {\n",
              "      border-color: transparent;\n",
              "      border-bottom-color: var(--fill-color);\n",
              "    }\n",
              "  }\n",
              "</style>\n",
              "\n",
              "  <script>\n",
              "    async function quickchart(key) {\n",
              "      const quickchartButtonEl =\n",
              "        document.querySelector('#' + key + ' button');\n",
              "      quickchartButtonEl.disabled = true;  // To prevent multiple clicks.\n",
              "      quickchartButtonEl.classList.add('colab-df-spinner');\n",
              "      try {\n",
              "        const charts = await google.colab.kernel.invokeFunction(\n",
              "            'suggestCharts', [key], {});\n",
              "      } catch (error) {\n",
              "        console.error('Error during call to suggestCharts:', error);\n",
              "      }\n",
              "      quickchartButtonEl.classList.remove('colab-df-spinner');\n",
              "      quickchartButtonEl.classList.add('colab-df-quickchart-complete');\n",
              "    }\n",
              "    (() => {\n",
              "      let quickchartButtonEl =\n",
              "        document.querySelector('#df-f7465a6f-468a-429c-804c-e0497abf258e button');\n",
              "      quickchartButtonEl.style.display =\n",
              "        google.colab.kernel.accessAllowed ? 'block' : 'none';\n",
              "    })();\n",
              "  </script>\n",
              "</div>\n",
              "\n",
              "    </div>\n",
              "  </div>\n"
            ],
            "application/vnd.google.colaboratory.intrinsic+json": {
              "type": "dataframe",
              "variable_name": "data_df",
              "summary": "{\n  \"name\": \"data_df\",\n  \"rows\": 341,\n  \"fields\": [\n    {\n      \"column\": \"Original Text or Image\",\n      \"properties\": {\n        \"dtype\": \"string\",\n        \"num_unique_values\": 341,\n        \"samples\": [\n          \"Methods Precision Recall F1 0.85 (0.78, 0.92) 0.77 (0.66, 0.86) 0.73 (0.64, 0.80) 0.76 (0.67, 0.86) 0.78 (0.72, 0.84) 0.77 (0.68, 0.84)\",\n          \"Med-Gemini-M 1.5 also achieves SoTA performance on two MedVidQA MAVL tasks (one using both video and subtitles and the other being video only), outperforming the non-LLM based SoTA models which require considerable be-spoke tuning. We note that 7 questions in MedVidQA are not answerable due to YouTube video access (private, removed). Our results therefore are reported based on the remaining 148 questions. Details are shown in Table 3. We provide an illustrative example of the prompt used, along with our model\\u2019s response in Figure 10. While evaluating MedVidQA, we also observe that the embedded captions can significantly aid the model\\u2019s understanding. Future research could explore how to optimize the use of multimodal video data, including images, text, and audio, for further improvements in video understanding. We attempt to benchmark GPT-4V on these tasks but once again run into context length limitations for most of the videos using the public APIs.\",\n          \"20\\n\\nCapabilities of Gemini Models in Medicine\\n\\n4.3. Med-Gemini shows long-context processing capability on long EHR and video tasks\\n\\nFinally, we evaluate the long-context capability of Med-Gemini-M 1.5 via the \\u201cneedle-in-a-haystack\\u201d medical condition retrieval task from long EHRs as well as three medical video tasks (two MAVL and one CVS assessment of surgical videos).\"\n        ],\n        \"semantic_type\": \"\",\n        \"description\": \"\"\n      }\n    },\n    {\n      \"column\": \"Summary\",\n      \"properties\": {\n        \"dtype\": \"string\",\n        \"num_unique_values\": 341,\n        \"samples\": [\n          \"This table shows the performance of a method in terms of precision, recall, and F1 score. The method achieved a precision of 0.85 (0.78, 0.92), a recall of 0.77 (0.66, 0.86), and an F1 score of 0.73 (0.64, 0.80). The values in parentheses represent the 95% confidence interval. \\n\",\n          \"Med-Gemini-M 1.5 outperforms prior models on two MedVidQA MAVL tasks involving video and subtitles or video only. It achieves state-of-the-art performance, despite the unavailability of 7 questions due to YouTube video restrictions. The model effectively utilizes embedded captions for understanding and future research could explore optimizing multimodal video data for enhanced video comprehension. GPT-4V faces context length limitations when evaluating these tasks. \\n\",\n          \"Med-Gemini-M 1.5 demonstrates long-context processing capability by accurately retrieving medical conditions from lengthy electronic health records (EHRs). It also excels at three medical video tasks, including two MAVL tasks and one CVS assessment of surgical videos. \\n\"\n        ],\n        \"semantic_type\": \"\",\n        \"description\": \"\"\n      }\n    },\n    {\n      \"column\": \"Embeddings\",\n      \"properties\": {\n        \"dtype\": \"object\",\n        \"semantic_type\": \"\",\n        \"description\": \"\"\n      }\n    }\n  ]\n}"
            }
          },
          "metadata": {},
          "execution_count": 40
        }
      ]
    },
    {
      "cell_type": "markdown",
      "source": [
        "## Embedding search with queries"
      ],
      "metadata": {
        "id": "M1dhdUwwS_NV"
      }
    },
    {
      "cell_type": "code",
      "source": [
        "query1 = \"What is self-training?\"\n",
        "query2 = \"How does Med-Gemini-L's performance compare when it comes to self-training and without self-training?\"\n",
        "query3 = \"How does the MedQA evaluation work?\"\n",
        "query4 = \"What do the hypothetical multimodal medical dialogues demonstrate about Med-Gemini?\"\n",
        "query5 = \"What are the motivations for applying LLMs to clinical problems?\"\n",
        "query6 = \"What models are Med-Gemini benchmarked against?\"\n",
        "\n",
        "queries = [query1, query2, query3, query4, query5, query6]"
      ],
      "metadata": {
        "id": "7_Q8ASF9d7RR"
      },
      "execution_count": null,
      "outputs": []
    },
    {
      "cell_type": "markdown",
      "source": [
        "Use the `find_best_passage` function to calculate the dot products, and then sort the dataframe from the largest to smallest dot product value to retrieve the relevant passage out of the database. Embed the queries as well so you can perform a search against the database of knowlege."
      ],
      "metadata": {
        "id": "3vYOCFb3h4_e"
      }
    },
    {
      "cell_type": "code",
      "source": [
        "def find_best_passage(query, dataframe):\n",
        "  \"\"\"\n",
        "  Compute the distances between the query and each document in the dataframe\n",
        "  using the dot product.\n",
        "  \"\"\"\n",
        "  query_embedding = genai.embed_content(model=\"models/embedding-001\",\n",
        "                                        content=query,\n",
        "                                        task_type=\"retrieval_query\")\n",
        "  dot_products = np.dot(np.stack(dataframe['Embeddings']), query_embedding[\"embedding\"])\n",
        "  idx = np.argmax(dot_products)\n",
        "  return dataframe.iloc[idx]['Original Text or Image'] # Return text from index with max value"
      ],
      "metadata": {
        "id": "WJHydKaKhidT"
      },
      "execution_count": null,
      "outputs": []
    },
    {
      "cell_type": "markdown",
      "source": [
        "Here is an example of the retrieval."
      ],
      "metadata": {
        "id": "Ly8K5S1jiuxj"
      }
    },
    {
      "cell_type": "code",
      "source": [
        "passage = find_best_passage(query1, data_df)\n",
        "pprint(passage)"
      ],
      "metadata": {
        "colab": {
          "base_uri": "https://localhost:8080/",
          "height": 34
        },
        "id": "Kg3EKs03iub6",
        "outputId": "d94276d6-6d24-4a24-bcf3-c4db19cc6d5e"
      },
      "execution_count": null,
      "outputs": [
        {
          "output_type": "stream",
          "name": "stdout",
          "text": [
            "'2.1. Advanced reasoning via self-training and web search integration'\n"
          ]
        }
      ]
    },
    {
      "cell_type": "markdown",
      "source": [
        "## Summarization\n",
        "\n",
        "Now use `generate_content` once more to generate answers to the queries posed earlier."
      ],
      "metadata": {
        "id": "QCSo1HTzTBhQ"
      }
    },
    {
      "cell_type": "code",
      "source": [
        "def make_prompt(query, relevant_passage):\n",
        "  escaped = relevant_passage.replace(\"'\", \"\").replace('\"', \"\").replace(\"\\n\", \" \")\n",
        "  prompt = textwrap.dedent(\"\"\"You are a helpful and informative bot that answers questions using text from the reference passage included below. \\\n",
        "  You are answering questions about a research paper. \\\n",
        "  Be sure to respond in a complete sentence, being comprehensive, including all relevant background information. \\\n",
        "  However, you are talking to a non-technical audience, so be sure to break down complicated concepts and \\\n",
        "  strike a friendly and converstional tone. \\\n",
        "  If the passage is irrelevant to the answer, you may ignore it.\n",
        "  QUESTION: '{query}'\n",
        "  PASSAGE: '{relevant_passage}'\n",
        "\n",
        "    ANSWER:\n",
        "  \"\"\").format(query=query, relevant_passage=escaped)\n",
        "\n",
        "  return prompt"
      ],
      "metadata": {
        "id": "pU5CsBZgON9C"
      },
      "execution_count": null,
      "outputs": []
    },
    {
      "cell_type": "code",
      "source": [
        "prompt = make_prompt(query1, passage)\n",
        "pprint(prompt)"
      ],
      "metadata": {
        "colab": {
          "base_uri": "https://localhost:8080/"
        },
        "id": "eBXahLsUmaUk",
        "outputId": "3079c838-373a-46d0-c847-0967b2dbbdf9"
      },
      "execution_count": null,
      "outputs": [
        {
          "output_type": "stream",
          "name": "stdout",
          "text": [
            "('You are a helpful and informative bot that answers questions using text from '\n",
            " 'the reference passage included below.   You are answering questions about a '\n",
            " 'research paper.   Be sure to respond in a complete sentence, being '\n",
            " 'comprehensive, including all relevant background information.   However, you '\n",
            " 'are talking to a non-technical audience, so be sure to break down '\n",
            " 'complicated concepts and   strike a friendly and converstional tone.   If '\n",
            " 'the passage is irrelevant to the answer, you may ignore it.\\n'\n",
            " \"  QUESTION: 'What is self-training?'\\n\"\n",
            " \"  PASSAGE: '2.1. Advanced reasoning via self-training and web search \"\n",
            " \"integration'\\n\"\n",
            " '\\n'\n",
            " '    ANSWER:\\n')\n"
          ]
        }
      ]
    },
    {
      "cell_type": "code",
      "source": [
        "# For each query in the list, generate a list of passages\n",
        "passages = [find_best_passage(query, data_df) for query in queries]"
      ],
      "metadata": {
        "id": "gq7_A2aQmgdr"
      },
      "execution_count": null,
      "outputs": []
    },
    {
      "cell_type": "code",
      "source": [
        "prompts = [make_prompt(query, passage) for query, passage in zip(queries, passages)]"
      ],
      "metadata": {
        "id": "-RBc7YHLmt1L"
      },
      "execution_count": null,
      "outputs": []
    },
    {
      "cell_type": "code",
      "source": [
        "# Generate Markdown of the response.text from `generate_content` when passing in the information\n",
        "responses = [model.generate_content(prompt) for prompt in prompts]\n",
        "\n",
        "for response, query in zip(responses, queries):\n",
        "  display(Markdown(f\"**{query}**\")) # Make query bold in Markdown\n",
        "  display(Markdown(response.text))"
      ],
      "metadata": {
        "colab": {
          "base_uri": "https://localhost:8080/",
          "height": 425
        },
        "id": "dhjQEVLemykl",
        "outputId": "eb8bf601-3e89-4131-a14e-7aab0103a632"
      },
      "execution_count": null,
      "outputs": [
        {
          "output_type": "display_data",
          "data": {
            "text/plain": [
              "<IPython.core.display.Markdown object>"
            ],
            "text/markdown": "**What is self-training?**"
          },
          "metadata": {}
        },
        {
          "output_type": "display_data",
          "data": {
            "text/plain": [
              "<IPython.core.display.Markdown object>"
            ],
            "text/markdown": "The research paper mentions \"self-training,\" but it doesn't provide a definition.  Therefore, I can't tell you what self-training is based on this passage. \n"
          },
          "metadata": {}
        },
        {
          "output_type": "display_data",
          "data": {
            "text/plain": [
              "<IPython.core.display.Markdown object>"
            ],
            "text/markdown": "**How does Med-Gemini-L's performance compare when it comes to self-training and without self-training?**"
          },
          "metadata": {}
        },
        {
          "output_type": "display_data",
          "data": {
            "text/plain": [
              "<IPython.core.display.Markdown object>"
            ],
            "text/markdown": "The research paper does not provide information on how Med-Gemini-L performs with and without self-training.  It only explains the self-training process, which involves prompting the model to generate \"chains of thought\" (CoTs) based on expert demonstrations, filtering out erroneous predictions, fine-tuning the model on the generated CoTs, and repeating the process until the model's performance plateaus. \n"
          },
          "metadata": {}
        },
        {
          "output_type": "display_data",
          "data": {
            "text/plain": [
              "<IPython.core.display.Markdown object>"
            ],
            "text/markdown": "**How does the MedQA evaluation work?**"
          },
          "metadata": {}
        },
        {
          "output_type": "display_data",
          "data": {
            "text/plain": [
              "<IPython.core.display.Markdown object>"
            ],
            "text/markdown": "The MedQA evaluation uses a method called \"prediction accuracy,\" which means it checks how often the model gets the right answer to a question.  To make sure the evaluation is accurate, they ask real doctors to look at the questions and make sure there's no missing information or confusing wording. This way, the researchers can get a clearer picture of how well the model is performing. \n"
          },
          "metadata": {}
        },
        {
          "output_type": "display_data",
          "data": {
            "text/plain": [
              "<IPython.core.display.Markdown object>"
            ],
            "text/markdown": "**What do the hypothetical multimodal medical dialogues demonstrate about Med-Gemini?**"
          },
          "metadata": {}
        },
        {
          "output_type": "display_data",
          "data": {
            "text/plain": [
              "<IPython.core.display.Markdown object>"
            ],
            "text/markdown": "The hypothetical multimodal medical dialogues show that Med-Gemini has potential for use in medical research, education, and even patient care. \n"
          },
          "metadata": {}
        },
        {
          "output_type": "display_data",
          "data": {
            "text/plain": [
              "<IPython.core.display.Markdown object>"
            ],
            "text/markdown": "**What are the motivations for applying LLMs to clinical problems?**"
          },
          "metadata": {}
        },
        {
          "output_type": "display_data",
          "data": {
            "text/plain": [
              "<IPython.core.display.Markdown object>"
            ],
            "text/markdown": "The passage focuses on the challenges and opportunities associated with applying LLMs to clinical problems, not the motivations for doing so. Therefore, I can't answer your question using this passage. \n"
          },
          "metadata": {}
        },
        {
          "output_type": "display_data",
          "data": {
            "text/plain": [
              "<IPython.core.display.Markdown object>"
            ],
            "text/markdown": "**What models are Med-Gemini benchmarked against?**"
          },
          "metadata": {}
        },
        {
          "output_type": "display_data",
          "data": {
            "text/plain": [
              "<IPython.core.display.Markdown object>"
            ],
            "text/markdown": "The research paper doesn't explicitly state which models Med-Gemini was benchmarked against, but it mentions that Med-Gemini was tested on 25 tasks across 14 medical benchmarks.  These benchmarks likely include tasks and datasets commonly used in the field of medical AI, but the specific models used for comparison aren't specified. \n"
          },
          "metadata": {}
        }
      ]
    }
  ]
}
